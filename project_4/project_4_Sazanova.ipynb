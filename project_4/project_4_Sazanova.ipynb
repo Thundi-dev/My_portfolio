{
 "cells": [
  {
   "cell_type": "markdown",
   "id": "50745173",
   "metadata": {},
   "source": [
    "# Проект: Статистический анализ данных"
   ]
  },
  {
   "cell_type": "markdown",
   "id": "ed5dc236",
   "metadata": {},
   "source": [
    "Вы аналитик популярного сервиса аренды самокатов GoFast. Вам передали данные о некоторых пользователях из нескольких городов, а также об их поездках. Проанализируйте данные и проверьте некоторые гипотезы, которые могут помочь бизнесу вырасти.\n",
    "Чтобы совершать поездки по городу, пользователи сервиса GoFast пользуются мобильным приложением. Сервисом можно пользоваться:\n",
    "- без подписки\n",
    "   - абонентская плата отсутствует;\n",
    "   - стоимость одной минуты поездки —  8 рублей;\n",
    "   - стоимость старта (начала поездки) — 50 рублей;\n",
    "- с подпиской Ultra\n",
    "   - абонентская плата — 199 рублей в месяц;\n",
    "   - стоимость одной минуты поездки — 6 рублей;\n",
    "   - стоимость старта — бесплатно.\n",
    "   \n",
    "   \n",
    "Цель исследования — Проанализируйте данные и проверьте некоторые гипотезы, которые могут помочь бизнесу вырасти.\n",
    "\n",
    "Ход исследования:\n",
    "\n",
    "- Обзор данных\n",
    "- Предобработка данных\n",
    "- Исследовательский анализ данных\n",
    "- Добавляем новые данные\n",
    "- Объединение данных\n",
    "- Подсчёт выручки\n",
    "- Проверка гипотез\n",
    "- Распределения\n",
    "- Вывод"
   ]
  },
  {
   "cell_type": "code",
   "execution_count": 1,
   "id": "0864cb38",
   "metadata": {},
   "outputs": [],
   "source": [
    "import pandas as pd\n",
    "import pandas as pd\n",
    "import matplotlib.pyplot as plt\n",
    "import seaborn\n",
    "#pd.set_option('max_columns', None)# чтобы выводить все столбцы\n",
    "import numpy as np\n",
    "import scipy.stats as st\n",
    "from math import *\n",
    "from scipy.stats import binom"
   ]
  },
  {
   "cell_type": "markdown",
   "id": "c42cbe00",
   "metadata": {},
   "source": [
    "## Шаг 1. Загрузка данных"
   ]
  },
  {
   "cell_type": "markdown",
   "id": "62d4489a",
   "metadata": {},
   "source": [
    "Пользователи — users\n",
    "- user_id\t- уникальный идентификатор пользователя\n",
    "- name\t- имя пользователя\n",
    "- age\t- возраст\n",
    "- city\t- город\n",
    "- subscription_type\t- тип подписки (free, ultra)\n",
    "\n",
    "Поездки — rides\n",
    "- user_id\t- уникальный идентификатор пользователя\n",
    "- distance\t- расстояние, которое пользователь проехал в текущей сессии (в метрах)\n",
    "- duration\t- продолжительность сессии (в минутах) — время с того момента, как пользователь нажал кнопку «Начать поездку» до момента, как он нажал кнопку «Завершить поездку»\n",
    "- date\t- дата совершения поездки\n",
    "\n",
    "Подписки — subscriptions\n",
    "- subscription_type\t- тип подписки\n",
    "- minute_price\t- стоимость одной минуты поездки по данной подписке\n",
    "- start_ride_price\t- стоимость начала поездки\n",
    "- subscription_fee\t- стоимость ежемесячного платежа"
   ]
  },
  {
   "cell_type": "markdown",
   "id": "d1958242",
   "metadata": {},
   "source": [
    " ##### Считайте CSV-файлы с данными с помощью библиотеки pandas и сохраните их в датафреймы"
   ]
  },
  {
   "cell_type": "code",
   "execution_count": 2,
   "id": "eff9f206",
   "metadata": {},
   "outputs": [],
   "source": [
    "try:\n",
    "    users = pd.read_csv('/datasets/users_go.csv')\n",
    "    riders = pd.read_csv('/datasets/rides_go.csv')\n",
    "    subscriptions = pd.read_csv('/datasets/subscriptions_go.csv')\n",
    "except:\n",
    "    users = pd.read_csv('users_go.csv')\n",
    "    riders = pd.read_csv('rides_go.csv')\n",
    "    subscriptions = pd.read_csv('subscriptions_go.csv')"
   ]
  },
  {
   "cell_type": "markdown",
   "id": "95d3822d",
   "metadata": {},
   "source": [
    "##### Выведите первые строки каждого набора данных. Изучите общую информацию о каждом датафрейме."
   ]
  },
  {
   "cell_type": "code",
   "execution_count": 3,
   "id": "ae65c2d6-54ee-4b57-a543-2916e9b60e4b",
   "metadata": {},
   "outputs": [
    {
     "data": {
      "text/html": [
       "<div>\n",
       "<style scoped>\n",
       "    .dataframe tbody tr th:only-of-type {\n",
       "        vertical-align: middle;\n",
       "    }\n",
       "\n",
       "    .dataframe tbody tr th {\n",
       "        vertical-align: top;\n",
       "    }\n",
       "\n",
       "    .dataframe thead th {\n",
       "        text-align: right;\n",
       "    }\n",
       "</style>\n",
       "<table border=\"1\" class=\"dataframe\">\n",
       "  <thead>\n",
       "    <tr style=\"text-align: right;\">\n",
       "      <th></th>\n",
       "      <th>user_id</th>\n",
       "      <th>name</th>\n",
       "      <th>age</th>\n",
       "      <th>city</th>\n",
       "      <th>subscription_type</th>\n",
       "    </tr>\n",
       "  </thead>\n",
       "  <tbody>\n",
       "    <tr>\n",
       "      <th>0</th>\n",
       "      <td>1</td>\n",
       "      <td>Кира</td>\n",
       "      <td>22</td>\n",
       "      <td>Тюмень</td>\n",
       "      <td>ultra</td>\n",
       "    </tr>\n",
       "    <tr>\n",
       "      <th>1</th>\n",
       "      <td>2</td>\n",
       "      <td>Станислав</td>\n",
       "      <td>31</td>\n",
       "      <td>Омск</td>\n",
       "      <td>ultra</td>\n",
       "    </tr>\n",
       "    <tr>\n",
       "      <th>2</th>\n",
       "      <td>3</td>\n",
       "      <td>Алексей</td>\n",
       "      <td>20</td>\n",
       "      <td>Москва</td>\n",
       "      <td>ultra</td>\n",
       "    </tr>\n",
       "    <tr>\n",
       "      <th>3</th>\n",
       "      <td>4</td>\n",
       "      <td>Константин</td>\n",
       "      <td>26</td>\n",
       "      <td>Ростов-на-Дону</td>\n",
       "      <td>ultra</td>\n",
       "    </tr>\n",
       "    <tr>\n",
       "      <th>4</th>\n",
       "      <td>5</td>\n",
       "      <td>Адель</td>\n",
       "      <td>28</td>\n",
       "      <td>Омск</td>\n",
       "      <td>ultra</td>\n",
       "    </tr>\n",
       "  </tbody>\n",
       "</table>\n",
       "</div>"
      ],
      "text/plain": [
       "   user_id        name  age            city subscription_type\n",
       "0        1        Кира   22          Тюмень             ultra\n",
       "1        2   Станислав   31            Омск             ultra\n",
       "2        3     Алексей   20          Москва             ultra\n",
       "3        4  Константин   26  Ростов-на-Дону             ultra\n",
       "4        5       Адель   28            Омск             ultra"
      ]
     },
     "execution_count": 3,
     "metadata": {},
     "output_type": "execute_result"
    }
   ],
   "source": [
    "users.head()"
   ]
  },
  {
   "cell_type": "code",
   "execution_count": 4,
   "id": "850fc56a",
   "metadata": {},
   "outputs": [
    {
     "name": "stdout",
     "output_type": "stream",
     "text": [
      "<class 'pandas.core.frame.DataFrame'>\n",
      "RangeIndex: 1565 entries, 0 to 1564\n",
      "Data columns (total 5 columns):\n",
      " #   Column             Non-Null Count  Dtype \n",
      "---  ------             --------------  ----- \n",
      " 0   user_id            1565 non-null   int64 \n",
      " 1   name               1565 non-null   object\n",
      " 2   age                1565 non-null   int64 \n",
      " 3   city               1565 non-null   object\n",
      " 4   subscription_type  1565 non-null   object\n",
      "dtypes: int64(2), object(3)\n",
      "memory usage: 61.3+ KB\n"
     ]
    }
   ],
   "source": [
    "users.info()"
   ]
  },
  {
   "cell_type": "markdown",
   "id": "0248598e",
   "metadata": {},
   "source": [
    "Аномалий пока не выявлено,все данные записаны в нужном формате"
   ]
  },
  {
   "cell_type": "code",
   "execution_count": 5,
   "id": "4bc94c5f",
   "metadata": {},
   "outputs": [
    {
     "data": {
      "text/html": [
       "<div>\n",
       "<style scoped>\n",
       "    .dataframe tbody tr th:only-of-type {\n",
       "        vertical-align: middle;\n",
       "    }\n",
       "\n",
       "    .dataframe tbody tr th {\n",
       "        vertical-align: top;\n",
       "    }\n",
       "\n",
       "    .dataframe thead th {\n",
       "        text-align: right;\n",
       "    }\n",
       "</style>\n",
       "<table border=\"1\" class=\"dataframe\">\n",
       "  <thead>\n",
       "    <tr style=\"text-align: right;\">\n",
       "      <th></th>\n",
       "      <th>user_id</th>\n",
       "      <th>distance</th>\n",
       "      <th>duration</th>\n",
       "      <th>date</th>\n",
       "    </tr>\n",
       "  </thead>\n",
       "  <tbody>\n",
       "    <tr>\n",
       "      <th>0</th>\n",
       "      <td>1</td>\n",
       "      <td>4409.919140</td>\n",
       "      <td>25.599769</td>\n",
       "      <td>2021-01-01</td>\n",
       "    </tr>\n",
       "    <tr>\n",
       "      <th>1</th>\n",
       "      <td>1</td>\n",
       "      <td>2617.592153</td>\n",
       "      <td>15.816871</td>\n",
       "      <td>2021-01-18</td>\n",
       "    </tr>\n",
       "    <tr>\n",
       "      <th>2</th>\n",
       "      <td>1</td>\n",
       "      <td>754.159807</td>\n",
       "      <td>6.232113</td>\n",
       "      <td>2021-04-20</td>\n",
       "    </tr>\n",
       "    <tr>\n",
       "      <th>3</th>\n",
       "      <td>1</td>\n",
       "      <td>2694.783254</td>\n",
       "      <td>18.511000</td>\n",
       "      <td>2021-08-11</td>\n",
       "    </tr>\n",
       "    <tr>\n",
       "      <th>4</th>\n",
       "      <td>1</td>\n",
       "      <td>4028.687306</td>\n",
       "      <td>26.265803</td>\n",
       "      <td>2021-08-28</td>\n",
       "    </tr>\n",
       "  </tbody>\n",
       "</table>\n",
       "</div>"
      ],
      "text/plain": [
       "   user_id     distance   duration        date\n",
       "0        1  4409.919140  25.599769  2021-01-01\n",
       "1        1  2617.592153  15.816871  2021-01-18\n",
       "2        1   754.159807   6.232113  2021-04-20\n",
       "3        1  2694.783254  18.511000  2021-08-11\n",
       "4        1  4028.687306  26.265803  2021-08-28"
      ]
     },
     "execution_count": 5,
     "metadata": {},
     "output_type": "execute_result"
    }
   ],
   "source": [
    "riders.head()"
   ]
  },
  {
   "cell_type": "code",
   "execution_count": 6,
   "id": "78533599",
   "metadata": {},
   "outputs": [
    {
     "name": "stdout",
     "output_type": "stream",
     "text": [
      "<class 'pandas.core.frame.DataFrame'>\n",
      "RangeIndex: 18068 entries, 0 to 18067\n",
      "Data columns (total 4 columns):\n",
      " #   Column    Non-Null Count  Dtype  \n",
      "---  ------    --------------  -----  \n",
      " 0   user_id   18068 non-null  int64  \n",
      " 1   distance  18068 non-null  float64\n",
      " 2   duration  18068 non-null  float64\n",
      " 3   date      18068 non-null  object \n",
      "dtypes: float64(2), int64(1), object(1)\n",
      "memory usage: 564.8+ KB\n"
     ]
    }
   ],
   "source": [
    "riders.info()"
   ]
  },
  {
   "cell_type": "markdown",
   "id": "41f31c12",
   "metadata": {},
   "source": [
    "Аномальных значений не вявлено.Дату лучше перевести в формат даты"
   ]
  },
  {
   "cell_type": "code",
   "execution_count": 7,
   "id": "5c2d1ba2",
   "metadata": {},
   "outputs": [
    {
     "data": {
      "text/html": [
       "<div>\n",
       "<style scoped>\n",
       "    .dataframe tbody tr th:only-of-type {\n",
       "        vertical-align: middle;\n",
       "    }\n",
       "\n",
       "    .dataframe tbody tr th {\n",
       "        vertical-align: top;\n",
       "    }\n",
       "\n",
       "    .dataframe thead th {\n",
       "        text-align: right;\n",
       "    }\n",
       "</style>\n",
       "<table border=\"1\" class=\"dataframe\">\n",
       "  <thead>\n",
       "    <tr style=\"text-align: right;\">\n",
       "      <th></th>\n",
       "      <th>subscription_type</th>\n",
       "      <th>minute_price</th>\n",
       "      <th>start_ride_price</th>\n",
       "      <th>subscription_fee</th>\n",
       "    </tr>\n",
       "  </thead>\n",
       "  <tbody>\n",
       "    <tr>\n",
       "      <th>0</th>\n",
       "      <td>free</td>\n",
       "      <td>8</td>\n",
       "      <td>50</td>\n",
       "      <td>0</td>\n",
       "    </tr>\n",
       "    <tr>\n",
       "      <th>1</th>\n",
       "      <td>ultra</td>\n",
       "      <td>6</td>\n",
       "      <td>0</td>\n",
       "      <td>199</td>\n",
       "    </tr>\n",
       "  </tbody>\n",
       "</table>\n",
       "</div>"
      ],
      "text/plain": [
       "  subscription_type  minute_price  start_ride_price  subscription_fee\n",
       "0              free             8                50                 0\n",
       "1             ultra             6                 0               199"
      ]
     },
     "execution_count": 7,
     "metadata": {},
     "output_type": "execute_result"
    }
   ],
   "source": [
    "subscriptions"
   ]
  },
  {
   "cell_type": "code",
   "execution_count": 8,
   "id": "30926d21",
   "metadata": {},
   "outputs": [
    {
     "name": "stdout",
     "output_type": "stream",
     "text": [
      "<class 'pandas.core.frame.DataFrame'>\n",
      "RangeIndex: 2 entries, 0 to 1\n",
      "Data columns (total 4 columns):\n",
      " #   Column             Non-Null Count  Dtype \n",
      "---  ------             --------------  ----- \n",
      " 0   subscription_type  2 non-null      object\n",
      " 1   minute_price       2 non-null      int64 \n",
      " 2   start_ride_price   2 non-null      int64 \n",
      " 3   subscription_fee   2 non-null      int64 \n",
      "dtypes: int64(3), object(1)\n",
      "memory usage: 196.0+ bytes\n"
     ]
    }
   ],
   "source": [
    "subscriptions.info()"
   ]
  },
  {
   "cell_type": "markdown",
   "id": "7a0f8496",
   "metadata": {},
   "source": [
    "Аномальных значений не вявлено, все данные записаны в нужном формате"
   ]
  },
  {
   "cell_type": "markdown",
   "id": "e95ebca7",
   "metadata": {},
   "source": [
    "## Шаг 2. Предобработка данных"
   ]
  },
  {
   "cell_type": "markdown",
   "id": "399acf92",
   "metadata": {},
   "source": [
    "##### Приведите столбец date к типу даты pandas"
   ]
  },
  {
   "cell_type": "code",
   "execution_count": 9,
   "id": "ce89e37e",
   "metadata": {},
   "outputs": [
    {
     "data": {
      "text/plain": [
       "0       2021-01-01\n",
       "1       2021-01-18\n",
       "2       2021-04-20\n",
       "3       2021-08-11\n",
       "4       2021-08-28\n",
       "           ...    \n",
       "18063   2021-11-04\n",
       "18064   2021-11-16\n",
       "18065   2021-11-18\n",
       "18066   2021-11-27\n",
       "18067   2021-12-29\n",
       "Name: date, Length: 18068, dtype: datetime64[ns]"
      ]
     },
     "execution_count": 9,
     "metadata": {},
     "output_type": "execute_result"
    }
   ],
   "source": [
    "riders['date'] = pd.to_datetime(riders['date'],format = '%Y-%m-%d')\n",
    "riders['date']"
   ]
  },
  {
   "cell_type": "markdown",
   "id": "1fede477",
   "metadata": {},
   "source": [
    "##### Создайте новый столбец с номером месяца на основе столбца date."
   ]
  },
  {
   "cell_type": "code",
   "execution_count": 10,
   "id": "77e236a7",
   "metadata": {},
   "outputs": [
    {
     "data": {
      "text/plain": [
       "(Timestamp('2021-12-30 00:00:00'),\n",
       " Timestamp('2021-01-01 00:00:00'),\n",
       " Timedelta('363 days 00:00:00'))"
      ]
     },
     "execution_count": 10,
     "metadata": {},
     "output_type": "execute_result"
    }
   ],
   "source": [
    "riders['date'].max(),riders['date'].min(),riders['date'].max()-riders['date'].min()"
   ]
  },
  {
   "cell_type": "markdown",
   "id": "1594ea6b",
   "metadata": {},
   "source": [
    " Всего 363 дня одного года"
   ]
  },
  {
   "cell_type": "code",
   "execution_count": 11,
   "id": "d9cb8fe4-7019-42cf-b805-9f4778bcdf30",
   "metadata": {},
   "outputs": [
    {
     "data": {
      "text/html": [
       "<div>\n",
       "<style scoped>\n",
       "    .dataframe tbody tr th:only-of-type {\n",
       "        vertical-align: middle;\n",
       "    }\n",
       "\n",
       "    .dataframe tbody tr th {\n",
       "        vertical-align: top;\n",
       "    }\n",
       "\n",
       "    .dataframe thead th {\n",
       "        text-align: right;\n",
       "    }\n",
       "</style>\n",
       "<table border=\"1\" class=\"dataframe\">\n",
       "  <thead>\n",
       "    <tr style=\"text-align: right;\">\n",
       "      <th></th>\n",
       "      <th>user_id</th>\n",
       "      <th>distance</th>\n",
       "      <th>duration</th>\n",
       "      <th>date</th>\n",
       "      <th>num_of_month</th>\n",
       "    </tr>\n",
       "  </thead>\n",
       "  <tbody>\n",
       "    <tr>\n",
       "      <th>0</th>\n",
       "      <td>1</td>\n",
       "      <td>4409.919140</td>\n",
       "      <td>25.599769</td>\n",
       "      <td>2021-01-01</td>\n",
       "      <td>1</td>\n",
       "    </tr>\n",
       "    <tr>\n",
       "      <th>1</th>\n",
       "      <td>1</td>\n",
       "      <td>2617.592153</td>\n",
       "      <td>15.816871</td>\n",
       "      <td>2021-01-18</td>\n",
       "      <td>1</td>\n",
       "    </tr>\n",
       "    <tr>\n",
       "      <th>2</th>\n",
       "      <td>1</td>\n",
       "      <td>754.159807</td>\n",
       "      <td>6.232113</td>\n",
       "      <td>2021-04-20</td>\n",
       "      <td>4</td>\n",
       "    </tr>\n",
       "    <tr>\n",
       "      <th>3</th>\n",
       "      <td>1</td>\n",
       "      <td>2694.783254</td>\n",
       "      <td>18.511000</td>\n",
       "      <td>2021-08-11</td>\n",
       "      <td>8</td>\n",
       "    </tr>\n",
       "    <tr>\n",
       "      <th>4</th>\n",
       "      <td>1</td>\n",
       "      <td>4028.687306</td>\n",
       "      <td>26.265803</td>\n",
       "      <td>2021-08-28</td>\n",
       "      <td>8</td>\n",
       "    </tr>\n",
       "  </tbody>\n",
       "</table>\n",
       "</div>"
      ],
      "text/plain": [
       "   user_id     distance   duration       date  num_of_month\n",
       "0        1  4409.919140  25.599769 2021-01-01             1\n",
       "1        1  2617.592153  15.816871 2021-01-18             1\n",
       "2        1   754.159807   6.232113 2021-04-20             4\n",
       "3        1  2694.783254  18.511000 2021-08-11             8\n",
       "4        1  4028.687306  26.265803 2021-08-28             8"
      ]
     },
     "execution_count": 11,
     "metadata": {},
     "output_type": "execute_result"
    }
   ],
   "source": [
    "riders['num_of_month'] = pd.DatetimeIndex(riders['date']).month\n",
    "riders.head()"
   ]
  },
  {
   "cell_type": "markdown",
   "id": "9a097c75",
   "metadata": {},
   "source": [
    "##### Проверьте наличие пропущенных значений и дубликатов в датафреймах. Обработайте их, если такие значения присутствуют."
   ]
  },
  {
   "cell_type": "markdown",
   "id": "5b7bf566",
   "metadata": {},
   "source": [
    "У нас есть 3 датафрейма: users, riders, subscriptions. \n",
    "Сначала проверим на пропуски:"
   ]
  },
  {
   "cell_type": "code",
   "execution_count": 12,
   "id": "049ce53a-e330-45e6-afd8-7d2764841baf",
   "metadata": {},
   "outputs": [
    {
     "data": {
      "text/plain": [
       "user_id              0\n",
       "name                 0\n",
       "age                  0\n",
       "city                 0\n",
       "subscription_type    0\n",
       "dtype: int64"
      ]
     },
     "execution_count": 12,
     "metadata": {},
     "output_type": "execute_result"
    }
   ],
   "source": [
    "users.isna().sum()"
   ]
  },
  {
   "cell_type": "markdown",
   "id": "bd7244a6",
   "metadata": {},
   "source": [
    "Пропущенных значений нет"
   ]
  },
  {
   "cell_type": "code",
   "execution_count": 13,
   "id": "9124e42b-9106-4a4c-99bd-793bd1ce8845",
   "metadata": {},
   "outputs": [
    {
     "data": {
      "text/plain": [
       "user_id         0\n",
       "distance        0\n",
       "duration        0\n",
       "date            0\n",
       "num_of_month    0\n",
       "dtype: int64"
      ]
     },
     "execution_count": 13,
     "metadata": {},
     "output_type": "execute_result"
    }
   ],
   "source": [
    "riders.isna().sum()"
   ]
  },
  {
   "cell_type": "markdown",
   "id": "e4984505",
   "metadata": {},
   "source": [
    "Пропущенных значений нет"
   ]
  },
  {
   "cell_type": "code",
   "execution_count": 14,
   "id": "15a7bb8b",
   "metadata": {},
   "outputs": [
    {
     "data": {
      "text/plain": [
       "subscription_type    0\n",
       "minute_price         0\n",
       "start_ride_price     0\n",
       "subscription_fee     0\n",
       "dtype: int64"
      ]
     },
     "execution_count": 14,
     "metadata": {},
     "output_type": "execute_result"
    }
   ],
   "source": [
    "subscriptions.isna().sum()"
   ]
  },
  {
   "cell_type": "markdown",
   "id": "3dfb1e26",
   "metadata": {},
   "source": [
    "Пропущенных значений нет"
   ]
  },
  {
   "cell_type": "markdown",
   "id": "b9b94c47",
   "metadata": {},
   "source": [
    "Мы не нашли пропуски во всех датафреймах, теперь посмотрим на дубликаты явные и неявные"
   ]
  },
  {
   "cell_type": "markdown",
   "id": "4996ab73",
   "metadata": {},
   "source": [
    "**Таблица users**"
   ]
  },
  {
   "cell_type": "code",
   "execution_count": 15,
   "id": "2f3e88a3",
   "metadata": {},
   "outputs": [
    {
     "data": {
      "text/html": [
       "<div>\n",
       "<style scoped>\n",
       "    .dataframe tbody tr th:only-of-type {\n",
       "        vertical-align: middle;\n",
       "    }\n",
       "\n",
       "    .dataframe tbody tr th {\n",
       "        vertical-align: top;\n",
       "    }\n",
       "\n",
       "    .dataframe thead th {\n",
       "        text-align: right;\n",
       "    }\n",
       "</style>\n",
       "<table border=\"1\" class=\"dataframe\">\n",
       "  <thead>\n",
       "    <tr style=\"text-align: right;\">\n",
       "      <th></th>\n",
       "      <th>user_id</th>\n",
       "      <th>name</th>\n",
       "      <th>age</th>\n",
       "      <th>city</th>\n",
       "      <th>subscription_type</th>\n",
       "    </tr>\n",
       "  </thead>\n",
       "  <tbody>\n",
       "    <tr>\n",
       "      <th>0</th>\n",
       "      <td>1</td>\n",
       "      <td>Кира</td>\n",
       "      <td>22</td>\n",
       "      <td>Тюмень</td>\n",
       "      <td>ultra</td>\n",
       "    </tr>\n",
       "    <tr>\n",
       "      <th>1</th>\n",
       "      <td>2</td>\n",
       "      <td>Станислав</td>\n",
       "      <td>31</td>\n",
       "      <td>Омск</td>\n",
       "      <td>ultra</td>\n",
       "    </tr>\n",
       "    <tr>\n",
       "      <th>2</th>\n",
       "      <td>3</td>\n",
       "      <td>Алексей</td>\n",
       "      <td>20</td>\n",
       "      <td>Москва</td>\n",
       "      <td>ultra</td>\n",
       "    </tr>\n",
       "    <tr>\n",
       "      <th>3</th>\n",
       "      <td>4</td>\n",
       "      <td>Константин</td>\n",
       "      <td>26</td>\n",
       "      <td>Ростов-на-Дону</td>\n",
       "      <td>ultra</td>\n",
       "    </tr>\n",
       "    <tr>\n",
       "      <th>4</th>\n",
       "      <td>5</td>\n",
       "      <td>Адель</td>\n",
       "      <td>28</td>\n",
       "      <td>Омск</td>\n",
       "      <td>ultra</td>\n",
       "    </tr>\n",
       "  </tbody>\n",
       "</table>\n",
       "</div>"
      ],
      "text/plain": [
       "   user_id        name  age            city subscription_type\n",
       "0        1        Кира   22          Тюмень             ultra\n",
       "1        2   Станислав   31            Омск             ultra\n",
       "2        3     Алексей   20          Москва             ultra\n",
       "3        4  Константин   26  Ростов-на-Дону             ultra\n",
       "4        5       Адель   28            Омск             ultra"
      ]
     },
     "execution_count": 15,
     "metadata": {},
     "output_type": "execute_result"
    }
   ],
   "source": [
    "users.head()"
   ]
  },
  {
   "cell_type": "code",
   "execution_count": 16,
   "id": "648fb7a5-320c-4c6a-8758-0ce4db2cc8db",
   "metadata": {},
   "outputs": [
    {
     "data": {
      "text/plain": [
       "31"
      ]
     },
     "execution_count": 16,
     "metadata": {},
     "output_type": "execute_result"
    }
   ],
   "source": [
    "users.duplicated().sum()"
   ]
  },
  {
   "cell_type": "markdown",
   "id": "4f71e2ac-bd9e-431d-a88e-8f95a18267b0",
   "metadata": {},
   "source": [
    "Все дубликаты"
   ]
  },
  {
   "cell_type": "code",
   "execution_count": 17,
   "id": "59da6f1f",
   "metadata": {},
   "outputs": [],
   "source": [
    "users.drop_duplicates(inplace=True)"
   ]
  },
  {
   "cell_type": "code",
   "execution_count": 18,
   "id": "57af3428",
   "metadata": {},
   "outputs": [
    {
     "data": {
      "text/plain": [
       "0"
      ]
     },
     "execution_count": 18,
     "metadata": {},
     "output_type": "execute_result"
    }
   ],
   "source": [
    "users.duplicated().sum()"
   ]
  },
  {
   "cell_type": "markdown",
   "id": "e16501dc",
   "metadata": {},
   "source": [
    "Удаляем явные дубликаты"
   ]
  },
  {
   "cell_type": "markdown",
   "id": "7b4ab4e4",
   "metadata": {},
   "source": [
    "Посмотрим на неявные дубликаты"
   ]
  },
  {
   "cell_type": "code",
   "execution_count": 19,
   "id": "db97bedf",
   "metadata": {},
   "outputs": [
    {
     "data": {
      "text/plain": [
       "array(['ultra', 'free'], dtype=object)"
      ]
     },
     "execution_count": 19,
     "metadata": {},
     "output_type": "execute_result"
    }
   ],
   "source": [
    "users['subscription_type'].unique()"
   ]
  },
  {
   "cell_type": "markdown",
   "id": "0eab47f4",
   "metadata": {},
   "source": [
    "в столбце subscription_type - неявных дубликатов нет"
   ]
  },
  {
   "cell_type": "code",
   "execution_count": 20,
   "id": "fd9cc429",
   "metadata": {},
   "outputs": [
    {
     "data": {
      "text/plain": [
       "array(['Тюмень', 'Омск', 'Москва', 'Ростов-на-Дону', 'Краснодар',\n",
       "       'Пятигорск', 'Екатеринбург', 'Сочи'], dtype=object)"
      ]
     },
     "execution_count": 20,
     "metadata": {},
     "output_type": "execute_result"
    }
   ],
   "source": [
    "users['city'].unique()"
   ]
  },
  {
   "cell_type": "markdown",
   "id": "49f37c7a",
   "metadata": {},
   "source": [
    "Неявных дубликатов в столбце city не выявлено"
   ]
  },
  {
   "cell_type": "code",
   "execution_count": 21,
   "id": "47b70fd3",
   "metadata": {
    "scrolled": true
   },
   "outputs": [
    {
     "data": {
      "text/plain": [
       "{'Агата',\n",
       " 'Аделина',\n",
       " 'Адель',\n",
       " 'Айдар',\n",
       " 'Александр',\n",
       " 'Александра',\n",
       " 'Алексей',\n",
       " 'Алина',\n",
       " 'Алиса',\n",
       " 'Алия',\n",
       " 'Алла',\n",
       " 'Альберт',\n",
       " 'Альбина',\n",
       " 'Алёна',\n",
       " 'Амалия',\n",
       " 'Амина',\n",
       " 'Амир',\n",
       " 'Анастасия',\n",
       " 'Анатолий',\n",
       " 'Ангелина',\n",
       " 'Андрей',\n",
       " 'Анжелика',\n",
       " 'Анна',\n",
       " 'Антон',\n",
       " 'Антонина',\n",
       " 'Ариана',\n",
       " 'Арина',\n",
       " 'Арсен',\n",
       " 'Арсений',\n",
       " 'Артемий',\n",
       " 'Артур',\n",
       " 'Артём',\n",
       " 'Богдан',\n",
       " 'Борис',\n",
       " 'Вадим',\n",
       " 'Валентина',\n",
       " 'Валерий',\n",
       " 'Валерия',\n",
       " 'Варвара',\n",
       " 'Василий',\n",
       " 'Василина',\n",
       " 'Василиса',\n",
       " 'Вера',\n",
       " 'Вероника',\n",
       " 'Виктор',\n",
       " 'Виктория',\n",
       " 'Виолетта',\n",
       " 'Виталий',\n",
       " 'Виталина',\n",
       " 'Влад',\n",
       " 'Влада',\n",
       " 'Владимир',\n",
       " 'Владислав',\n",
       " 'Владислава',\n",
       " 'Всеволод',\n",
       " 'Вячеслав',\n",
       " 'Галина',\n",
       " 'Георгий',\n",
       " 'Герман',\n",
       " 'Глеб',\n",
       " 'Гордей',\n",
       " 'Григорий',\n",
       " 'Давид',\n",
       " 'Дамир',\n",
       " 'Даниил',\n",
       " 'Данил',\n",
       " 'Данила',\n",
       " 'Даниэль',\n",
       " 'Дарина',\n",
       " 'Дарья',\n",
       " 'Демид',\n",
       " 'Денис',\n",
       " 'Диана',\n",
       " 'Дмитрий',\n",
       " 'Ева',\n",
       " 'Евгений',\n",
       " 'Евгения',\n",
       " 'Егор',\n",
       " 'Екатерина',\n",
       " 'Елена',\n",
       " 'Елизавета',\n",
       " 'Елисей',\n",
       " 'Есения',\n",
       " 'Жанна',\n",
       " 'Зарина',\n",
       " 'Захар',\n",
       " 'Злата',\n",
       " 'Иван',\n",
       " 'Игнат',\n",
       " 'Игорь',\n",
       " 'Ильдар',\n",
       " 'Илья',\n",
       " 'Инна',\n",
       " 'Ирина',\n",
       " 'Камилла',\n",
       " 'Карина',\n",
       " 'Каролина',\n",
       " 'Кира',\n",
       " 'Кирилл',\n",
       " 'Константин',\n",
       " 'Кристина',\n",
       " 'Ксения',\n",
       " 'Лариса',\n",
       " 'Лев',\n",
       " 'Леонид',\n",
       " 'Лиана',\n",
       " 'Лидия',\n",
       " 'Лилия',\n",
       " 'Любовь',\n",
       " 'Людмила',\n",
       " 'Мадина',\n",
       " 'Майя',\n",
       " 'Макар',\n",
       " 'Максим',\n",
       " 'Марат',\n",
       " 'Маргарита',\n",
       " 'Марина',\n",
       " 'Мария',\n",
       " 'Марк',\n",
       " 'Марсель',\n",
       " 'Матвей',\n",
       " 'Мелания',\n",
       " 'Милана',\n",
       " 'Милена',\n",
       " 'Мирон',\n",
       " 'Мирослав',\n",
       " 'Мирослава',\n",
       " 'Михаил',\n",
       " 'Назар',\n",
       " 'Наталия',\n",
       " 'Наталья',\n",
       " 'Наташа',\n",
       " 'Нелли',\n",
       " 'Ника',\n",
       " 'Никита',\n",
       " 'Николай',\n",
       " 'Нина',\n",
       " 'Одиссей',\n",
       " 'Оксана',\n",
       " 'Олег',\n",
       " 'Олеся',\n",
       " 'Ольга',\n",
       " 'Павел',\n",
       " 'Петр',\n",
       " 'Платон',\n",
       " 'Полина',\n",
       " 'Радмир',\n",
       " 'Рамиль',\n",
       " 'Регина',\n",
       " 'Роберт',\n",
       " 'Родион',\n",
       " 'Роман',\n",
       " 'Ростислав',\n",
       " 'Руслан',\n",
       " 'Рустам',\n",
       " 'Савелий',\n",
       " 'Самир',\n",
       " 'Самира',\n",
       " 'Светлана',\n",
       " 'Святогор',\n",
       " 'Святослав',\n",
       " 'Семен',\n",
       " 'Сергей',\n",
       " 'Снежана',\n",
       " 'София',\n",
       " 'Софья',\n",
       " 'Станислав',\n",
       " 'Степан',\n",
       " 'Стефания',\n",
       " 'Таисия',\n",
       " 'Тамара',\n",
       " 'Тамерлан',\n",
       " 'Татьяна',\n",
       " 'Тимофей',\n",
       " 'Тимур',\n",
       " 'Тихон',\n",
       " 'Ульяна',\n",
       " 'Федор',\n",
       " 'Эвелина',\n",
       " 'Эдуард',\n",
       " 'Элина',\n",
       " 'Эльвира',\n",
       " 'Эльмира',\n",
       " 'Эмилия',\n",
       " 'Эмиль',\n",
       " 'Юлиана',\n",
       " 'Юлия',\n",
       " 'Юрий',\n",
       " 'Ян',\n",
       " 'Яна',\n",
       " 'Яромир',\n",
       " 'Ярослав',\n",
       " 'Ярослава',\n",
       " 'Ясмина'}"
      ]
     },
     "execution_count": 21,
     "metadata": {},
     "output_type": "execute_result"
    }
   ],
   "source": [
    "set(users['name'].unique())"
   ]
  },
  {
   "cell_type": "markdown",
   "id": "068aa7fb",
   "metadata": {},
   "source": [
    "Неявных дубликатов в столбце name не выявлено"
   ]
  },
  {
   "cell_type": "markdown",
   "id": "a46d48b8",
   "metadata": {},
   "source": [
    "**Таблица riders**"
   ]
  },
  {
   "cell_type": "code",
   "execution_count": 22,
   "id": "3821f6b7",
   "metadata": {},
   "outputs": [
    {
     "data": {
      "text/html": [
       "<div>\n",
       "<style scoped>\n",
       "    .dataframe tbody tr th:only-of-type {\n",
       "        vertical-align: middle;\n",
       "    }\n",
       "\n",
       "    .dataframe tbody tr th {\n",
       "        vertical-align: top;\n",
       "    }\n",
       "\n",
       "    .dataframe thead th {\n",
       "        text-align: right;\n",
       "    }\n",
       "</style>\n",
       "<table border=\"1\" class=\"dataframe\">\n",
       "  <thead>\n",
       "    <tr style=\"text-align: right;\">\n",
       "      <th></th>\n",
       "      <th>user_id</th>\n",
       "      <th>distance</th>\n",
       "      <th>duration</th>\n",
       "      <th>date</th>\n",
       "      <th>num_of_month</th>\n",
       "    </tr>\n",
       "  </thead>\n",
       "  <tbody>\n",
       "    <tr>\n",
       "      <th>0</th>\n",
       "      <td>1</td>\n",
       "      <td>4409.919140</td>\n",
       "      <td>25.599769</td>\n",
       "      <td>2021-01-01</td>\n",
       "      <td>1</td>\n",
       "    </tr>\n",
       "    <tr>\n",
       "      <th>1</th>\n",
       "      <td>1</td>\n",
       "      <td>2617.592153</td>\n",
       "      <td>15.816871</td>\n",
       "      <td>2021-01-18</td>\n",
       "      <td>1</td>\n",
       "    </tr>\n",
       "    <tr>\n",
       "      <th>2</th>\n",
       "      <td>1</td>\n",
       "      <td>754.159807</td>\n",
       "      <td>6.232113</td>\n",
       "      <td>2021-04-20</td>\n",
       "      <td>4</td>\n",
       "    </tr>\n",
       "    <tr>\n",
       "      <th>3</th>\n",
       "      <td>1</td>\n",
       "      <td>2694.783254</td>\n",
       "      <td>18.511000</td>\n",
       "      <td>2021-08-11</td>\n",
       "      <td>8</td>\n",
       "    </tr>\n",
       "    <tr>\n",
       "      <th>4</th>\n",
       "      <td>1</td>\n",
       "      <td>4028.687306</td>\n",
       "      <td>26.265803</td>\n",
       "      <td>2021-08-28</td>\n",
       "      <td>8</td>\n",
       "    </tr>\n",
       "  </tbody>\n",
       "</table>\n",
       "</div>"
      ],
      "text/plain": [
       "   user_id     distance   duration       date  num_of_month\n",
       "0        1  4409.919140  25.599769 2021-01-01             1\n",
       "1        1  2617.592153  15.816871 2021-01-18             1\n",
       "2        1   754.159807   6.232113 2021-04-20             4\n",
       "3        1  2694.783254  18.511000 2021-08-11             8\n",
       "4        1  4028.687306  26.265803 2021-08-28             8"
      ]
     },
     "execution_count": 22,
     "metadata": {},
     "output_type": "execute_result"
    }
   ],
   "source": [
    "riders.head()"
   ]
  },
  {
   "cell_type": "code",
   "execution_count": 23,
   "id": "b48e3195",
   "metadata": {},
   "outputs": [
    {
     "data": {
      "text/plain": [
       "0"
      ]
     },
     "execution_count": 23,
     "metadata": {},
     "output_type": "execute_result"
    }
   ],
   "source": [
    "riders.duplicated().sum()"
   ]
  },
  {
   "cell_type": "markdown",
   "id": "f812b364",
   "metadata": {},
   "source": [
    "**Таблица subscriptions**"
   ]
  },
  {
   "cell_type": "code",
   "execution_count": 24,
   "id": "511c273f",
   "metadata": {},
   "outputs": [
    {
     "data": {
      "text/html": [
       "<div>\n",
       "<style scoped>\n",
       "    .dataframe tbody tr th:only-of-type {\n",
       "        vertical-align: middle;\n",
       "    }\n",
       "\n",
       "    .dataframe tbody tr th {\n",
       "        vertical-align: top;\n",
       "    }\n",
       "\n",
       "    .dataframe thead th {\n",
       "        text-align: right;\n",
       "    }\n",
       "</style>\n",
       "<table border=\"1\" class=\"dataframe\">\n",
       "  <thead>\n",
       "    <tr style=\"text-align: right;\">\n",
       "      <th></th>\n",
       "      <th>subscription_type</th>\n",
       "      <th>minute_price</th>\n",
       "      <th>start_ride_price</th>\n",
       "      <th>subscription_fee</th>\n",
       "    </tr>\n",
       "  </thead>\n",
       "  <tbody>\n",
       "    <tr>\n",
       "      <th>0</th>\n",
       "      <td>free</td>\n",
       "      <td>8</td>\n",
       "      <td>50</td>\n",
       "      <td>0</td>\n",
       "    </tr>\n",
       "    <tr>\n",
       "      <th>1</th>\n",
       "      <td>ultra</td>\n",
       "      <td>6</td>\n",
       "      <td>0</td>\n",
       "      <td>199</td>\n",
       "    </tr>\n",
       "  </tbody>\n",
       "</table>\n",
       "</div>"
      ],
      "text/plain": [
       "  subscription_type  minute_price  start_ride_price  subscription_fee\n",
       "0              free             8                50                 0\n",
       "1             ultra             6                 0               199"
      ]
     },
     "execution_count": 24,
     "metadata": {},
     "output_type": "execute_result"
    }
   ],
   "source": [
    "subscriptions.head()"
   ]
  },
  {
   "cell_type": "markdown",
   "id": "f357d590",
   "metadata": {},
   "source": [
    "Дубликатов нет"
   ]
  },
  {
   "cell_type": "markdown",
   "id": "de217c24",
   "metadata": {},
   "source": [
    "**Вывод:**\n",
    "- создали новый столбцец в таблице riders - 'num_of_month'\n",
    "- Удалили в таблице users яные дубликаты"
   ]
  },
  {
   "cell_type": "markdown",
   "id": "212593c7",
   "metadata": {},
   "source": [
    "## Шаг 3. Исследовательский анализ данных"
   ]
  },
  {
   "cell_type": "markdown",
   "id": "7d7a3701",
   "metadata": {},
   "source": [
    "##### частота встречаемости городов"
   ]
  },
  {
   "cell_type": "code",
   "execution_count": 25,
   "id": "5156fa73",
   "metadata": {},
   "outputs": [
    {
     "data": {
      "text/plain": [
       "city\n",
       "Пятигорск         219\n",
       "Екатеринбург      204\n",
       "Ростов-на-Дону    198\n",
       "Краснодар         193\n",
       "Сочи              189\n",
       "Омск              183\n",
       "Тюмень            180\n",
       "Москва            168\n",
       "Name: count, dtype: int64"
      ]
     },
     "execution_count": 25,
     "metadata": {},
     "output_type": "execute_result"
    }
   ],
   "source": [
    "users['city'].value_counts()"
   ]
  },
  {
   "cell_type": "markdown",
   "id": "57f79d9e",
   "metadata": {},
   "source": [
    "Относительная частота встречаемости того или иного признака определяется по формуле: p= k ×100%"
   ]
  },
  {
   "cell_type": "code",
   "execution_count": 108,
   "id": "24a12ccc-f579-468e-af72-f5cada8d16e8",
   "metadata": {},
   "outputs": [
    {
     "data": {
      "text/plain": [
       "city\n",
       "Пятигорск         14.0\n",
       "Екатеринбург      13.0\n",
       "Ростов-на-Дону    13.0\n",
       "Краснодар         13.0\n",
       "Сочи              12.0\n",
       "Омск              12.0\n",
       "Тюмень            12.0\n",
       "Москва            11.0\n",
       "Name: count, dtype: float64"
      ]
     },
     "execution_count": 108,
     "metadata": {},
     "output_type": "execute_result"
    }
   ],
   "source": [
    "city_counts = round(users['city'].value_counts()/users['city'].value_counts().sum(),2)*100\n",
    "city_counts"
   ]
  },
  {
   "cell_type": "code",
   "execution_count": 107,
   "id": "8d757cec-1a22-4fe0-bfe1-eec2befc77e9",
   "metadata": {},
   "outputs": [
    {
     "data": {
      "image/png": "[encoded data removed]",
      "text/plain": [
       "<Figure size 640x480 with 1 Axes>"
      ]
     },
     "metadata": {},
     "output_type": "display_data"
    }
   ],
   "source": [
    "city_counts.plot(kind='barh',title = 'частота встречаемости городов');"
   ]
  },
  {
   "cell_type": "markdown",
   "id": "12cd4399",
   "metadata": {},
   "source": [
    "**вывод:** Чаще всего встречается Пятигорск, реже всего Москва"
   ]
  },
  {
   "cell_type": "markdown",
   "id": "6812c574",
   "metadata": {},
   "source": [
    "##### соотношение пользователей с подпиской и без подписки"
   ]
  },
  {
   "cell_type": "code",
   "execution_count": 28,
   "id": "f5c79890",
   "metadata": {},
   "outputs": [],
   "source": [
    "free_ultra_merge = users['subscription_type'].value_counts()"
   ]
  },
  {
   "cell_type": "code",
   "execution_count": 29,
   "id": "9786f2ef",
   "metadata": {},
   "outputs": [
    {
     "data": {
      "image/png": "[encoded data removed]",
      "text/plain": [
       "<Figure size 640x480 with 1 Axes>"
      ]
     },
     "metadata": {},
     "output_type": "display_data"
    }
   ],
   "source": [
    "users['subscription_type'].value_counts().plot(y = free_ultra_merge,\n",
    "                                               kind = 'pie',\n",
    "                                               autopct = '%1.0f%%',\n",
    "                                               title = 'соотношение пользователей с подпиской и без подписки');"
   ]
  },
  {
   "cell_type": "markdown",
   "id": "d6aafe63",
   "metadata": {},
   "source": [
    "С подпиской 46%, а без нее 54%. Людей без подписки больше на 8%, чем купивших ее"
   ]
  },
  {
   "cell_type": "markdown",
   "id": "a13a8b70",
   "metadata": {},
   "source": [
    "##### возраст пользователей"
   ]
  },
  {
   "cell_type": "code",
   "execution_count": 30,
   "id": "ffb0da35",
   "metadata": {},
   "outputs": [
    {
     "data": {
      "image/png": "[encoded data removed]",
      "text/plain": [
       "<Figure size 640x480 with 1 Axes>"
      ]
     },
     "metadata": {},
     "output_type": "display_data"
    }
   ],
   "source": [
    "plt.hist(users['age'],bins=50)\n",
    "plt.title = 'Возраст пользоватей';"
   ]
  },
  {
   "cell_type": "code",
   "execution_count": 31,
   "id": "241af40e",
   "metadata": {},
   "outputs": [
    {
     "data": {
      "text/plain": [
       "count    1534.000000\n",
       "mean       24.903520\n",
       "std         4.572367\n",
       "min        12.000000\n",
       "25%        22.000000\n",
       "50%        25.000000\n",
       "75%        28.000000\n",
       "max        43.000000\n",
       "Name: age, dtype: float64"
      ]
     },
     "execution_count": 31,
     "metadata": {},
     "output_type": "execute_result"
    }
   ],
   "source": [
    "users['age'].describe()"
   ]
  },
  {
   "cell_type": "markdown",
   "id": "361d834c",
   "metadata": {},
   "source": [
    "Больше всего пользоватей возраста от 21 до 28 лет, самому большому количество пользователей 25 лет. Меньше всего пользователей 12-17 лет и начиная с 34 до 43 лет. Меньше всего пользователей которым 43 года."
   ]
  },
  {
   "cell_type": "markdown",
   "id": "a278b78e",
   "metadata": {},
   "source": [
    "##### расстояние, которое пользователь преодолел за одну поездку"
   ]
  },
  {
   "cell_type": "code",
   "execution_count": 32,
   "id": "01cfaa99",
   "metadata": {},
   "outputs": [
    {
     "data": {
      "text/plain": [
       "11555       0.855683\n",
       "9541        2.570787\n",
       "13690       4.329506\n",
       "8658        6.784447\n",
       "7841        7.097072\n",
       "            ...     \n",
       "17242    6724.932981\n",
       "17171    6760.940067\n",
       "15580    6908.491343\n",
       "16484    7066.003772\n",
       "16309    7211.007745\n",
       "Name: distance, Length: 18068, dtype: float64"
      ]
     },
     "execution_count": 32,
     "metadata": {},
     "output_type": "execute_result"
    }
   ],
   "source": [
    "riders['distance'].sort_values()"
   ]
  },
  {
   "cell_type": "code",
   "execution_count": 33,
   "id": "3f116e1f",
   "metadata": {},
   "outputs": [
    {
     "data": {
      "image/png": "[encoded data removed]",
      "text/plain": [
       "<Figure size 640x480 with 1 Axes>"
      ]
     },
     "metadata": {},
     "output_type": "display_data"
    }
   ],
   "source": [
    "riders.hist('distance',bins = 100 ,ec='black',legend=True);"
   ]
  },
  {
   "cell_type": "code",
   "execution_count": 34,
   "id": "8ff47653",
   "metadata": {},
   "outputs": [
    {
     "data": {
      "text/plain": [
       "count    18068.000000\n",
       "mean      3070.659976\n",
       "std       1116.831209\n",
       "min          0.855683\n",
       "25%       2543.226360\n",
       "50%       3133.609994\n",
       "75%       3776.222735\n",
       "max       7211.007745\n",
       "Name: distance, dtype: float64"
      ]
     },
     "execution_count": 34,
     "metadata": {},
     "output_type": "execute_result"
    }
   ],
   "source": [
    "riders['distance'].describe()"
   ]
  },
  {
   "cell_type": "markdown",
   "id": "17c699c7",
   "metadata": {},
   "source": [
    "Максимальная дистанция которую проехал пользователь за одну поездку равна 7211 метроа, а минимальная меньше метра. Чаще всего пользователи проезжали примерно 3100 метров.\n",
    "Видим всплеск слева от 500 до 1000 метров."
   ]
  },
  {
   "cell_type": "markdown",
   "id": "14b4f706",
   "metadata": {},
   "source": [
    "##### продолжительность поездок"
   ]
  },
  {
   "cell_type": "code",
   "execution_count": 35,
   "id": "3c128976-a2ef-45ec-9f33-a2626d24f548",
   "metadata": {},
   "outputs": [
    {
     "data": {
      "text/plain": [
       "0        25.599769\n",
       "1        15.816871\n",
       "2         6.232113\n",
       "3        18.511000\n",
       "4        26.265803\n",
       "           ...    \n",
       "18063    19.822962\n",
       "18064    21.409799\n",
       "18065    18.435051\n",
       "18066    16.674362\n",
       "18067    15.893917\n",
       "Name: duration, Length: 18068, dtype: float64"
      ]
     },
     "execution_count": 35,
     "metadata": {},
     "output_type": "execute_result"
    }
   ],
   "source": [
    "riders['duration']"
   ]
  },
  {
   "cell_type": "code",
   "execution_count": 36,
   "id": "02e6a1ca",
   "metadata": {},
   "outputs": [
    {
     "data": {
      "image/png": "[encoded data removed]",
      "text/plain": [
       "<Figure size 640x480 with 1 Axes>"
      ]
     },
     "metadata": {},
     "output_type": "display_data"
    }
   ],
   "source": [
    "riders.hist('duration',bins = 50 ,ec='black',legend=True);"
   ]
  },
  {
   "cell_type": "code",
   "execution_count": 37,
   "id": "861306fb-e837-44bf-82ac-65a060ef6e50",
   "metadata": {},
   "outputs": [
    {
     "data": {
      "text/plain": [
       "count    18068.000000\n",
       "mean        17.805011\n",
       "std          6.091051\n",
       "min          0.500000\n",
       "25%         13.597563\n",
       "50%         17.678395\n",
       "75%         21.724800\n",
       "max         40.823963\n",
       "Name: duration, dtype: float64"
      ]
     },
     "execution_count": 37,
     "metadata": {},
     "output_type": "execute_result"
    }
   ],
   "source": [
    "riders['duration'].describe()"
   ]
  },
  {
   "cell_type": "markdown",
   "id": "1bbafb3e",
   "metadata": {},
   "source": [
    "Минимальная поездка была около минуты, а максимальная прмерно 40 минут. Но чаще всего пользователи проводят в пути 19 минут"
   ]
  },
  {
   "cell_type": "code",
   "execution_count": 38,
   "id": "d2768527",
   "metadata": {},
   "outputs": [
    {
     "data": {
      "text/plain": [
       "<Axes: >"
      ]
     },
     "execution_count": 38,
     "metadata": {},
     "output_type": "execute_result"
    },
    {
     "data": {
      "image/png": "[encoded data removed]",
      "text/plain": [
       "<Figure size 640x480 with 1 Axes>"
      ]
     },
     "metadata": {},
     "output_type": "display_data"
    }
   ],
   "source": [
    "riders.boxplot(column='duration')\n"
   ]
  },
  {
   "cell_type": "markdown",
   "id": "80d69ca1",
   "metadata": {},
   "source": [
    "Видим очень маленькие аномальные значения возле 0 "
   ]
  },
  {
   "cell_type": "code",
   "execution_count": 106,
   "id": "7f2f180b-9810-4235-8b0b-456f36b00300",
   "metadata": {},
   "outputs": [
    {
     "data": {
      "text/html": [
       "<div>\n",
       "<style scoped>\n",
       "    .dataframe tbody tr th:only-of-type {\n",
       "        vertical-align: middle;\n",
       "    }\n",
       "\n",
       "    .dataframe tbody tr th {\n",
       "        vertical-align: top;\n",
       "    }\n",
       "\n",
       "    .dataframe thead th {\n",
       "        text-align: right;\n",
       "    }\n",
       "</style>\n",
       "<table border=\"1\" class=\"dataframe\">\n",
       "  <thead>\n",
       "    <tr style=\"text-align: right;\">\n",
       "      <th></th>\n",
       "      <th>user_id</th>\n",
       "      <th>distance</th>\n",
       "      <th>duration</th>\n",
       "      <th>date</th>\n",
       "      <th>num_of_month</th>\n",
       "    </tr>\n",
       "  </thead>\n",
       "  <tbody>\n",
       "    <tr>\n",
       "      <th>6531</th>\n",
       "      <td>701</td>\n",
       "      <td>4196.445201</td>\n",
       "      <td>0.5</td>\n",
       "      <td>2021-08-31</td>\n",
       "      <td>8</td>\n",
       "    </tr>\n",
       "    <tr>\n",
       "      <th>6570</th>\n",
       "      <td>704</td>\n",
       "      <td>4830.824371</td>\n",
       "      <td>0.5</td>\n",
       "      <td>2021-10-14</td>\n",
       "      <td>10</td>\n",
       "    </tr>\n",
       "    <tr>\n",
       "      <th>6680</th>\n",
       "      <td>712</td>\n",
       "      <td>4684.004397</td>\n",
       "      <td>0.5</td>\n",
       "      <td>2021-03-04</td>\n",
       "      <td>3</td>\n",
       "    </tr>\n",
       "    <tr>\n",
       "      <th>6695</th>\n",
       "      <td>713</td>\n",
       "      <td>5215.642710</td>\n",
       "      <td>0.5</td>\n",
       "      <td>2021-02-25</td>\n",
       "      <td>2</td>\n",
       "    </tr>\n",
       "    <tr>\n",
       "      <th>6768</th>\n",
       "      <td>718</td>\n",
       "      <td>5197.436649</td>\n",
       "      <td>0.5</td>\n",
       "      <td>2021-02-11</td>\n",
       "      <td>2</td>\n",
       "    </tr>\n",
       "  </tbody>\n",
       "</table>\n",
       "</div>"
      ],
      "text/plain": [
       "      user_id     distance  duration       date  num_of_month\n",
       "6531      701  4196.445201       0.5 2021-08-31             8\n",
       "6570      704  4830.824371       0.5 2021-10-14            10\n",
       "6680      712  4684.004397       0.5 2021-03-04             3\n",
       "6695      713  5215.642710       0.5 2021-02-25             2\n",
       "6768      718  5197.436649       0.5 2021-02-11             2"
      ]
     },
     "execution_count": 106,
     "metadata": {},
     "output_type": "execute_result"
    }
   ],
   "source": [
    "riders.query('duration<1').head()"
   ]
  },
  {
   "cell_type": "markdown",
   "id": "581c692c",
   "metadata": {},
   "source": [
    "Видим, что есть 95 сессий меньше 1ой минуты. Все аномалии в разные время, и все пользователи проехали более 4000 метров"
   ]
  },
  {
   "cell_type": "code",
   "execution_count": 86,
   "id": "f30219ba-f68a-4648-9671-224f93d6fdac",
   "metadata": {},
   "outputs": [
    {
     "data": {
      "text/plain": [
       "count      95.000000\n",
       "mean     5113.176549\n",
       "std       658.254104\n",
       "min      4030.308008\n",
       "25%      4611.510820\n",
       "50%      5052.769411\n",
       "75%      5488.459099\n",
       "max      7211.007745\n",
       "Name: distance, dtype: float64"
      ]
     },
     "metadata": {},
     "output_type": "display_data"
    },
    {
     "data": {
      "text/plain": [
       "count    18068.000000\n",
       "mean      3070.659976\n",
       "std       1116.831209\n",
       "min          0.855683\n",
       "25%       2543.226360\n",
       "50%       3133.609994\n",
       "75%       3776.222735\n",
       "max       7211.007745\n",
       "Name: distance, dtype: float64"
      ]
     },
     "metadata": {},
     "output_type": "display_data"
    }
   ],
   "source": [
    "display(riders.query('duration<1').sort_values('distance')['distance'].describe())\n",
    "display(riders['distance'].describe())"
   ]
  },
  {
   "cell_type": "markdown",
   "id": "b0f975da",
   "metadata": {},
   "source": [
    "**Вывод**\n",
    "- Чаще всего встречается Пятигорск, реже всего Москва\n",
    "- Людей без подписки больше на 8%, чем купивших ее\n",
    "- Больше всего пользоватей возраста от 21 до 28 лет, самому большому количество пользователей 25 лет. Меньше всего пользователей 12-17 лет и начиная с 34 до 43 лет. Меньше всего пользователей которым 43 года.\n",
    "- Максимальная дистанция которую проехал пользователь за одну поездку равна 7211 метроа, а минимальная меньше метра. Чаще всего пользователи проезжали примерно 3100 метров.\n",
    "- Минимальная поездка была около минуты, а максимальная прмерно 40 минут. Но чаще всего пользователи проводят в пути 19 минут\n",
    "- Нашли аномалии: видим, что есть 95 сессий меньше 1ой минуты. Все аномалии в разные время, и все пользователи проехали более 4000 метров"
   ]
  },
  {
   "cell_type": "markdown",
   "id": "4ef51331",
   "metadata": {},
   "source": [
    "## Шаг 4. Объединение данных"
   ]
  },
  {
   "cell_type": "markdown",
   "id": "3a8b19c6",
   "metadata": {},
   "source": [
    "##### Объедините данные о пользователях, поездках и подписках в один датафрейм. Для этого воспользуйтесь методом merge()"
   ]
  },
  {
   "cell_type": "code",
   "execution_count": 87,
   "id": "7b3342e5-5dd3-4c51-9860-379a38a1c6bc",
   "metadata": {},
   "outputs": [
    {
     "data": {
      "text/html": [
       "<div>\n",
       "<style scoped>\n",
       "    .dataframe tbody tr th:only-of-type {\n",
       "        vertical-align: middle;\n",
       "    }\n",
       "\n",
       "    .dataframe tbody tr th {\n",
       "        vertical-align: top;\n",
       "    }\n",
       "\n",
       "    .dataframe thead th {\n",
       "        text-align: right;\n",
       "    }\n",
       "</style>\n",
       "<table border=\"1\" class=\"dataframe\">\n",
       "  <thead>\n",
       "    <tr style=\"text-align: right;\">\n",
       "      <th></th>\n",
       "      <th>user_id</th>\n",
       "      <th>distance</th>\n",
       "      <th>duration</th>\n",
       "      <th>date</th>\n",
       "      <th>num_of_month</th>\n",
       "      <th>name</th>\n",
       "      <th>age</th>\n",
       "      <th>city</th>\n",
       "      <th>subscription_type</th>\n",
       "    </tr>\n",
       "  </thead>\n",
       "  <tbody>\n",
       "    <tr>\n",
       "      <th>0</th>\n",
       "      <td>1</td>\n",
       "      <td>4409.919140</td>\n",
       "      <td>25.599769</td>\n",
       "      <td>2021-01-01</td>\n",
       "      <td>1</td>\n",
       "      <td>Кира</td>\n",
       "      <td>22</td>\n",
       "      <td>Тюмень</td>\n",
       "      <td>ultra</td>\n",
       "    </tr>\n",
       "    <tr>\n",
       "      <th>1</th>\n",
       "      <td>1</td>\n",
       "      <td>2617.592153</td>\n",
       "      <td>15.816871</td>\n",
       "      <td>2021-01-18</td>\n",
       "      <td>1</td>\n",
       "      <td>Кира</td>\n",
       "      <td>22</td>\n",
       "      <td>Тюмень</td>\n",
       "      <td>ultra</td>\n",
       "    </tr>\n",
       "    <tr>\n",
       "      <th>2</th>\n",
       "      <td>1</td>\n",
       "      <td>754.159807</td>\n",
       "      <td>6.232113</td>\n",
       "      <td>2021-04-20</td>\n",
       "      <td>4</td>\n",
       "      <td>Кира</td>\n",
       "      <td>22</td>\n",
       "      <td>Тюмень</td>\n",
       "      <td>ultra</td>\n",
       "    </tr>\n",
       "    <tr>\n",
       "      <th>3</th>\n",
       "      <td>1</td>\n",
       "      <td>2694.783254</td>\n",
       "      <td>18.511000</td>\n",
       "      <td>2021-08-11</td>\n",
       "      <td>8</td>\n",
       "      <td>Кира</td>\n",
       "      <td>22</td>\n",
       "      <td>Тюмень</td>\n",
       "      <td>ultra</td>\n",
       "    </tr>\n",
       "    <tr>\n",
       "      <th>4</th>\n",
       "      <td>1</td>\n",
       "      <td>4028.687306</td>\n",
       "      <td>26.265803</td>\n",
       "      <td>2021-08-28</td>\n",
       "      <td>8</td>\n",
       "      <td>Кира</td>\n",
       "      <td>22</td>\n",
       "      <td>Тюмень</td>\n",
       "      <td>ultra</td>\n",
       "    </tr>\n",
       "  </tbody>\n",
       "</table>\n",
       "</div>"
      ],
      "text/plain": [
       "   user_id     distance   duration       date  num_of_month  name  age  \\\n",
       "0        1  4409.919140  25.599769 2021-01-01             1  Кира   22   \n",
       "1        1  2617.592153  15.816871 2021-01-18             1  Кира   22   \n",
       "2        1   754.159807   6.232113 2021-04-20             4  Кира   22   \n",
       "3        1  2694.783254  18.511000 2021-08-11             8  Кира   22   \n",
       "4        1  4028.687306  26.265803 2021-08-28             8  Кира   22   \n",
       "\n",
       "     city subscription_type  \n",
       "0  Тюмень             ultra  \n",
       "1  Тюмень             ultra  \n",
       "2  Тюмень             ultra  \n",
       "3  Тюмень             ultra  \n",
       "4  Тюмень             ultra  "
      ]
     },
     "execution_count": 87,
     "metadata": {},
     "output_type": "execute_result"
    }
   ],
   "source": [
    "data = riders.merge(users)#.merge(subscriptions)\n",
    "data.head()"
   ]
  },
  {
   "cell_type": "code",
   "execution_count": 88,
   "id": "3d5767ae-b530-4d45-878e-639eacf6223c",
   "metadata": {},
   "outputs": [
    {
     "data": {
      "text/plain": [
       "True"
      ]
     },
     "execution_count": 88,
     "metadata": {},
     "output_type": "execute_result"
    }
   ],
   "source": [
    "len(data)==len(riders)"
   ]
  },
  {
   "cell_type": "code",
   "execution_count": 43,
   "id": "379ebad2",
   "metadata": {},
   "outputs": [
    {
     "data": {
      "text/plain": [
       "user_id              0\n",
       "distance             0\n",
       "duration             0\n",
       "date                 0\n",
       "num_of_month         0\n",
       "name                 0\n",
       "age                  0\n",
       "city                 0\n",
       "subscription_type    0\n",
       "dtype: int64"
      ]
     },
     "execution_count": 43,
     "metadata": {},
     "output_type": "execute_result"
    }
   ],
   "source": [
    "data.isna().sum()"
   ]
  },
  {
   "cell_type": "code",
   "execution_count": 44,
   "id": "1063e04f",
   "metadata": {},
   "outputs": [
    {
     "data": {
      "text/plain": [
       "0"
      ]
     },
     "execution_count": 44,
     "metadata": {},
     "output_type": "execute_result"
    }
   ],
   "source": [
    "data.duplicated().sum()"
   ]
  },
  {
   "cell_type": "markdown",
   "id": "54eb8801",
   "metadata": {},
   "source": [
    "Объединение таблиц прошло успешно"
   ]
  },
  {
   "cell_type": "markdown",
   "id": "8965b751",
   "metadata": {},
   "source": [
    "##### Создайте ещё два датафрейма из датафрейма, созданного на этапе 4.1:"
   ]
  },
  {
   "cell_type": "markdown",
   "id": "32d917d5",
   "metadata": {},
   "source": [
    "c данными о пользователях c подпиской"
   ]
  },
  {
   "cell_type": "code",
   "execution_count": 89,
   "id": "43029c6d",
   "metadata": {},
   "outputs": [
    {
     "data": {
      "text/html": [
       "<div>\n",
       "<style scoped>\n",
       "    .dataframe tbody tr th:only-of-type {\n",
       "        vertical-align: middle;\n",
       "    }\n",
       "\n",
       "    .dataframe tbody tr th {\n",
       "        vertical-align: top;\n",
       "    }\n",
       "\n",
       "    .dataframe thead th {\n",
       "        text-align: right;\n",
       "    }\n",
       "</style>\n",
       "<table border=\"1\" class=\"dataframe\">\n",
       "  <thead>\n",
       "    <tr style=\"text-align: right;\">\n",
       "      <th></th>\n",
       "      <th>user_id</th>\n",
       "      <th>distance</th>\n",
       "      <th>duration</th>\n",
       "      <th>date</th>\n",
       "      <th>num_of_month</th>\n",
       "      <th>name</th>\n",
       "      <th>age</th>\n",
       "      <th>city</th>\n",
       "      <th>subscription_type</th>\n",
       "    </tr>\n",
       "  </thead>\n",
       "  <tbody>\n",
       "    <tr>\n",
       "      <th>0</th>\n",
       "      <td>1</td>\n",
       "      <td>4409.919140</td>\n",
       "      <td>25.599769</td>\n",
       "      <td>2021-01-01</td>\n",
       "      <td>1</td>\n",
       "      <td>Кира</td>\n",
       "      <td>22</td>\n",
       "      <td>Тюмень</td>\n",
       "      <td>ultra</td>\n",
       "    </tr>\n",
       "    <tr>\n",
       "      <th>1</th>\n",
       "      <td>1</td>\n",
       "      <td>2617.592153</td>\n",
       "      <td>15.816871</td>\n",
       "      <td>2021-01-18</td>\n",
       "      <td>1</td>\n",
       "      <td>Кира</td>\n",
       "      <td>22</td>\n",
       "      <td>Тюмень</td>\n",
       "      <td>ultra</td>\n",
       "    </tr>\n",
       "    <tr>\n",
       "      <th>2</th>\n",
       "      <td>1</td>\n",
       "      <td>754.159807</td>\n",
       "      <td>6.232113</td>\n",
       "      <td>2021-04-20</td>\n",
       "      <td>4</td>\n",
       "      <td>Кира</td>\n",
       "      <td>22</td>\n",
       "      <td>Тюмень</td>\n",
       "      <td>ultra</td>\n",
       "    </tr>\n",
       "    <tr>\n",
       "      <th>3</th>\n",
       "      <td>1</td>\n",
       "      <td>2694.783254</td>\n",
       "      <td>18.511000</td>\n",
       "      <td>2021-08-11</td>\n",
       "      <td>8</td>\n",
       "      <td>Кира</td>\n",
       "      <td>22</td>\n",
       "      <td>Тюмень</td>\n",
       "      <td>ultra</td>\n",
       "    </tr>\n",
       "    <tr>\n",
       "      <th>4</th>\n",
       "      <td>1</td>\n",
       "      <td>4028.687306</td>\n",
       "      <td>26.265803</td>\n",
       "      <td>2021-08-28</td>\n",
       "      <td>8</td>\n",
       "      <td>Кира</td>\n",
       "      <td>22</td>\n",
       "      <td>Тюмень</td>\n",
       "      <td>ultra</td>\n",
       "    </tr>\n",
       "  </tbody>\n",
       "</table>\n",
       "</div>"
      ],
      "text/plain": [
       "   user_id     distance   duration       date  num_of_month  name  age  \\\n",
       "0        1  4409.919140  25.599769 2021-01-01             1  Кира   22   \n",
       "1        1  2617.592153  15.816871 2021-01-18             1  Кира   22   \n",
       "2        1   754.159807   6.232113 2021-04-20             4  Кира   22   \n",
       "3        1  2694.783254  18.511000 2021-08-11             8  Кира   22   \n",
       "4        1  4028.687306  26.265803 2021-08-28             8  Кира   22   \n",
       "\n",
       "     city subscription_type  \n",
       "0  Тюмень             ultra  \n",
       "1  Тюмень             ultra  \n",
       "2  Тюмень             ultra  \n",
       "3  Тюмень             ultra  \n",
       "4  Тюмень             ultra  "
      ]
     },
     "execution_count": 89,
     "metadata": {},
     "output_type": "execute_result"
    }
   ],
   "source": [
    "data_ultra_sub = data.query(\"subscription_type == 'ultra'\")\n",
    "data_ultra_sub.head()"
   ]
  },
  {
   "cell_type": "markdown",
   "id": "4d5a790f",
   "metadata": {},
   "source": [
    "с данными о пользователях без подписки."
   ]
  },
  {
   "cell_type": "code",
   "execution_count": 105,
   "id": "d256b573-adc8-4b0d-8533-1e7689d6926f",
   "metadata": {},
   "outputs": [
    {
     "data": {
      "text/html": [
       "<div>\n",
       "<style scoped>\n",
       "    .dataframe tbody tr th:only-of-type {\n",
       "        vertical-align: middle;\n",
       "    }\n",
       "\n",
       "    .dataframe tbody tr th {\n",
       "        vertical-align: top;\n",
       "    }\n",
       "\n",
       "    .dataframe thead th {\n",
       "        text-align: right;\n",
       "    }\n",
       "</style>\n",
       "<table border=\"1\" class=\"dataframe\">\n",
       "  <thead>\n",
       "    <tr style=\"text-align: right;\">\n",
       "      <th></th>\n",
       "      <th>user_id</th>\n",
       "      <th>distance</th>\n",
       "      <th>duration</th>\n",
       "      <th>date</th>\n",
       "      <th>num_of_month</th>\n",
       "      <th>name</th>\n",
       "      <th>age</th>\n",
       "      <th>city</th>\n",
       "      <th>subscription_type</th>\n",
       "    </tr>\n",
       "  </thead>\n",
       "  <tbody>\n",
       "    <tr>\n",
       "      <th>6500</th>\n",
       "      <td>700</td>\n",
       "      <td>2515.690719</td>\n",
       "      <td>14.944286</td>\n",
       "      <td>2021-01-02</td>\n",
       "      <td>1</td>\n",
       "      <td>Айдар</td>\n",
       "      <td>22</td>\n",
       "      <td>Омск</td>\n",
       "      <td>free</td>\n",
       "    </tr>\n",
       "    <tr>\n",
       "      <th>6501</th>\n",
       "      <td>700</td>\n",
       "      <td>846.932642</td>\n",
       "      <td>16.234663</td>\n",
       "      <td>2021-02-01</td>\n",
       "      <td>2</td>\n",
       "      <td>Айдар</td>\n",
       "      <td>22</td>\n",
       "      <td>Омск</td>\n",
       "      <td>free</td>\n",
       "    </tr>\n",
       "    <tr>\n",
       "      <th>6502</th>\n",
       "      <td>700</td>\n",
       "      <td>4004.434142</td>\n",
       "      <td>20.016628</td>\n",
       "      <td>2021-02-04</td>\n",
       "      <td>2</td>\n",
       "      <td>Айдар</td>\n",
       "      <td>22</td>\n",
       "      <td>Омск</td>\n",
       "      <td>free</td>\n",
       "    </tr>\n",
       "    <tr>\n",
       "      <th>6503</th>\n",
       "      <td>700</td>\n",
       "      <td>1205.911290</td>\n",
       "      <td>9.782872</td>\n",
       "      <td>2021-02-10</td>\n",
       "      <td>2</td>\n",
       "      <td>Айдар</td>\n",
       "      <td>22</td>\n",
       "      <td>Омск</td>\n",
       "      <td>free</td>\n",
       "    </tr>\n",
       "    <tr>\n",
       "      <th>6504</th>\n",
       "      <td>700</td>\n",
       "      <td>3047.379435</td>\n",
       "      <td>17.427673</td>\n",
       "      <td>2021-02-14</td>\n",
       "      <td>2</td>\n",
       "      <td>Айдар</td>\n",
       "      <td>22</td>\n",
       "      <td>Омск</td>\n",
       "      <td>free</td>\n",
       "    </tr>\n",
       "  </tbody>\n",
       "</table>\n",
       "</div>"
      ],
      "text/plain": [
       "      user_id     distance   duration       date  num_of_month   name  age  \\\n",
       "6500      700  2515.690719  14.944286 2021-01-02             1  Айдар   22   \n",
       "6501      700   846.932642  16.234663 2021-02-01             2  Айдар   22   \n",
       "6502      700  4004.434142  20.016628 2021-02-04             2  Айдар   22   \n",
       "6503      700  1205.911290   9.782872 2021-02-10             2  Айдар   22   \n",
       "6504      700  3047.379435  17.427673 2021-02-14             2  Айдар   22   \n",
       "\n",
       "      city subscription_type  \n",
       "6500  Омск              free  \n",
       "6501  Омск              free  \n",
       "6502  Омск              free  \n",
       "6503  Омск              free  \n",
       "6504  Омск              free  "
      ]
     },
     "execution_count": 105,
     "metadata": {},
     "output_type": "execute_result"
    }
   ],
   "source": [
    "data_free_sub = data.query(\"subscription_type == 'free'\")\n",
    "data_free_sub.head()"
   ]
  },
  {
   "cell_type": "code",
   "execution_count": 93,
   "id": "1745ac4e-2fe2-4919-a711-1d43a3126765",
   "metadata": {},
   "outputs": [
    {
     "data": {
      "text/plain": [
       "((11568, 9, 6500, 9), (18068, 9))"
      ]
     },
     "execution_count": 93,
     "metadata": {},
     "output_type": "execute_result"
    }
   ],
   "source": [
    "data_free_sub.shape+data_ultra_sub.shape,data.shape"
   ]
  },
  {
   "cell_type": "code",
   "execution_count": 47,
   "id": "0078c5c8",
   "metadata": {},
   "outputs": [
    {
     "data": {
      "text/plain": [
       "True"
      ]
     },
     "execution_count": 47,
     "metadata": {},
     "output_type": "execute_result"
    }
   ],
   "source": [
    "len(data) == (len(data_free_sub) + len(data_ultra_sub))"
   ]
  },
  {
   "cell_type": "markdown",
   "id": "f6f08433",
   "metadata": {},
   "source": [
    "##### Визуализируйте информацию о расстоянии и времени поездок для пользователей обеих категорий."
   ]
  },
  {
   "cell_type": "markdown",
   "id": "3e7fafc7",
   "metadata": {},
   "source": [
    "Расстояние и время поездок для пользователей c подпиской"
   ]
  },
  {
   "cell_type": "code",
   "execution_count": 100,
   "id": "fa0c068a-3abf-40ce-913f-a0f3ea9af1ae",
   "metadata": {},
   "outputs": [
    {
     "data": {
      "image/png": "[encoded data removed]",
      "text/plain": [
       "<Figure size 640x480 with 1 Axes>"
      ]
     },
     "metadata": {},
     "output_type": "display_data"
    }
   ],
   "source": [
    "plt.hist(data_ultra_sub['distance'],ec='black',bins = 100)\n",
    "#plt.title('Расстояние(платный тариф)')\n",
    "plt.xlabel('Расстояние, м')\n",
    "plt.ylabel('Количество поездок');"
   ]
  },
  {
   "cell_type": "code",
   "execution_count": 101,
   "id": "fc1c9860-ba67-4e03-ad19-c7b83e6fe24f",
   "metadata": {},
   "outputs": [
    {
     "data": {
      "image/png": "[encoded data removed]",
      "text/plain": [
       "<Figure size 640x480 with 1 Axes>"
      ]
     },
     "metadata": {},
     "output_type": "display_data"
    }
   ],
   "source": [
    "data_ultra_sub.hist('duration',ec='black');\n",
    "#plt.title('Время(платный тариф)');\n",
    "plt.xlabel('Время, м');\n",
    "plt.ylabel('Количество поездок');"
   ]
  },
  {
   "cell_type": "markdown",
   "id": "8ed0a3fd",
   "metadata": {},
   "source": [
    "Расстояние и время поездок для пользователей без подписки"
   ]
  },
  {
   "cell_type": "code",
   "execution_count": 102,
   "id": "de9937bc-f268-4874-92bb-3822b06780ca",
   "metadata": {},
   "outputs": [
    {
     "data": {
      "image/png": "[encoded data removed]",
      "text/plain": [
       "<Figure size 640x480 with 1 Axes>"
      ]
     },
     "metadata": {},
     "output_type": "display_data"
    }
   ],
   "source": [
    "data_free_sub.hist('distance',ec='black');\n",
    "#plt.title('Расстояние(бесплатный тариф)');\n",
    "plt.xlabel('Расстояние, м');\n",
    "plt.ylabel('Количество поездок');"
   ]
  },
  {
   "cell_type": "code",
   "execution_count": 103,
   "id": "8e6d3152-4279-4d6f-a957-99951e6f9d92",
   "metadata": {},
   "outputs": [
    {
     "data": {
      "image/png": "[encoded data removed]",
      "text/plain": [
       "<Figure size 640x480 with 1 Axes>"
      ]
     },
     "metadata": {},
     "output_type": "display_data"
    }
   ],
   "source": [
    "data_free_sub.hist('duration',ec='black');\n",
    "#plt.title('Время(бесплатный тариф)');\n",
    "plt.xlabel('Время, м');\n",
    "plt.ylabel('Количество поездок');"
   ]
  },
  {
   "cell_type": "code",
   "execution_count": 52,
   "id": "ffba9464",
   "metadata": {},
   "outputs": [
    {
     "data": {
      "image/png": "[encoded data removed]",
      "text/plain": [
       "<Figure size 640x480 with 2 Axes>"
      ]
     },
     "metadata": {},
     "output_type": "display_data"
    }
   ],
   "source": [
    "x = data_ultra_sub['distance']\n",
    "y = data_free_sub['distance']\n",
    "fig, ax1 = plt.subplots()\n",
    "ax2 = ax1.twinx()\n",
    "plt.hist(x, bins=100, alpha=0.5, label='расстояние с подпиской')\n",
    "plt.hist(y, bins=100, alpha=0.5, label='расстояние без подписки')\n",
    "plt.legend(loc='upper right')\n",
    "plt.show()"
   ]
  },
  {
   "cell_type": "code",
   "execution_count": 53,
   "id": "8f6bead9",
   "metadata": {},
   "outputs": [
    {
     "data": {
      "text/plain": [
       "('с подпиской',\n",
       " count    6500.000000\n",
       " mean     3115.445388\n",
       " std       836.895330\n",
       " min       244.210438\n",
       " 25%      2785.444017\n",
       " 50%      3148.637229\n",
       " 75%      3560.574425\n",
       " max      5699.769662\n",
       " Name: distance, dtype: float64,\n",
       " 'без подписки',\n",
       " count    11568.000000\n",
       " mean      3045.495282\n",
       " std       1246.173806\n",
       " min          0.855683\n",
       " 25%       2366.562689\n",
       " 50%       3114.648465\n",
       " 75%       3905.697894\n",
       " max       7211.007745\n",
       " Name: distance, dtype: float64)"
      ]
     },
     "execution_count": 53,
     "metadata": {},
     "output_type": "execute_result"
    }
   ],
   "source": [
    "'с подпиской',data_ultra_sub['distance'].describe(),'без подписки',data_free_sub['distance'].describe()"
   ]
  },
  {
   "cell_type": "markdown",
   "id": "14c4e566",
   "metadata": {},
   "source": [
    "Чаще встречаются короткие поездки (до 500 м) у пользователей без подписки. Медиана отличается не сильно. Больший разброс наблюдается у пользователей без подписки. График расстояний с подпиской более узкий,ежели график без подписки."
   ]
  },
  {
   "cell_type": "code",
   "execution_count": 54,
   "id": "010844bc",
   "metadata": {},
   "outputs": [
    {
     "data": {
      "image/png": "[encoded data removed]",
      "text/plain": [
       "<Figure size 640x480 with 2 Axes>"
      ]
     },
     "metadata": {},
     "output_type": "display_data"
    }
   ],
   "source": [
    "x = data_ultra_sub['duration']\n",
    "y = data_free_sub['duration']\n",
    "fig, ax1 = plt.subplots()\n",
    "ax2 = ax1.twinx()\n",
    "plt.hist(x, bins=100, alpha=0.5, label='время с подпиской')\n",
    "plt.hist(y, bins=100, alpha=0.5, label='время без подписки')\n",
    "plt.legend(loc='upper right')\n",
    "plt.show()"
   ]
  },
  {
   "cell_type": "code",
   "execution_count": 55,
   "id": "19e29c6c",
   "metadata": {},
   "outputs": [
    {
     "data": {
      "text/plain": [
       "('с подпиской',\n",
       " count    6500.000000\n",
       " mean       18.541985\n",
       " std         5.572048\n",
       " min         3.760353\n",
       " 25%        14.524654\n",
       " 50%        18.178153\n",
       " 75%        21.884129\n",
       " max        40.823963\n",
       " Name: duration, dtype: float64,\n",
       " 'без подписки',\n",
       " count    11568.000000\n",
       " mean        17.390909\n",
       " std          6.326803\n",
       " min          0.500000\n",
       " 25%         12.958437\n",
       " 50%         17.326890\n",
       " 75%         21.594071\n",
       " max         34.948498\n",
       " Name: duration, dtype: float64)"
      ]
     },
     "execution_count": 55,
     "metadata": {},
     "output_type": "execute_result"
    }
   ],
   "source": [
    "'с подпиской',data_ultra_sub['duration'].describe(),'без подписки',data_free_sub['duration'].describe()"
   ]
  },
  {
   "cell_type": "markdown",
   "id": "b32a2b4d",
   "metadata": {},
   "source": [
    "Время без подписки есть выброс значений около 0. Медиана примерно одинакова. Разброса у значений нет"
   ]
  },
  {
   "cell_type": "markdown",
   "id": "a48e3756",
   "metadata": {},
   "source": [
    "**Вывод:**\n",
    "- Сделали общий датафрейм - data\n",
    "- Сделали датафреймы без подписки data_free_sub, и с подпиской data_ultra_sub\n",
    "- Для data_free_sub:\n",
    "    - максимальное Время в пути примерно 35 минут, а минимальное примерно 1 минута, чаще всего люди проводят в пути - около 16 минут\n",
    "    - максимальное Расстояние около 7000 метров,а минимальное - меньше 1, чаще всего люди проезжают чуть меньше 3000 метров\n",
    "- Для data_ultra_sub:\n",
    "    - максимальное Время в пути примерно 40 минут, а минимальное примерно 3 минуты, чаще всего люди проводят в пути - около 16-20 минут\n",
    "    - максимальное Расстояние около 5500 метров,а минимальное - меньше 100, чаще всего люди проезжают чуть меньше 3000 метров\n",
    "    \n",
    "- Чаще встречаются короткие поездки (до 500 м) у пользователей без подписки. Медиана отличается не сильно. Больший разброс наблюдается у пользователей без подписки. График расстояний с подпиской более узкий,ежели график без подписки.\n",
    "- Время без подписки есть выброс значений около 0. Медиана примерно одинакова. Разброса у значений нет"
   ]
  },
  {
   "cell_type": "markdown",
   "id": "402d620f",
   "metadata": {},
   "source": [
    "## Шаг 5. Подсчёт выручки"
   ]
  },
  {
   "cell_type": "markdown",
   "id": "d4e66411",
   "metadata": {},
   "source": [
    "##### Создайте датафрейм с агрегированными данными: найдите суммарное расстояние, количество поездок и суммарное время для каждого пользователя за каждый месяц."
   ]
  },
  {
   "cell_type": "code",
   "execution_count": 56,
   "id": "497ee5a1",
   "metadata": {},
   "outputs": [
    {
     "data": {
      "text/html": [
       "<div>\n",
       "<style scoped>\n",
       "    .dataframe tbody tr th:only-of-type {\n",
       "        vertical-align: middle;\n",
       "    }\n",
       "\n",
       "    .dataframe tbody tr th {\n",
       "        vertical-align: top;\n",
       "    }\n",
       "\n",
       "    .dataframe thead th {\n",
       "        text-align: right;\n",
       "    }\n",
       "</style>\n",
       "<table border=\"1\" class=\"dataframe\">\n",
       "  <thead>\n",
       "    <tr style=\"text-align: right;\">\n",
       "      <th></th>\n",
       "      <th></th>\n",
       "      <th>distance</th>\n",
       "      <th>duration</th>\n",
       "      <th>count_distance</th>\n",
       "    </tr>\n",
       "    <tr>\n",
       "      <th>num_of_month</th>\n",
       "      <th>user_id</th>\n",
       "      <th></th>\n",
       "      <th></th>\n",
       "      <th></th>\n",
       "    </tr>\n",
       "  </thead>\n",
       "  <tbody>\n",
       "    <tr>\n",
       "      <th>1</th>\n",
       "      <th>1</th>\n",
       "      <td>7027.511294</td>\n",
       "      <td>42.0</td>\n",
       "      <td>2</td>\n",
       "    </tr>\n",
       "    <tr>\n",
       "      <th>4</th>\n",
       "      <th>1</th>\n",
       "      <td>754.159807</td>\n",
       "      <td>7.0</td>\n",
       "      <td>1</td>\n",
       "    </tr>\n",
       "    <tr>\n",
       "      <th>8</th>\n",
       "      <th>1</th>\n",
       "      <td>6723.470560</td>\n",
       "      <td>46.0</td>\n",
       "      <td>2</td>\n",
       "    </tr>\n",
       "    <tr>\n",
       "      <th>10</th>\n",
       "      <th>1</th>\n",
       "      <td>5809.911100</td>\n",
       "      <td>32.0</td>\n",
       "      <td>2</td>\n",
       "    </tr>\n",
       "    <tr>\n",
       "      <th>11</th>\n",
       "      <th>1</th>\n",
       "      <td>7003.499363</td>\n",
       "      <td>56.0</td>\n",
       "      <td>3</td>\n",
       "    </tr>\n",
       "    <tr>\n",
       "      <th>12</th>\n",
       "      <th>1</th>\n",
       "      <td>6751.629942</td>\n",
       "      <td>28.0</td>\n",
       "      <td>2</td>\n",
       "    </tr>\n",
       "  </tbody>\n",
       "</table>\n",
       "</div>"
      ],
      "text/plain": [
       "                         distance  duration  count_distance\n",
       "num_of_month user_id                                       \n",
       "1            1        7027.511294      42.0               2\n",
       "4            1         754.159807       7.0               1\n",
       "8            1        6723.470560      46.0               2\n",
       "10           1        5809.911100      32.0               2\n",
       "11           1        7003.499363      56.0               3\n",
       "12           1        6751.629942      28.0               2"
      ]
     },
     "execution_count": 56,
     "metadata": {},
     "output_type": "execute_result"
    }
   ],
   "source": [
    "data['duration'] = np.ceil(data['duration']) \n",
    "data_agg = data.pivot_table(index = ['num_of_month','user_id'],\n",
    "                            values = ['distance','duration','name'],\n",
    "                            aggfunc = {'distance':'sum','duration':'sum','name':'count'})\n",
    "data_agg.rename(columns = {'name':'count_distance'},inplace = True)\n",
    "data_agg.query('user_id == 1')"
   ]
  },
  {
   "cell_type": "markdown",
   "id": "e7cb0868",
   "metadata": {},
   "source": [
    "##### В этот же датафрейм добавьте столбец с помесячной выручкой, которую принёс каждый пользователь"
   ]
  },
  {
   "cell_type": "markdown",
   "id": "0bf46b99",
   "metadata": {},
   "source": [
    "В этот же датафрейм добавьте столбец с помесячной выручкой, которую принёс каждый пользователь. Для этого обратитесь к информации об условиях оплаты для подписчиков и тех, у кого нет подписки. Продолжительность каждой поездки в каждой строке исходного датафрейма для подсчёта стоимости округляется до следующего целого числа: например, значения \n",
    "25.3\n",
    "25.3, \n",
    "25.5\n",
    "25.5 и \n",
    "26.0\n",
    "26.0 должны быть преобразованы к \n",
    "26\n",
    "26."
   ]
  },
  {
   "cell_type": "code",
   "execution_count": 57,
   "id": "de85cdc2",
   "metadata": {},
   "outputs": [
    {
     "data": {
      "text/html": [
       "<div>\n",
       "<style scoped>\n",
       "    .dataframe tbody tr th:only-of-type {\n",
       "        vertical-align: middle;\n",
       "    }\n",
       "\n",
       "    .dataframe tbody tr th {\n",
       "        vertical-align: top;\n",
       "    }\n",
       "\n",
       "    .dataframe thead th {\n",
       "        text-align: right;\n",
       "    }\n",
       "</style>\n",
       "<table border=\"1\" class=\"dataframe\">\n",
       "  <thead>\n",
       "    <tr style=\"text-align: right;\">\n",
       "      <th></th>\n",
       "      <th></th>\n",
       "      <th>distance</th>\n",
       "      <th>duration</th>\n",
       "      <th>count_distance</th>\n",
       "      <th>subscription_type</th>\n",
       "    </tr>\n",
       "    <tr>\n",
       "      <th>num_of_month</th>\n",
       "      <th>user_id</th>\n",
       "      <th></th>\n",
       "      <th></th>\n",
       "      <th></th>\n",
       "      <th></th>\n",
       "    </tr>\n",
       "  </thead>\n",
       "  <tbody>\n",
       "    <tr>\n",
       "      <th rowspan=\"5\" valign=\"top\">1</th>\n",
       "      <th>1</th>\n",
       "      <td>7027.511294</td>\n",
       "      <td>42.0</td>\n",
       "      <td>2</td>\n",
       "      <td>ultra</td>\n",
       "    </tr>\n",
       "    <tr>\n",
       "      <th>3</th>\n",
       "      <td>3061.777147</td>\n",
       "      <td>13.0</td>\n",
       "      <td>1</td>\n",
       "      <td>ultra</td>\n",
       "    </tr>\n",
       "    <tr>\n",
       "      <th>5</th>\n",
       "      <td>3914.646990</td>\n",
       "      <td>13.0</td>\n",
       "      <td>1</td>\n",
       "      <td>ultra</td>\n",
       "    </tr>\n",
       "    <tr>\n",
       "      <th>7</th>\n",
       "      <td>6478.080979</td>\n",
       "      <td>28.0</td>\n",
       "      <td>2</td>\n",
       "      <td>ultra</td>\n",
       "    </tr>\n",
       "    <tr>\n",
       "      <th>12</th>\n",
       "      <td>3577.151148</td>\n",
       "      <td>33.0</td>\n",
       "      <td>1</td>\n",
       "      <td>ultra</td>\n",
       "    </tr>\n",
       "    <tr>\n",
       "      <th>...</th>\n",
       "      <th>...</th>\n",
       "      <td>...</td>\n",
       "      <td>...</td>\n",
       "      <td>...</td>\n",
       "      <td>...</td>\n",
       "    </tr>\n",
       "    <tr>\n",
       "      <th rowspan=\"5\" valign=\"top\">12</th>\n",
       "      <th>1525</th>\n",
       "      <td>4597.854350</td>\n",
       "      <td>34.0</td>\n",
       "      <td>1</td>\n",
       "      <td>free</td>\n",
       "    </tr>\n",
       "    <tr>\n",
       "      <th>1526</th>\n",
       "      <td>3644.121544</td>\n",
       "      <td>23.0</td>\n",
       "      <td>1</td>\n",
       "      <td>free</td>\n",
       "    </tr>\n",
       "    <tr>\n",
       "      <th>1528</th>\n",
       "      <td>3998.569324</td>\n",
       "      <td>11.0</td>\n",
       "      <td>1</td>\n",
       "      <td>free</td>\n",
       "    </tr>\n",
       "    <tr>\n",
       "      <th>1532</th>\n",
       "      <td>6111.889853</td>\n",
       "      <td>42.0</td>\n",
       "      <td>2</td>\n",
       "      <td>free</td>\n",
       "    </tr>\n",
       "    <tr>\n",
       "      <th>1534</th>\n",
       "      <td>2371.711192</td>\n",
       "      <td>16.0</td>\n",
       "      <td>1</td>\n",
       "      <td>free</td>\n",
       "    </tr>\n",
       "  </tbody>\n",
       "</table>\n",
       "<p>11331 rows × 4 columns</p>\n",
       "</div>"
      ],
      "text/plain": [
       "                         distance  duration  count_distance subscription_type\n",
       "num_of_month user_id                                                         \n",
       "1            1        7027.511294      42.0               2             ultra\n",
       "             3        3061.777147      13.0               1             ultra\n",
       "             5        3914.646990      13.0               1             ultra\n",
       "             7        6478.080979      28.0               2             ultra\n",
       "             12       3577.151148      33.0               1             ultra\n",
       "...                           ...       ...             ...               ...\n",
       "12           1525     4597.854350      34.0               1              free\n",
       "             1526     3644.121544      23.0               1              free\n",
       "             1528     3998.569324      11.0               1              free\n",
       "             1532     6111.889853      42.0               2              free\n",
       "             1534     2371.711192      16.0               1              free\n",
       "\n",
       "[11331 rows x 4 columns]"
      ]
     },
     "execution_count": 57,
     "metadata": {},
     "output_type": "execute_result"
    }
   ],
   "source": [
    "data_agg['subscription_type'] = data.pivot_table(index = ['num_of_month','user_id'],\n",
    "                            values = 'subscription_type',aggfunc = 'min')\n",
    "data_agg"
   ]
  },
  {
   "cell_type": "markdown",
   "id": "36f72406",
   "metadata": {},
   "source": [
    "стоимость старта поездки × количество поездок + стоимость одной минуты поездки × общая продолжительность всех поездок в минутах + стоимость подписки.\n",
    "- без подписки\n",
    "   - абонентская плата отсутствует;\n",
    "   - стоимость одной минуты поездки —  8 рублей;\n",
    "   - стоимость старта (начала поездки) — 50 рублей;\n",
    "- с подпиской Ultra\n",
    "   - абонентская плата — 199 рублей в месяц;\n",
    "   - стоимость одной минуты поездки — 6 рублей;\n",
    "   - стоимость старта — бесплатно."
   ]
  },
  {
   "cell_type": "code",
   "execution_count": 104,
   "id": "6ea40189-a460-4cc5-a221-259e8e41639e",
   "metadata": {},
   "outputs": [
    {
     "data": {
      "text/html": [
       "<div>\n",
       "<style scoped>\n",
       "    .dataframe tbody tr th:only-of-type {\n",
       "        vertical-align: middle;\n",
       "    }\n",
       "\n",
       "    .dataframe tbody tr th {\n",
       "        vertical-align: top;\n",
       "    }\n",
       "\n",
       "    .dataframe thead th {\n",
       "        text-align: right;\n",
       "    }\n",
       "</style>\n",
       "<table border=\"1\" class=\"dataframe\">\n",
       "  <thead>\n",
       "    <tr style=\"text-align: right;\">\n",
       "      <th></th>\n",
       "      <th></th>\n",
       "      <th>distance</th>\n",
       "      <th>duration</th>\n",
       "      <th>count_distance</th>\n",
       "      <th>subscription_type</th>\n",
       "      <th>pay_for_month</th>\n",
       "    </tr>\n",
       "    <tr>\n",
       "      <th>num_of_month</th>\n",
       "      <th>user_id</th>\n",
       "      <th></th>\n",
       "      <th></th>\n",
       "      <th></th>\n",
       "      <th></th>\n",
       "      <th></th>\n",
       "    </tr>\n",
       "  </thead>\n",
       "  <tbody>\n",
       "    <tr>\n",
       "      <th rowspan=\"5\" valign=\"top\">1</th>\n",
       "      <th>1</th>\n",
       "      <td>7027.511294</td>\n",
       "      <td>42.0</td>\n",
       "      <td>2</td>\n",
       "      <td>ultra</td>\n",
       "      <td>451.0</td>\n",
       "    </tr>\n",
       "    <tr>\n",
       "      <th>3</th>\n",
       "      <td>3061.777147</td>\n",
       "      <td>13.0</td>\n",
       "      <td>1</td>\n",
       "      <td>ultra</td>\n",
       "      <td>277.0</td>\n",
       "    </tr>\n",
       "    <tr>\n",
       "      <th>5</th>\n",
       "      <td>3914.646990</td>\n",
       "      <td>13.0</td>\n",
       "      <td>1</td>\n",
       "      <td>ultra</td>\n",
       "      <td>277.0</td>\n",
       "    </tr>\n",
       "    <tr>\n",
       "      <th>7</th>\n",
       "      <td>6478.080979</td>\n",
       "      <td>28.0</td>\n",
       "      <td>2</td>\n",
       "      <td>ultra</td>\n",
       "      <td>367.0</td>\n",
       "    </tr>\n",
       "    <tr>\n",
       "      <th>12</th>\n",
       "      <td>3577.151148</td>\n",
       "      <td>33.0</td>\n",
       "      <td>1</td>\n",
       "      <td>ultra</td>\n",
       "      <td>397.0</td>\n",
       "    </tr>\n",
       "  </tbody>\n",
       "</table>\n",
       "</div>"
      ],
      "text/plain": [
       "                         distance  duration  count_distance subscription_type  \\\n",
       "num_of_month user_id                                                            \n",
       "1            1        7027.511294      42.0               2             ultra   \n",
       "             3        3061.777147      13.0               1             ultra   \n",
       "             5        3914.646990      13.0               1             ultra   \n",
       "             7        6478.080979      28.0               2             ultra   \n",
       "             12       3577.151148      33.0               1             ultra   \n",
       "\n",
       "                      pay_for_month  \n",
       "num_of_month user_id                 \n",
       "1            1                451.0  \n",
       "             3                277.0  \n",
       "             5                277.0  \n",
       "             7                367.0  \n",
       "             12               397.0  "
      ]
     },
     "execution_count": 104,
     "metadata": {},
     "output_type": "execute_result"
    }
   ],
   "source": [
    "def pay_for_month(row):\n",
    "    if row['subscription_type'] == 'free':\n",
    "        return 50*row['count_distance']+8*row['duration']+0\n",
    "    if row['subscription_type'] == 'ultra':\n",
    "        return 0*row['count_distance']+6*row['duration']+199\n",
    "    \n",
    "\n",
    "data_agg['pay_for_month'] = data_agg.apply(pay_for_month, axis=1)\n",
    "data_agg.head()"
   ]
  },
  {
   "cell_type": "code",
   "execution_count": 59,
   "id": "441476d1",
   "metadata": {},
   "outputs": [
    {
     "data": {
      "text/plain": [
       "count    11331.000000\n",
       "mean       342.303504\n",
       "std        153.875346\n",
       "min         58.000000\n",
       "25%        234.000000\n",
       "50%        319.000000\n",
       "75%        415.000000\n",
       "max       1444.000000\n",
       "Name: pay_for_month, dtype: float64"
      ]
     },
     "execution_count": 59,
     "metadata": {},
     "output_type": "execute_result"
    }
   ],
   "source": [
    "data_agg['pay_for_month'].describe()"
   ]
  },
  {
   "cell_type": "markdown",
   "id": "d08f0cd3",
   "metadata": {},
   "source": [
    "**Вывод:**\n",
    "- Создали датафрейм с агрегированными данными - data_agg, в котором включены столбцы:суммарное расстояние - distance, количество поездок - count_distance  и суммарное время для каждого пользователя за каждый месяц - duration\n",
    "- Добавили столбец с помесячной выручкой - pay_for_month "
   ]
  },
  {
   "cell_type": "markdown",
   "id": "41545ac0",
   "metadata": {},
   "source": [
    "#### Шаг 6. Проверка гипотез"
   ]
  },
  {
   "cell_type": "markdown",
   "id": "eeba4c7f",
   "metadata": {},
   "source": [
    "##### Важно понять, тратят ли пользователи с подпиской больше времени на поездки? Если да, то пользователи с подпиской могут быть «выгоднее» для компании. Проверьте гипотезу. Используйте исходные данные о продолжительности каждой сессии — отдельно для подписчиков и тех, у кого нет подписки.\n"
   ]
  },
  {
   "cell_type": "markdown",
   "id": "d9463694",
   "metadata": {},
   "source": [
    "H_0: Среднее время (duration) пользователей на подписке ultra = среднее время (duration) пользователей на подписке free\n",
    "\n",
    "H_1: Среднее время (duration) пользователей на подписке ultra > среднее время (duration) пользователей на подписке free"
   ]
  },
  {
   "cell_type": "code",
   "execution_count": 60,
   "id": "ae9544d2",
   "metadata": {},
   "outputs": [
    {
     "name": "stdout",
     "output_type": "stream",
     "text": [
      "p-value:1.2804098316645618e-34\n",
      "Отвергаем гипотезу\n"
     ]
    }
   ],
   "source": [
    "# задаём уровень значимости\n",
    "alpha = 0.05\n",
    "results = st.ttest_ind(data_ultra_sub['duration'],data_free_sub['duration'],alternative = 'greater')\n",
    "print(f'p-value:{results.pvalue}')\n",
    "if results.pvalue<alpha:\n",
    "    print('Отвергаем гипотезу')\n",
    "else:\n",
    "    print('Пользователи с подпиской могут быть «выгоднее» для компании')"
   ]
  },
  {
   "cell_type": "markdown",
   "id": "d33b6ba1",
   "metadata": {},
   "source": [
    "Нулевая гипотеза отвергнута, есть основания утверждать, что средняя продолжительность поездки с подпиской больше продолжительности поездок без подписки при установленном уровне значимости в 5 %"
   ]
  },
  {
   "cell_type": "markdown",
   "id": "138f8f3a",
   "metadata": {},
   "source": [
    "##### Расстояние одной поездки в 3130 метров — оптимальное с точки зрения износа самоката. Можно ли сказать, что среднее расстояние, которое проезжают пользователи с подпиской за одну поездку, не превышает 3130 метров? Проверьте гипотезу и сделайте выводы"
   ]
  },
  {
   "cell_type": "markdown",
   "id": "af53bf41",
   "metadata": {},
   "source": [
    "H_0: Расстояние (distance) пользователей на подписке ultra <= 3110\n",
    "\n",
    "H_1: Расстояние (distance) пользователей на подписке ultra > 3110"
   ]
  },
  {
   "cell_type": "code",
   "execution_count": 61,
   "id": "a9b3c3e6",
   "metadata": {},
   "outputs": [
    {
     "name": "stdout",
     "output_type": "stream",
     "text": [
      "p-value:0.9195368847849785\n",
      "Cреднее расстояние, которое проезжают пользователи с подпиской за одну поездку, не превышает 3130 метров\n"
     ]
    }
   ],
   "source": [
    "middle = 3130.0\n",
    "alpha = 0.05\n",
    "result = st.ttest_1samp(data_ultra_sub['distance'],middle,alternative = 'greater')\n",
    "\n",
    "print(f'p-value:{result.pvalue}')\n",
    "if result.pvalue<alpha:\n",
    "    print('Отвергаем гипотезу')\n",
    "else:\n",
    "    print('Cреднее расстояние, которое проезжают пользователи с подпиской за одну поездку, не превышает 3130 метров')"
   ]
  },
  {
   "cell_type": "markdown",
   "id": "6f9f74b5",
   "metadata": {},
   "source": [
    "Нулевая гипотеза не отвергнута, расстояние поездок является оптимальным с точки зрения износа самоката, он в пределах нормы, не завышен, установленном уровне значимости в 5 %"
   ]
  },
  {
   "cell_type": "markdown",
   "id": "4a2cef7f",
   "metadata": {},
   "source": [
    "##### Проверьте гипотезу о том, будет ли помесячная выручка от пользователей с подпиской по месяцам выше, чем выручка от пользователей без подписки. Сделайте вывод"
   ]
  },
  {
   "cell_type": "markdown",
   "id": "1d3f7b63",
   "metadata": {},
   "source": [
    "H_0: Помесячная выручка (pay_for_month) пользователей на подписке ultra = Помесячная выручка (pay_for_month) пользователей на подписке free\n",
    "\n",
    "H_1: Помесячная выручка (pay_for_month) пользователей на подписке ultra > Помесячная выручка (pay_for_month) пользователей на подписке free"
   ]
  },
  {
   "cell_type": "code",
   "execution_count": 62,
   "id": "f5ecf276",
   "metadata": {},
   "outputs": [
    {
     "name": "stdout",
     "output_type": "stream",
     "text": [
      "p-value:1.8850394384715216e-31\n",
      "Отвергаем гипотезу\n"
     ]
    }
   ],
   "source": [
    "alpha = 0.05\n",
    "result2 = st.ttest_ind(data_agg.loc[data_agg.subscription_type == 'ultra','pay_for_month'],\n",
    "                        data_agg.loc[data_agg.subscription_type =='free','pay_for_month'],alternative = 'greater')\n",
    "\n",
    "print(f'p-value:{result2.pvalue}')\n",
    "if result2.pvalue<alpha:\n",
    "    print('Отвергаем гипотезу')\n",
    "else:\n",
    "    print('Помесячная выручка от пользователей с подпиской по месяцам выше, чем выручка от пользователей без подписки')"
   ]
  },
  {
   "cell_type": "markdown",
   "id": "1cb368f5",
   "metadata": {},
   "source": [
    "Нулевая гипотеза отвергнута, есть основания утверждать, что помесячная выручка с подпиской больше помесячная выручки без подписки при установленном уровне значимости в 5 %"
   ]
  },
  {
   "cell_type": "markdown",
   "id": "0101d36b",
   "metadata": {},
   "source": [
    "##### Представьте такую ситуацию: техническая команда сервиса обновила сервера, с которыми взаимодействует мобильное приложение. Она надеется, что из-за этого количество обращений в техподдержку значимо снизилось. Некоторый файл содержит для каждого пользователя данные о количестве обращений до обновления и после него. Какой тест вам понадобился бы для проверки этой гипотезы?"
   ]
  },
  {
   "cell_type": "markdown",
   "id": "31174f9d",
   "metadata": {},
   "source": [
    "Тест с зависимыми выборками, так как мы обновляем один и тот же датафрейм - scipy.stats.ttest_rel(до обновления, после)"
   ]
  },
  {
   "cell_type": "markdown",
   "id": "e48cb9d7",
   "metadata": {},
   "source": [
    "H_0: data1=data2\n",
    "\n",
    "H_1: data1 < data2"
   ]
  },
  {
   "cell_type": "markdown",
   "id": "61213c5e",
   "metadata": {},
   "source": [
    "## Шаг 7. Распределения"
   ]
  },
  {
   "cell_type": "markdown",
   "id": "5c730d9a",
   "metadata": {},
   "source": [
    "##### Отделу маркетинга GoFast поставили задачу: нужно провести акцию с раздачей промокодов на один бесплатный месяц подписки, в рамках которой как минимум 100 существующих клиентов должны продлить эту подписку. То есть по завершении периода действия подписки пользователь может либо отказаться от неё, либо продлить, совершив соответствующий платёж. "
   ]
  },
  {
   "cell_type": "markdown",
   "id": "961602bc",
   "metadata": {},
   "source": [
    "Эта акция уже проводилась ранее и по итогу выяснилось, что после бесплатного пробного периода подписку продлевают 10 % пользователей. Выясните, какое минимальное количество промокодов нужно разослать, чтобы вероятность не выполнить план была примерно 5 %. Подберите параметры распределения, описывающего эту ситуацию, постройте график распределения и сформулируйте ответ на вопрос о количестве промокодов."
   ]
  },
  {
   "cell_type": "code",
   "execution_count": 63,
   "id": "2e3358ed",
   "metadata": {},
   "outputs": [
    {
     "name": "stdout",
     "output_type": "stream",
     "text": [
      "При раздаче промокодов в количестве 1161 вероятность, не выполнить план меньше 5.0 %\n"
     ]
    },
    {
     "data": {
      "image/png": "[encoded data removed]",
      "text/plain": [
       "<Figure size 640x480 with 1 Axes>"
      ]
     },
     "metadata": {},
     "output_type": "display_data"
    }
   ],
   "source": [
    "n = 1000\n",
    "p = 0.1\n",
    "k = 99\n",
    "binom_cdf = 0.05\n",
    "\n",
    "while binom_cdf < binom.cdf(k, n, p):\n",
    "    n += 1\n",
    "print(f'При раздаче промокодов в количестве {n} вероятность, не выполнить план меньше {binom.cdf(k, n, p).round(2)*100} %')\n",
    "\n",
    "# зададим мат.ожидание и ст.отклонение нормального распределения равными\n",
    "# мат.ожиданию и ст.отклонению биномиального распределения\n",
    "mu = n * p\n",
    "sigma = sqrt(n * p * (1 - p))\n",
    "\n",
    "arange = np.arange((mu - 4 * sigma),(mu + 4 * sigma),1)\n",
    "\n",
    "plt.plot(arange, st.norm.pdf(arange, mu, sigma), 'b-')\n",
    "plt.axvline(x=k, color='red')\n",
    "plt.axvline(x=mu, color='green')\n",
    "plt.show()"
   ]
  },
  {
   "cell_type": "markdown",
   "id": "bcac4259",
   "metadata": {},
   "source": [
    "Необходимо довести до подписчиков как минимум 1161 промокода, для того чтобы как минимум 100 существующих клиентов продлили подписку"
   ]
  },
  {
   "cell_type": "markdown",
   "id": "bd2e6cad",
   "metadata": {},
   "source": [
    "##### Отдел маркетинга рассылает клиентам push-уведомления в мобильном приложении. Клиенты могут открыть его или не открывать. Известно, что уведомления открывают около 40 % получивших клиентов. Отдел планирует разослать 1 млн уведомлений. С помощью аппроксимации постройте примерный график распределения и оцените вероятность того, что уведомление откроют не более 399,5 тыс. пользователей."
   ]
  },
  {
   "cell_type": "code",
   "execution_count": 64,
   "id": "707f7355",
   "metadata": {},
   "outputs": [
    {
     "name": "stdout",
     "output_type": "stream",
     "text": [
      "0.15371708296369768\n"
     ]
    }
   ],
   "source": [
    "# задаём параметры биномиального распределения\n",
    "\n",
    "n = 1000000\n",
    "\n",
    "p = 0.4\n",
    "\n",
    "# зададим мат.ожидание и ст.отклонение нормального распределения равными\n",
    "\n",
    "# мат.ожиданию и ст.отклонению биномиального распределения\n",
    "\n",
    "mu = n * p\n",
    "\n",
    "sigma = sqrt(n * p * (1 - p))\n",
    "\n",
    "# задаём нормальное распределение\n",
    "\n",
    "distr = st.norm(mu, sigma)\n",
    "\n",
    "# считаем вероятность хвоста слева от 43 тысяч\n",
    "\n",
    "result = distr.cdf(399500)\n",
    "\n",
    "print(result)\n"
   ]
  },
  {
   "cell_type": "markdown",
   "id": "ed6a9b13",
   "metadata": {},
   "source": [
    "Вероятность того, что уведомление откроют не более 399,5 тыс. пользователей = 15%"
   ]
  },
  {
   "cell_type": "markdown",
   "id": "6ffdd6c7",
   "metadata": {},
   "source": [
    "## Вывод"
   ]
  },
  {
   "cell_type": "markdown",
   "id": "3e68514b",
   "metadata": {},
   "source": [
    "1. Предобработка данных.\n",
    "- Привели столбец `date`  к типу даты datetime64[ns]\n",
    "- Создали новый столбец с номером месяца `num_of_month`\n",
    "- Проверили наличие пропущенных значений в каждой таблице и поняли,что их нет.\n",
    "- Проверили наличие явных и неявных дубликатов в таблицах. Удалили в таблице users яные дубликаты\n",
    "\n",
    "2. Исследовательский анализ данных\n",
    "\n",
    "- Исследуя частоту встречаемости городов, вяснили,что чаще всего встречается Пятигорск, реже всего Москва\n",
    "- Соотношение пользователей с подпиской и без подписки: С подпиской 46%, а без нее 54%. Людей без подписки больше на 8%, чем купивших ее\n",
    "- Больше всего пользоватей возраста от 21 до 28 лет, самому большому количество пользователей 25 лет. Меньше всего пользователей 12-17 лет и начиная с 34 до 43 лет. Меньше всего пользователей которым 43 года.\n",
    "- Максимальная дистанция которую проехал пользователь за одну поездку равна 7211 метроа, а минимальная меньше метра. Чаще всего пользователи проезжали примерно 3100 метров.\n",
    "- Минимальная поездка была около минуты, а максимальная прмерно 40 минут. Но чаще всего пользователи проводят в пути 19 минут\n",
    "\n",
    "3.  Объединение данных\n",
    "- Объединили все данные в одну таблицу `data`, с помощью merge()\n",
    "- Создали 2 датафрейма один с подпиской `data_ultra_sub`, другой без `data_free_sub`\n",
    "- Визуализировали данные и сделали микровывод:\n",
    "    - Для `data_free_sub`:\n",
    "  - максимальное Время в пути примерно 35 минут, а минимальное примерно 1 минута, чаще всего люди проводят в пути - около 16 минут\n",
    "  - максимальное Расстояние около 7000 метров,а минимальное - меньше 1, чаще всего люди проезжают чуть меньше 3000 метров\n",
    "    - Для `data_ultra_sub`:\n",
    "  - максимальное Время в пути примерно 40 минут, а минимальное примерно 3 минуты, чаще всего люди проводят в пути - около 16-20 минут\n",
    "  - максимальное Расстояние около 5500 метров,а минимальное - меньше 100, чаще всего люди проезжают чуть меньше 3000 метров\n",
    "- Нашли аномалии: видим, что есть 95 сессий меньше 1ой минуты. Все аномалии в разные время, и все пользователи проехали более 4000 метров\n",
    "- Чаще встречаются короткие поездки (до 500 м) у пользователей без подписки. Медиана отличается не сильно. Больший разброс наблюдается у пользователей без подписки. График расстояний с подпиской более узкий,ежели график без подписки.\n",
    "- Время без подписки есть выброс значений около 0. Медиана примерно одинакова. Разброса у значений нет\n",
    "4. Подсчёт выручки\n",
    "- Создали датафрейм с агрегированными данными - `data_agg`, в котором включены столбцы:суммарное расстояние - distance, количество поездок - `count_distance` и суммарное время для каждого пользователя за каждый месяц - duration\n",
    "- Добавили столбец с помесячной выручкой - `pay_for_month`\n",
    "5. Проверка гипотез\n",
    "- Тратят ли пользователи с подпиской больше времени на поездки? - Нулевая гипотеза отвергнута, есть основания утверждать, что средняя продолжительность поездки с подпиской больше продолжительности поездок без подписки при установленном уровне значимости в 5 %\n",
    "- Можно ли сказать, что среднее расстояние, которое проезжают пользователи с подпиской за одну поездку, не превышает 3130 метров? - Нулевая гипотеза не отвергнута, расстояние поездок является оптимальным с точки зрения износа самоката, он в пределах нормы, не завышен, установленном уровне значимости в 5 %\n",
    "- Проверьте гипотезу о том, будет ли помесячная выручка от пользователей с подпиской по месяцам выше, чем выручка от пользователей без подписки - Нулевая гипотеза не отвергнута, расстояние поездок оптимальным с точки зрения износа самоката, т.е., что он в пределах нормы, не завышен, установленном уровне значимости в 5 %\n",
    "- Тест с зависимыми выборками, так как мы обновляем один и тот же датафрейм - `scipy.stats.ttest_rel(до обновления, после)`\n",
    "6. Распределения\n",
    "- Необходимо довести до подписчиков как минимум 1161 промокода, для того чтобы как минимум 100 существующих клиентов продлили подписку\n",
    "- Вероятность того, что уведомление откроют не более 399,5 тыс. пользователей = 15%\n",
    "\n",
    "Пользователи с подпиской более выгодные для сервиса аренды самокатов"
   ]
  }
 ],
 "metadata": {
  "ExecuteTimeLog": [
   {
    "duration": 49,
    "start_time": "2024-03-28T07:02:04.459Z"
   },
   {
    "duration": 7,
    "start_time": "2024-03-28T07:02:32.561Z"
   },
   {
    "duration": 388,
    "start_time": "2024-03-28T07:02:35.519Z"
   },
   {
    "duration": 278,
    "start_time": "2024-03-28T07:02:36.795Z"
   },
   {
    "duration": 18,
    "start_time": "2024-03-28T07:06:05.434Z"
   },
   {
    "duration": 12,
    "start_time": "2024-03-28T07:06:29.321Z"
   },
   {
    "duration": 13,
    "start_time": "2024-03-28T07:06:43.818Z"
   },
   {
    "duration": 11,
    "start_time": "2024-03-28T07:06:48.000Z"
   },
   {
    "duration": 3,
    "start_time": "2024-03-28T07:10:21.561Z"
   },
   {
    "duration": 11,
    "start_time": "2024-03-28T07:10:25.142Z"
   },
   {
    "duration": 11,
    "start_time": "2024-03-28T07:10:36.512Z"
   },
   {
    "duration": 15,
    "start_time": "2024-03-28T07:12:29.814Z"
   },
   {
    "duration": 7,
    "start_time": "2024-03-28T07:13:54.287Z"
   },
   {
    "duration": 10,
    "start_time": "2024-03-28T07:15:07.211Z"
   },
   {
    "duration": 78,
    "start_time": "2024-03-28T07:21:10.308Z"
   },
   {
    "duration": 75,
    "start_time": "2024-03-28T07:21:53.349Z"
   },
   {
    "duration": 8,
    "start_time": "2024-03-28T07:22:04.872Z"
   },
   {
    "duration": 51,
    "start_time": "2024-03-28T07:22:10.694Z"
   },
   {
    "duration": 38,
    "start_time": "2024-03-28T07:22:24.034Z"
   },
   {
    "duration": 15,
    "start_time": "2024-03-28T07:22:29.534Z"
   },
   {
    "duration": 7,
    "start_time": "2024-03-28T07:24:34.395Z"
   },
   {
    "duration": 1892,
    "start_time": "2024-03-28T07:24:39.730Z"
   },
   {
    "duration": 4,
    "start_time": "2024-03-28T07:24:49.043Z"
   },
   {
    "duration": 16,
    "start_time": "2024-03-28T07:24:56.271Z"
   },
   {
    "duration": 24,
    "start_time": "2024-03-28T07:26:34.781Z"
   },
   {
    "duration": 12,
    "start_time": "2024-03-28T07:26:47.383Z"
   },
   {
    "duration": 7,
    "start_time": "2024-03-28T07:26:54.429Z"
   },
   {
    "duration": 6,
    "start_time": "2024-03-28T07:28:31.242Z"
   },
   {
    "duration": 6,
    "start_time": "2024-03-28T07:32:21.069Z"
   },
   {
    "duration": 6,
    "start_time": "2024-03-28T07:32:47.706Z"
   },
   {
    "duration": 8,
    "start_time": "2024-03-28T07:33:56.829Z"
   },
   {
    "duration": 7,
    "start_time": "2024-03-28T07:34:09.608Z"
   },
   {
    "duration": 7,
    "start_time": "2024-03-28T07:34:26.090Z"
   },
   {
    "duration": 7,
    "start_time": "2024-03-28T07:34:37.166Z"
   },
   {
    "duration": 7,
    "start_time": "2024-03-28T07:35:02.804Z"
   },
   {
    "duration": 13,
    "start_time": "2024-03-28T07:36:59.147Z"
   },
   {
    "duration": 9,
    "start_time": "2024-03-28T07:37:16.270Z"
   },
   {
    "duration": 4,
    "start_time": "2024-03-28T07:42:54.277Z"
   },
   {
    "duration": 5,
    "start_time": "2024-03-28T07:44:07.817Z"
   },
   {
    "duration": 4,
    "start_time": "2024-03-28T08:07:09.857Z"
   },
   {
    "duration": 7,
    "start_time": "2024-03-28T08:07:28.253Z"
   },
   {
    "duration": 3,
    "start_time": "2024-03-28T08:07:33.318Z"
   },
   {
    "duration": 3,
    "start_time": "2024-03-28T08:07:39.599Z"
   },
   {
    "duration": 5,
    "start_time": "2024-03-28T08:07:42.900Z"
   },
   {
    "duration": 7,
    "start_time": "2024-03-28T08:12:38.029Z"
   },
   {
    "duration": 6,
    "start_time": "2024-03-28T08:12:56.268Z"
   },
   {
    "duration": 6,
    "start_time": "2024-03-28T08:14:40.729Z"
   },
   {
    "duration": 78,
    "start_time": "2024-03-28T08:16:02.546Z"
   },
   {
    "duration": 9,
    "start_time": "2024-03-28T08:16:45.835Z"
   },
   {
    "duration": 7,
    "start_time": "2024-03-28T08:18:21.770Z"
   },
   {
    "duration": 8,
    "start_time": "2024-03-28T08:18:34.388Z"
   },
   {
    "duration": 9,
    "start_time": "2024-03-28T08:18:53.166Z"
   },
   {
    "duration": 10,
    "start_time": "2024-03-28T08:21:26.995Z"
   },
   {
    "duration": 6,
    "start_time": "2024-03-28T08:21:40.583Z"
   },
   {
    "duration": 7,
    "start_time": "2024-03-28T08:21:53.991Z"
   },
   {
    "duration": 590,
    "start_time": "2024-03-28T08:30:04.664Z"
   },
   {
    "duration": 4,
    "start_time": "2024-03-28T08:30:44.042Z"
   },
   {
    "duration": 3,
    "start_time": "2024-03-28T08:30:48.787Z"
   },
   {
    "duration": 17,
    "start_time": "2024-03-28T08:31:27.144Z"
   },
   {
    "duration": 8,
    "start_time": "2024-03-28T08:31:31.586Z"
   },
   {
    "duration": 13,
    "start_time": "2024-03-28T08:32:03.241Z"
   },
   {
    "duration": 11,
    "start_time": "2024-03-28T08:32:31.100Z"
   },
   {
    "duration": 10,
    "start_time": "2024-03-28T08:32:51.758Z"
   },
   {
    "duration": 8,
    "start_time": "2024-03-28T08:33:35.488Z"
   },
   {
    "duration": 8,
    "start_time": "2024-03-28T08:33:50.632Z"
   },
   {
    "duration": 463,
    "start_time": "2024-03-28T08:34:29.789Z"
   },
   {
    "duration": 35,
    "start_time": "2024-03-28T08:34:36.645Z"
   },
   {
    "duration": 14,
    "start_time": "2024-03-28T08:34:43.720Z"
   },
   {
    "duration": 13,
    "start_time": "2024-03-28T08:35:12.676Z"
   },
   {
    "duration": 26088,
    "start_time": "2024-03-28T08:35:39.869Z"
   },
   {
    "duration": 12,
    "start_time": "2024-03-28T08:36:29.987Z"
   },
   {
    "duration": 16,
    "start_time": "2024-03-28T08:37:21.920Z"
   },
   {
    "duration": 17,
    "start_time": "2024-03-28T08:37:34.490Z"
   },
   {
    "duration": 16,
    "start_time": "2024-03-28T08:39:45.823Z"
   },
   {
    "duration": 3,
    "start_time": "2024-03-28T08:40:35.773Z"
   },
   {
    "duration": 5,
    "start_time": "2024-03-28T08:40:39.490Z"
   },
   {
    "duration": 128,
    "start_time": "2024-03-28T08:41:19.677Z"
   },
   {
    "duration": 128,
    "start_time": "2024-03-28T08:43:38.264Z"
   },
   {
    "duration": 134,
    "start_time": "2024-03-28T08:43:45.360Z"
   },
   {
    "duration": 8,
    "start_time": "2024-03-28T08:50:01.365Z"
   },
   {
    "duration": 3,
    "start_time": "2024-03-28T08:50:04.672Z"
   },
   {
    "duration": 8,
    "start_time": "2024-03-28T08:50:05.897Z"
   },
   {
    "duration": 5,
    "start_time": "2024-03-28T08:50:12.085Z"
   },
   {
    "duration": 7,
    "start_time": "2024-03-28T08:50:28.303Z"
   },
   {
    "duration": 85,
    "start_time": "2024-03-28T08:51:04.310Z"
   },
   {
    "duration": 88,
    "start_time": "2024-03-28T08:51:07.570Z"
   },
   {
    "duration": 13,
    "start_time": "2024-03-28T08:51:24.548Z"
   },
   {
    "duration": 12,
    "start_time": "2024-03-28T08:51:54.763Z"
   },
   {
    "duration": 12,
    "start_time": "2024-03-28T08:52:05.678Z"
   },
   {
    "duration": 7,
    "start_time": "2024-03-28T08:52:40.832Z"
   },
   {
    "duration": 9,
    "start_time": "2024-03-28T08:52:58.475Z"
   },
   {
    "duration": 8,
    "start_time": "2024-03-28T08:53:25.335Z"
   },
   {
    "duration": 13,
    "start_time": "2024-03-28T08:53:34.310Z"
   },
   {
    "duration": 7,
    "start_time": "2024-03-28T08:54:25.078Z"
   },
   {
    "duration": 7,
    "start_time": "2024-03-28T08:54:33.904Z"
   },
   {
    "duration": 8,
    "start_time": "2024-03-28T08:54:39.200Z"
   },
   {
    "duration": 7,
    "start_time": "2024-03-28T08:54:43.963Z"
   },
   {
    "duration": 14,
    "start_time": "2024-03-28T08:55:00.531Z"
   },
   {
    "duration": 6,
    "start_time": "2024-03-28T08:55:34.260Z"
   },
   {
    "duration": 13,
    "start_time": "2024-03-28T08:55:42.122Z"
   },
   {
    "duration": 6,
    "start_time": "2024-03-28T08:55:50.616Z"
   },
   {
    "duration": 17,
    "start_time": "2024-03-28T08:55:51.437Z"
   },
   {
    "duration": 14,
    "start_time": "2024-03-28T08:55:56.613Z"
   },
   {
    "duration": 8,
    "start_time": "2024-03-28T08:56:00.821Z"
   },
   {
    "duration": 9,
    "start_time": "2024-03-28T08:56:24.185Z"
   },
   {
    "duration": 21,
    "start_time": "2024-03-28T08:56:30.239Z"
   },
   {
    "duration": 9,
    "start_time": "2024-03-28T08:56:49.476Z"
   },
   {
    "duration": 16,
    "start_time": "2024-03-28T08:57:10.485Z"
   },
   {
    "duration": 5,
    "start_time": "2024-03-28T08:57:14.753Z"
   },
   {
    "duration": 7,
    "start_time": "2024-03-28T08:57:15.659Z"
   },
   {
    "duration": 7,
    "start_time": "2024-03-28T08:57:20.801Z"
   },
   {
    "duration": 77,
    "start_time": "2024-03-28T08:57:27.357Z"
   },
   {
    "duration": 133,
    "start_time": "2024-03-28T08:57:34.163Z"
   },
   {
    "duration": 8,
    "start_time": "2024-03-28T08:57:59.008Z"
   },
   {
    "duration": 5,
    "start_time": "2024-03-28T08:58:20.187Z"
   },
   {
    "duration": 8,
    "start_time": "2024-03-28T08:58:21.147Z"
   },
   {
    "duration": 8,
    "start_time": "2024-03-28T08:58:34.835Z"
   },
   {
    "duration": 8,
    "start_time": "2024-03-28T08:58:35.863Z"
   },
   {
    "duration": 11,
    "start_time": "2024-03-28T08:59:29.268Z"
   },
   {
    "duration": 321,
    "start_time": "2024-03-28T08:59:38.715Z"
   },
   {
    "duration": 121,
    "start_time": "2024-03-28T09:00:00.863Z"
   },
   {
    "duration": 131,
    "start_time": "2024-03-28T09:00:13.607Z"
   },
   {
    "duration": 120,
    "start_time": "2024-03-28T09:00:52.313Z"
   },
   {
    "duration": 138,
    "start_time": "2024-03-28T09:01:18.356Z"
   },
   {
    "duration": 35815,
    "start_time": "2024-03-28T09:01:25.539Z"
   },
   {
    "duration": 140,
    "start_time": "2024-03-28T09:02:22.166Z"
   },
   {
    "duration": 137,
    "start_time": "2024-03-28T09:02:46.689Z"
   },
   {
    "duration": 83,
    "start_time": "2024-03-28T09:04:24.170Z"
   },
   {
    "duration": 80,
    "start_time": "2024-03-28T09:04:44.736Z"
   },
   {
    "duration": 114,
    "start_time": "2024-03-28T09:05:42.791Z"
   },
   {
    "duration": 140,
    "start_time": "2024-03-28T09:05:54.823Z"
   },
   {
    "duration": 5,
    "start_time": "2024-03-28T09:06:01.891Z"
   },
   {
    "duration": 8,
    "start_time": "2024-03-28T09:06:06.994Z"
   },
   {
    "duration": 11,
    "start_time": "2024-03-28T09:06:27.258Z"
   },
   {
    "duration": 11,
    "start_time": "2024-03-28T09:07:08.208Z"
   },
   {
    "duration": 8,
    "start_time": "2024-03-28T09:07:32.942Z"
   },
   {
    "duration": 6,
    "start_time": "2024-03-28T09:10:36.476Z"
   },
   {
    "duration": 7,
    "start_time": "2024-03-28T09:10:53.987Z"
   },
   {
    "duration": 5,
    "start_time": "2024-03-28T09:11:09.504Z"
   },
   {
    "duration": 7,
    "start_time": "2024-03-28T09:11:21.298Z"
   },
   {
    "duration": 11,
    "start_time": "2024-03-28T09:12:33.712Z"
   },
   {
    "duration": 5,
    "start_time": "2024-03-28T09:12:43.219Z"
   },
   {
    "duration": 7,
    "start_time": "2024-03-28T09:14:44.287Z"
   },
   {
    "duration": 74,
    "start_time": "2024-03-28T09:15:12.121Z"
   },
   {
    "duration": 62,
    "start_time": "2024-03-28T09:15:19.504Z"
   },
   {
    "duration": 77,
    "start_time": "2024-03-28T09:15:32.558Z"
   },
   {
    "duration": 81,
    "start_time": "2024-03-28T09:15:46.358Z"
   },
   {
    "duration": 84,
    "start_time": "2024-03-28T09:16:13.087Z"
   },
   {
    "duration": 77,
    "start_time": "2024-03-28T09:16:29.644Z"
   },
   {
    "duration": 79,
    "start_time": "2024-03-28T09:16:33.449Z"
   },
   {
    "duration": 9,
    "start_time": "2024-03-28T09:17:22.414Z"
   },
   {
    "duration": 7,
    "start_time": "2024-03-28T09:17:30.085Z"
   },
   {
    "duration": 80,
    "start_time": "2024-03-28T09:17:36.200Z"
   },
   {
    "duration": 8,
    "start_time": "2024-03-28T09:18:10.631Z"
   },
   {
    "duration": 76,
    "start_time": "2024-03-28T09:18:12.171Z"
   },
   {
    "duration": 8,
    "start_time": "2024-03-28T09:18:20.401Z"
   },
   {
    "duration": 77,
    "start_time": "2024-03-28T09:18:52.963Z"
   },
   {
    "duration": 86,
    "start_time": "2024-03-28T09:19:07.886Z"
   },
   {
    "duration": 428,
    "start_time": "2024-03-28T09:19:31.003Z"
   },
   {
    "duration": 338,
    "start_time": "2024-03-28T09:19:38.717Z"
   },
   {
    "duration": 84,
    "start_time": "2024-03-28T09:19:47.057Z"
   },
   {
    "duration": 320,
    "start_time": "2024-03-28T09:19:52.509Z"
   },
   {
    "duration": 78,
    "start_time": "2024-03-28T09:19:58.584Z"
   },
   {
    "duration": 6,
    "start_time": "2024-03-28T09:21:27.549Z"
   },
   {
    "duration": 7,
    "start_time": "2024-03-28T09:21:28.862Z"
   },
   {
    "duration": 5,
    "start_time": "2024-03-28T09:23:47.911Z"
   },
   {
    "duration": 135,
    "start_time": "2024-03-28T09:24:00.034Z"
   },
   {
    "duration": 9,
    "start_time": "2024-03-28T09:24:32.041Z"
   },
   {
    "duration": 122,
    "start_time": "2024-03-28T09:24:35.734Z"
   },
   {
    "duration": 102,
    "start_time": "2024-03-28T09:24:53.204Z"
   },
   {
    "duration": 108,
    "start_time": "2024-03-28T09:25:00.785Z"
   },
   {
    "duration": 105,
    "start_time": "2024-03-28T09:25:20.988Z"
   },
   {
    "duration": 104,
    "start_time": "2024-03-28T09:25:41.595Z"
   },
   {
    "duration": 99,
    "start_time": "2024-03-28T09:25:45.916Z"
   },
   {
    "duration": 8,
    "start_time": "2024-03-28T09:26:33.988Z"
   },
   {
    "duration": 5,
    "start_time": "2024-03-28T09:26:40.249Z"
   },
   {
    "duration": 132,
    "start_time": "2024-03-28T09:26:50.014Z"
   },
   {
    "duration": 9,
    "start_time": "2024-03-28T09:27:18.012Z"
   },
   {
    "duration": 112,
    "start_time": "2024-03-28T09:27:28.913Z"
   },
   {
    "duration": 3,
    "start_time": "2024-03-28T09:27:47.800Z"
   },
   {
    "duration": 214,
    "start_time": "2024-03-28T09:28:26.877Z"
   },
   {
    "duration": 239,
    "start_time": "2024-03-28T09:29:24.102Z"
   },
   {
    "duration": 595,
    "start_time": "2024-03-28T09:29:28.188Z"
   },
   {
    "duration": 10,
    "start_time": "2024-03-28T09:31:50.229Z"
   },
   {
    "duration": 9,
    "start_time": "2024-03-28T09:31:55.647Z"
   },
   {
    "duration": 10,
    "start_time": "2024-03-28T09:32:03.472Z"
   },
   {
    "duration": 238,
    "start_time": "2024-03-28T09:32:12.084Z"
   },
   {
    "duration": 119,
    "start_time": "2024-03-28T09:32:38.309Z"
   },
   {
    "duration": 127,
    "start_time": "2024-03-28T09:33:09.444Z"
   },
   {
    "duration": 227,
    "start_time": "2024-03-28T09:33:19.093Z"
   },
   {
    "duration": 7,
    "start_time": "2024-03-28T09:40:13.620Z"
   },
   {
    "duration": 305,
    "start_time": "2024-03-28T09:51:50.334Z"
   },
   {
    "duration": 98,
    "start_time": "2024-03-28T09:52:01.370Z"
   },
   {
    "duration": 323,
    "start_time": "2024-03-28T09:52:04.520Z"
   },
   {
    "duration": 283,
    "start_time": "2024-03-28T09:52:12.039Z"
   },
   {
    "duration": 7,
    "start_time": "2024-03-28T09:52:51.181Z"
   },
   {
    "duration": 244,
    "start_time": "2024-03-28T09:53:13.906Z"
   },
   {
    "duration": 306,
    "start_time": "2024-03-28T09:54:04.102Z"
   },
   {
    "duration": 1220,
    "start_time": "2024-03-28T09:57:52.921Z"
   },
   {
    "duration": 78,
    "start_time": "2024-03-28T09:57:54.143Z"
   },
   {
    "duration": 16,
    "start_time": "2024-03-28T09:57:54.223Z"
   },
   {
    "duration": 13,
    "start_time": "2024-03-28T09:57:54.240Z"
   },
   {
    "duration": 21,
    "start_time": "2024-03-28T09:57:54.255Z"
   },
   {
    "duration": 20,
    "start_time": "2024-03-28T09:57:54.280Z"
   },
   {
    "duration": 15,
    "start_time": "2024-03-28T09:57:54.302Z"
   },
   {
    "duration": 15,
    "start_time": "2024-03-28T09:57:54.319Z"
   },
   {
    "duration": 11,
    "start_time": "2024-03-28T09:57:54.336Z"
   },
   {
    "duration": 36,
    "start_time": "2024-03-28T09:57:54.349Z"
   },
   {
    "duration": 6,
    "start_time": "2024-03-28T09:57:54.387Z"
   },
   {
    "duration": 7,
    "start_time": "2024-03-28T09:57:54.395Z"
   },
   {
    "duration": 6,
    "start_time": "2024-03-28T09:57:54.404Z"
   },
   {
    "duration": 13,
    "start_time": "2024-03-28T09:57:54.412Z"
   },
   {
    "duration": 7,
    "start_time": "2024-03-28T09:57:54.427Z"
   },
   {
    "duration": 4,
    "start_time": "2024-03-28T09:57:54.436Z"
   },
   {
    "duration": 31,
    "start_time": "2024-03-28T09:57:54.442Z"
   },
   {
    "duration": 14,
    "start_time": "2024-03-28T09:57:54.475Z"
   },
   {
    "duration": 22,
    "start_time": "2024-03-28T09:57:54.490Z"
   },
   {
    "duration": 9,
    "start_time": "2024-03-28T09:57:54.514Z"
   },
   {
    "duration": 9,
    "start_time": "2024-03-28T09:57:54.524Z"
   },
   {
    "duration": 11,
    "start_time": "2024-03-28T09:57:54.534Z"
   },
   {
    "duration": 179,
    "start_time": "2024-03-28T09:57:54.547Z"
   },
   {
    "duration": 3,
    "start_time": "2024-03-28T09:57:54.728Z"
   },
   {
    "duration": 97,
    "start_time": "2024-03-28T09:57:54.733Z"
   },
   {
    "duration": 275,
    "start_time": "2024-03-28T09:57:54.831Z"
   },
   {
    "duration": 8,
    "start_time": "2024-03-28T09:57:55.108Z"
   },
   {
    "duration": 1221,
    "start_time": "2024-03-28T10:00:52.662Z"
   },
   {
    "duration": 64,
    "start_time": "2024-03-28T10:00:53.885Z"
   },
   {
    "duration": 15,
    "start_time": "2024-03-28T10:00:53.951Z"
   },
   {
    "duration": 19,
    "start_time": "2024-03-28T10:00:53.968Z"
   },
   {
    "duration": 13,
    "start_time": "2024-03-28T10:00:53.989Z"
   },
   {
    "duration": 12,
    "start_time": "2024-03-28T10:00:54.004Z"
   },
   {
    "duration": 8,
    "start_time": "2024-03-28T10:00:54.017Z"
   },
   {
    "duration": 13,
    "start_time": "2024-03-28T10:00:54.026Z"
   },
   {
    "duration": 35,
    "start_time": "2024-03-28T10:00:54.040Z"
   },
   {
    "duration": 19,
    "start_time": "2024-03-28T10:00:54.077Z"
   },
   {
    "duration": 6,
    "start_time": "2024-03-28T10:00:54.097Z"
   },
   {
    "duration": 9,
    "start_time": "2024-03-28T10:00:54.104Z"
   },
   {
    "duration": 7,
    "start_time": "2024-03-28T10:00:54.115Z"
   },
   {
    "duration": 21,
    "start_time": "2024-03-28T10:00:54.125Z"
   },
   {
    "duration": 34,
    "start_time": "2024-03-28T10:00:54.148Z"
   },
   {
    "duration": 4,
    "start_time": "2024-03-28T10:00:54.184Z"
   },
   {
    "duration": 10,
    "start_time": "2024-03-28T10:00:54.190Z"
   },
   {
    "duration": 8,
    "start_time": "2024-03-28T10:00:54.202Z"
   },
   {
    "duration": 13,
    "start_time": "2024-03-28T10:00:54.211Z"
   },
   {
    "duration": 18,
    "start_time": "2024-03-28T10:00:54.225Z"
   },
   {
    "duration": 40,
    "start_time": "2024-03-28T10:00:54.244Z"
   },
   {
    "duration": 27,
    "start_time": "2024-03-28T10:00:54.285Z"
   },
   {
    "duration": 166,
    "start_time": "2024-03-28T10:00:54.314Z"
   },
   {
    "duration": 4,
    "start_time": "2024-03-28T10:00:54.482Z"
   },
   {
    "duration": 98,
    "start_time": "2024-03-28T10:00:54.488Z"
   },
   {
    "duration": 253,
    "start_time": "2024-03-28T10:00:54.587Z"
   },
   {
    "duration": 7,
    "start_time": "2024-03-28T10:00:54.842Z"
   },
   {
    "duration": 332,
    "start_time": "2024-03-28T10:00:54.851Z"
   },
   {
    "duration": 7,
    "start_time": "2024-03-28T10:00:55.185Z"
   },
   {
    "duration": 116,
    "start_time": "2024-03-28T10:02:26.827Z"
   },
   {
    "duration": 12,
    "start_time": "2024-03-28T10:02:38.578Z"
   },
   {
    "duration": 344,
    "start_time": "2024-03-28T10:06:14.837Z"
   },
   {
    "duration": 410,
    "start_time": "2024-03-28T10:06:26.169Z"
   },
   {
    "duration": 157,
    "start_time": "2024-03-28T10:07:12.413Z"
   },
   {
    "duration": 307,
    "start_time": "2024-03-28T10:07:25.917Z"
   },
   {
    "duration": 147,
    "start_time": "2024-03-28T10:07:39.367Z"
   },
   {
    "duration": 208,
    "start_time": "2024-03-28T10:07:46.637Z"
   },
   {
    "duration": 9,
    "start_time": "2024-03-28T10:08:13.771Z"
   },
   {
    "duration": 7,
    "start_time": "2024-03-28T10:18:07.206Z"
   },
   {
    "duration": 223,
    "start_time": "2024-03-28T10:18:07.370Z"
   },
   {
    "duration": 8,
    "start_time": "2024-03-28T10:18:09.737Z"
   },
   {
    "duration": 294,
    "start_time": "2024-03-28T10:19:10.389Z"
   },
   {
    "duration": 355,
    "start_time": "2024-03-28T10:19:41.085Z"
   },
   {
    "duration": 224,
    "start_time": "2024-03-28T10:20:02.888Z"
   },
   {
    "duration": 9,
    "start_time": "2024-03-28T10:44:03.153Z"
   },
   {
    "duration": 8,
    "start_time": "2024-03-28T10:44:11.918Z"
   },
   {
    "duration": 86,
    "start_time": "2024-03-28T10:44:21.693Z"
   },
   {
    "duration": 16,
    "start_time": "2024-03-28T10:44:27.596Z"
   },
   {
    "duration": 11,
    "start_time": "2024-03-28T10:44:34.797Z"
   },
   {
    "duration": 26,
    "start_time": "2024-03-28T10:44:38.985Z"
   },
   {
    "duration": 31,
    "start_time": "2024-03-28T10:45:03.734Z"
   },
   {
    "duration": 30,
    "start_time": "2024-03-28T10:46:07.142Z"
   },
   {
    "duration": 33,
    "start_time": "2024-03-28T10:48:59.501Z"
   },
   {
    "duration": 30,
    "start_time": "2024-03-28T10:55:03.247Z"
   },
   {
    "duration": 26,
    "start_time": "2024-03-28T10:55:23.200Z"
   },
   {
    "duration": 30,
    "start_time": "2024-03-28T10:55:42.047Z"
   },
   {
    "duration": 996,
    "start_time": "2024-03-28T10:55:52.420Z"
   },
   {
    "duration": 24,
    "start_time": "2024-03-28T10:56:49.873Z"
   },
   {
    "duration": 1030,
    "start_time": "2024-03-28T10:57:34.800Z"
   },
   {
    "duration": 23,
    "start_time": "2024-03-28T10:57:45.413Z"
   },
   {
    "duration": 21,
    "start_time": "2024-03-28T10:57:53.400Z"
   },
   {
    "duration": 22,
    "start_time": "2024-03-28T10:58:09.048Z"
   },
   {
    "duration": 130,
    "start_time": "2024-03-28T11:00:15.161Z"
   },
   {
    "duration": 259,
    "start_time": "2024-03-28T11:01:19.840Z"
   },
   {
    "duration": 189,
    "start_time": "2024-03-28T11:01:29.996Z"
   },
   {
    "duration": 4,
    "start_time": "2024-03-28T11:01:53.389Z"
   },
   {
    "duration": 29,
    "start_time": "2024-03-28T11:02:01.207Z"
   },
   {
    "duration": 65,
    "start_time": "2024-03-28T11:03:37.102Z"
   },
   {
    "duration": 16,
    "start_time": "2024-03-28T11:04:58.669Z"
   },
   {
    "duration": 6,
    "start_time": "2024-03-28T11:05:14.857Z"
   },
   {
    "duration": 9,
    "start_time": "2024-03-28T11:05:16.005Z"
   },
   {
    "duration": 6,
    "start_time": "2024-03-28T11:05:21.847Z"
   },
   {
    "duration": 1337,
    "start_time": "2024-03-28T11:05:40.301Z"
   },
   {
    "duration": 72,
    "start_time": "2024-03-28T11:05:41.640Z"
   },
   {
    "duration": 23,
    "start_time": "2024-03-28T11:05:41.714Z"
   },
   {
    "duration": 17,
    "start_time": "2024-03-28T11:05:41.739Z"
   },
   {
    "duration": 29,
    "start_time": "2024-03-28T11:05:41.759Z"
   },
   {
    "duration": 21,
    "start_time": "2024-03-28T11:05:41.790Z"
   },
   {
    "duration": 12,
    "start_time": "2024-03-28T11:05:41.813Z"
   },
   {
    "duration": 16,
    "start_time": "2024-03-28T11:05:41.826Z"
   },
   {
    "duration": 38,
    "start_time": "2024-03-28T11:05:41.844Z"
   },
   {
    "duration": 21,
    "start_time": "2024-03-28T11:05:41.884Z"
   },
   {
    "duration": 7,
    "start_time": "2024-03-28T11:05:41.906Z"
   },
   {
    "duration": 9,
    "start_time": "2024-03-28T11:05:41.915Z"
   },
   {
    "duration": 7,
    "start_time": "2024-03-28T11:05:41.926Z"
   },
   {
    "duration": 16,
    "start_time": "2024-03-28T11:05:41.969Z"
   },
   {
    "duration": 9,
    "start_time": "2024-03-28T11:05:41.987Z"
   },
   {
    "duration": 5,
    "start_time": "2024-03-28T11:05:41.999Z"
   },
   {
    "duration": 7,
    "start_time": "2024-03-28T11:05:42.006Z"
   },
   {
    "duration": 8,
    "start_time": "2024-03-28T11:05:42.015Z"
   },
   {
    "duration": 46,
    "start_time": "2024-03-28T11:05:42.025Z"
   },
   {
    "duration": 14,
    "start_time": "2024-03-28T11:05:42.073Z"
   },
   {
    "duration": 9,
    "start_time": "2024-03-28T11:05:42.089Z"
   },
   {
    "duration": 24,
    "start_time": "2024-03-28T11:05:42.100Z"
   },
   {
    "duration": 211,
    "start_time": "2024-03-28T11:05:42.126Z"
   },
   {
    "duration": 4,
    "start_time": "2024-03-28T11:05:42.339Z"
   },
   {
    "duration": 114,
    "start_time": "2024-03-28T11:05:42.345Z"
   },
   {
    "duration": 333,
    "start_time": "2024-03-28T11:05:42.461Z"
   },
   {
    "duration": 9,
    "start_time": "2024-03-28T11:05:42.796Z"
   },
   {
    "duration": 371,
    "start_time": "2024-03-28T11:05:42.807Z"
   },
   {
    "duration": 12,
    "start_time": "2024-03-28T11:05:43.180Z"
   },
   {
    "duration": 36,
    "start_time": "2024-03-28T11:05:43.194Z"
   },
   {
    "duration": 281,
    "start_time": "2024-03-28T11:05:43.232Z"
   },
   {
    "duration": 9,
    "start_time": "2024-03-28T11:05:43.516Z"
   },
   {
    "duration": 58,
    "start_time": "2024-03-28T11:05:43.527Z"
   },
   {
    "duration": 27,
    "start_time": "2024-03-28T11:05:43.588Z"
   },
   {
    "duration": 29,
    "start_time": "2024-03-28T11:05:43.617Z"
   },
   {
    "duration": 353,
    "start_time": "2024-03-28T11:05:43.648Z"
   },
   {
    "duration": 241,
    "start_time": "2024-03-28T11:06:01.754Z"
   },
   {
    "duration": 137,
    "start_time": "2024-03-28T11:06:04.914Z"
   },
   {
    "duration": 20,
    "start_time": "2024-03-28T11:06:23.494Z"
   },
   {
    "duration": 125,
    "start_time": "2024-03-28T11:06:36.682Z"
   },
   {
    "duration": 77,
    "start_time": "2024-03-28T11:07:37.938Z"
   },
   {
    "duration": 141,
    "start_time": "2024-03-28T11:07:41.023Z"
   },
   {
    "duration": 126,
    "start_time": "2024-03-28T11:07:50.252Z"
   },
   {
    "duration": 145,
    "start_time": "2024-03-28T11:08:08.720Z"
   },
   {
    "duration": 137,
    "start_time": "2024-03-28T11:09:37.932Z"
   },
   {
    "duration": 153,
    "start_time": "2024-03-28T11:10:27.140Z"
   },
   {
    "duration": 155,
    "start_time": "2024-03-28T11:10:36.151Z"
   },
   {
    "duration": 156,
    "start_time": "2024-03-28T11:11:05.138Z"
   },
   {
    "duration": 26,
    "start_time": "2024-03-28T11:11:37.515Z"
   },
   {
    "duration": 169,
    "start_time": "2024-03-28T11:11:41.087Z"
   },
   {
    "duration": 233,
    "start_time": "2024-03-28T11:11:48.617Z"
   },
   {
    "duration": 154,
    "start_time": "2024-03-28T11:11:58.323Z"
   },
   {
    "duration": 29,
    "start_time": "2024-03-28T11:12:03.849Z"
   },
   {
    "duration": 20,
    "start_time": "2024-03-28T11:12:05.185Z"
   },
   {
    "duration": 162,
    "start_time": "2024-03-28T11:12:06.505Z"
   },
   {
    "duration": 155,
    "start_time": "2024-03-28T11:12:08.531Z"
   },
   {
    "duration": 200,
    "start_time": "2024-03-28T11:12:45.896Z"
   },
   {
    "duration": 151,
    "start_time": "2024-03-28T11:12:53.312Z"
   },
   {
    "duration": 186,
    "start_time": "2024-03-28T11:13:28.631Z"
   },
   {
    "duration": 91,
    "start_time": "2024-03-28T11:15:59.981Z"
   },
   {
    "duration": 79,
    "start_time": "2024-03-28T11:33:47.447Z"
   },
   {
    "duration": 12,
    "start_time": "2024-03-28T11:33:53.845Z"
   },
   {
    "duration": 17,
    "start_time": "2024-03-28T11:34:01.345Z"
   },
   {
    "duration": 19,
    "start_time": "2024-03-28T11:36:06.037Z"
   },
   {
    "duration": 26,
    "start_time": "2024-03-28T11:36:11.424Z"
   },
   {
    "duration": 27,
    "start_time": "2024-03-28T11:36:28.731Z"
   },
   {
    "duration": 23,
    "start_time": "2024-03-28T11:36:41.494Z"
   },
   {
    "duration": 84,
    "start_time": "2024-03-28T11:37:55.885Z"
   },
   {
    "duration": 28,
    "start_time": "2024-03-28T11:38:47.351Z"
   },
   {
    "duration": 30,
    "start_time": "2024-03-28T11:39:06.769Z"
   },
   {
    "duration": 31,
    "start_time": "2024-03-28T11:39:11.780Z"
   },
   {
    "duration": 40,
    "start_time": "2024-03-28T11:41:27.011Z"
   },
   {
    "duration": 65,
    "start_time": "2024-03-28T11:44:54.218Z"
   },
   {
    "duration": 44,
    "start_time": "2024-03-28T11:45:05.619Z"
   },
   {
    "duration": 39,
    "start_time": "2024-03-28T11:47:50.280Z"
   },
   {
    "duration": 23,
    "start_time": "2024-03-28T11:48:49.495Z"
   },
   {
    "duration": 34,
    "start_time": "2024-03-28T11:49:21.696Z"
   },
   {
    "duration": 4,
    "start_time": "2024-03-28T11:53:14.391Z"
   },
   {
    "duration": 52,
    "start_time": "2024-03-28T12:45:44.084Z"
   },
   {
    "duration": 20,
    "start_time": "2024-03-28T12:45:58.917Z"
   },
   {
    "duration": 3,
    "start_time": "2024-03-28T12:54:15.351Z"
   },
   {
    "duration": 13,
    "start_time": "2024-03-28T12:54:19.448Z"
   },
   {
    "duration": 3,
    "start_time": "2024-03-28T12:54:27.518Z"
   },
   {
    "duration": 31,
    "start_time": "2024-03-28T12:57:03.455Z"
   },
   {
    "duration": 29,
    "start_time": "2024-03-28T12:58:08.486Z"
   },
   {
    "duration": 29,
    "start_time": "2024-03-28T12:58:25.662Z"
   },
   {
    "duration": 12,
    "start_time": "2024-03-28T12:59:36.655Z"
   },
   {
    "duration": 16,
    "start_time": "2024-03-28T13:00:00.467Z"
   },
   {
    "duration": 14,
    "start_time": "2024-03-28T13:00:50.567Z"
   },
   {
    "duration": 13,
    "start_time": "2024-03-28T13:01:02.477Z"
   },
   {
    "duration": 10,
    "start_time": "2024-03-28T13:01:22.637Z"
   },
   {
    "duration": 12,
    "start_time": "2024-03-28T13:01:40.023Z"
   },
   {
    "duration": 938,
    "start_time": "2024-03-28T13:02:04.087Z"
   },
   {
    "duration": 32,
    "start_time": "2024-03-28T13:02:36.678Z"
   },
   {
    "duration": 993,
    "start_time": "2024-03-28T13:02:41.020Z"
   },
   {
    "duration": 29,
    "start_time": "2024-03-28T13:02:44.188Z"
   },
   {
    "duration": 923,
    "start_time": "2024-03-28T13:03:07.647Z"
   },
   {
    "duration": 970,
    "start_time": "2024-03-28T13:03:20.251Z"
   },
   {
    "duration": 84,
    "start_time": "2024-03-28T13:05:16.275Z"
   },
   {
    "duration": 35,
    "start_time": "2024-03-28T13:05:42.370Z"
   },
   {
    "duration": 32,
    "start_time": "2024-03-28T13:05:48.616Z"
   },
   {
    "duration": 31,
    "start_time": "2024-03-28T13:06:04.810Z"
   },
   {
    "duration": 1006,
    "start_time": "2024-03-28T13:06:42.835Z"
   },
   {
    "duration": 977,
    "start_time": "2024-03-28T13:14:23.161Z"
   },
   {
    "duration": 985,
    "start_time": "2024-03-28T13:14:28.926Z"
   },
   {
    "duration": 1064,
    "start_time": "2024-03-28T13:16:00.035Z"
   },
   {
    "duration": 1104,
    "start_time": "2024-03-28T13:16:28.921Z"
   },
   {
    "duration": 1032,
    "start_time": "2024-03-28T13:16:31.487Z"
   },
   {
    "duration": 261,
    "start_time": "2024-03-28T13:17:10.780Z"
   },
   {
    "duration": 195,
    "start_time": "2024-03-28T13:21:18.371Z"
   },
   {
    "duration": 9,
    "start_time": "2024-03-28T13:30:51.134Z"
   },
   {
    "duration": 9,
    "start_time": "2024-03-28T14:03:52.005Z"
   },
   {
    "duration": 4,
    "start_time": "2024-03-28T14:04:01.390Z"
   },
   {
    "duration": 19,
    "start_time": "2024-03-28T14:04:08.141Z"
   },
   {
    "duration": 6,
    "start_time": "2024-03-28T14:04:17.430Z"
   },
   {
    "duration": 6,
    "start_time": "2024-03-28T14:05:25.313Z"
   },
   {
    "duration": 6,
    "start_time": "2024-03-28T14:06:50.882Z"
   },
   {
    "duration": 9,
    "start_time": "2024-03-28T14:13:37.201Z"
   },
   {
    "duration": 5,
    "start_time": "2024-03-28T14:13:54.638Z"
   },
   {
    "duration": 5,
    "start_time": "2024-03-28T14:14:24.263Z"
   },
   {
    "duration": 19,
    "start_time": "2024-03-28T14:23:21.391Z"
   },
   {
    "duration": 10,
    "start_time": "2024-03-28T14:23:33.218Z"
   },
   {
    "duration": 22,
    "start_time": "2024-03-28T14:28:20.640Z"
   },
   {
    "duration": 28,
    "start_time": "2024-03-28T14:28:21.902Z"
   },
   {
    "duration": 154,
    "start_time": "2024-03-28T14:28:26.033Z"
   },
   {
    "duration": 139,
    "start_time": "2024-03-28T14:28:42.014Z"
   },
   {
    "duration": 160,
    "start_time": "2024-03-28T14:28:44.252Z"
   },
   {
    "duration": 162,
    "start_time": "2024-03-28T14:29:02.564Z"
   },
   {
    "duration": 156,
    "start_time": "2024-03-28T14:29:03.850Z"
   },
   {
    "duration": 156,
    "start_time": "2024-03-28T14:29:09.963Z"
   },
   {
    "duration": 171,
    "start_time": "2024-03-28T14:29:18.051Z"
   },
   {
    "duration": 8,
    "start_time": "2024-03-28T14:29:40.586Z"
   },
   {
    "duration": 6,
    "start_time": "2024-03-28T14:30:04.708Z"
   },
   {
    "duration": 5,
    "start_time": "2024-03-28T14:31:29.933Z"
   },
   {
    "duration": 5,
    "start_time": "2024-03-28T14:32:25.161Z"
   },
   {
    "duration": 5,
    "start_time": "2024-03-28T14:32:58.064Z"
   },
   {
    "duration": 5,
    "start_time": "2024-03-28T14:33:15.115Z"
   },
   {
    "duration": 6,
    "start_time": "2024-03-28T14:35:09.303Z"
   },
   {
    "duration": 27,
    "start_time": "2024-03-28T14:36:02.959Z"
   },
   {
    "duration": 31,
    "start_time": "2024-03-28T14:36:18.354Z"
   },
   {
    "duration": 163,
    "start_time": "2024-03-28T14:36:25.027Z"
   },
   {
    "duration": 150,
    "start_time": "2024-03-28T14:36:46.674Z"
   },
   {
    "duration": 149,
    "start_time": "2024-03-28T14:36:47.739Z"
   },
   {
    "duration": 6,
    "start_time": "2024-03-28T14:37:23.583Z"
   },
   {
    "duration": 7,
    "start_time": "2024-03-28T14:37:40.476Z"
   },
   {
    "duration": 4,
    "start_time": "2024-03-28T14:37:46.753Z"
   },
   {
    "duration": 5,
    "start_time": "2024-03-28T14:37:56.944Z"
   },
   {
    "duration": 5,
    "start_time": "2024-03-28T14:40:43.625Z"
   },
   {
    "duration": 26,
    "start_time": "2024-03-28T14:43:17.925Z"
   },
   {
    "duration": 22,
    "start_time": "2024-03-28T14:43:35.121Z"
   },
   {
    "duration": 23,
    "start_time": "2024-03-28T14:43:56.153Z"
   },
   {
    "duration": 117,
    "start_time": "2024-03-28T14:44:01.144Z"
   },
   {
    "duration": 20,
    "start_time": "2024-03-28T14:44:11.629Z"
   },
   {
    "duration": 166,
    "start_time": "2024-03-28T14:44:24.535Z"
   },
   {
    "duration": 147,
    "start_time": "2024-03-28T14:44:25.547Z"
   },
   {
    "duration": 180,
    "start_time": "2024-03-28T14:44:42.043Z"
   },
   {
    "duration": 148,
    "start_time": "2024-03-28T14:44:45.178Z"
   },
   {
    "duration": 3,
    "start_time": "2024-03-28T14:44:50.710Z"
   },
   {
    "duration": 91,
    "start_time": "2024-03-28T14:44:50.716Z"
   },
   {
    "duration": 13,
    "start_time": "2024-03-28T14:44:50.808Z"
   },
   {
    "duration": 26,
    "start_time": "2024-03-28T14:44:50.823Z"
   },
   {
    "duration": 29,
    "start_time": "2024-03-28T14:44:50.850Z"
   },
   {
    "duration": 15,
    "start_time": "2024-03-28T14:44:50.880Z"
   },
   {
    "duration": 18,
    "start_time": "2024-03-28T14:44:50.896Z"
   },
   {
    "duration": 15,
    "start_time": "2024-03-28T14:44:50.916Z"
   },
   {
    "duration": 16,
    "start_time": "2024-03-28T14:44:50.933Z"
   },
   {
    "duration": 29,
    "start_time": "2024-03-28T14:44:50.951Z"
   },
   {
    "duration": 8,
    "start_time": "2024-03-28T14:44:50.982Z"
   },
   {
    "duration": 20,
    "start_time": "2024-03-28T14:44:50.992Z"
   },
   {
    "duration": 7,
    "start_time": "2024-03-28T14:44:51.014Z"
   },
   {
    "duration": 12,
    "start_time": "2024-03-28T14:44:51.023Z"
   },
   {
    "duration": 20,
    "start_time": "2024-03-28T14:44:51.037Z"
   },
   {
    "duration": 14,
    "start_time": "2024-03-28T14:44:51.059Z"
   },
   {
    "duration": 36,
    "start_time": "2024-03-28T14:44:51.074Z"
   },
   {
    "duration": 10,
    "start_time": "2024-03-28T14:44:51.112Z"
   },
   {
    "duration": 13,
    "start_time": "2024-03-28T14:44:51.123Z"
   },
   {
    "duration": 12,
    "start_time": "2024-03-28T14:44:51.138Z"
   },
   {
    "duration": 33,
    "start_time": "2024-03-28T14:44:51.152Z"
   },
   {
    "duration": 19,
    "start_time": "2024-03-28T14:44:51.187Z"
   },
   {
    "duration": 155,
    "start_time": "2024-03-28T14:44:51.208Z"
   },
   {
    "duration": 9,
    "start_time": "2024-03-28T14:44:51.367Z"
   },
   {
    "duration": 104,
    "start_time": "2024-03-28T14:44:51.380Z"
   },
   {
    "duration": 237,
    "start_time": "2024-03-28T14:44:51.486Z"
   },
   {
    "duration": 8,
    "start_time": "2024-03-28T14:44:51.724Z"
   },
   {
    "duration": 354,
    "start_time": "2024-03-28T14:44:51.733Z"
   },
   {
    "duration": 9,
    "start_time": "2024-03-28T14:44:52.089Z"
   },
   {
    "duration": 15,
    "start_time": "2024-03-28T14:44:52.100Z"
   },
   {
    "duration": 229,
    "start_time": "2024-03-28T14:44:52.117Z"
   },
   {
    "duration": 9,
    "start_time": "2024-03-28T14:44:52.347Z"
   },
   {
    "duration": 45,
    "start_time": "2024-03-28T14:44:52.358Z"
   },
   {
    "duration": 24,
    "start_time": "2024-03-28T14:44:52.405Z"
   },
   {
    "duration": 53,
    "start_time": "2024-03-28T14:44:52.430Z"
   },
   {
    "duration": 234,
    "start_time": "2024-03-28T14:44:52.485Z"
   },
   {
    "duration": 178,
    "start_time": "2024-03-28T14:44:52.720Z"
   },
   {
    "duration": 157,
    "start_time": "2024-03-28T14:44:52.899Z"
   },
   {
    "duration": 157,
    "start_time": "2024-03-28T14:44:53.057Z"
   },
   {
    "duration": 25,
    "start_time": "2024-03-28T14:44:53.215Z"
   },
   {
    "duration": 3,
    "start_time": "2024-03-28T14:44:53.242Z"
   },
   {
    "duration": 878,
    "start_time": "2024-03-28T14:44:53.247Z"
   },
   {
    "duration": 175,
    "start_time": "2024-03-28T14:44:54.127Z"
   },
   {
    "duration": 7,
    "start_time": "2024-03-28T14:44:54.304Z"
   },
   {
    "duration": 45,
    "start_time": "2024-03-28T14:44:54.312Z"
   },
   {
    "duration": 5,
    "start_time": "2024-03-28T14:44:54.358Z"
   },
   {
    "duration": 28,
    "start_time": "2024-03-28T14:44:54.365Z"
   },
   {
    "duration": 20,
    "start_time": "2024-03-28T14:44:54.395Z"
   },
   {
    "duration": 8,
    "start_time": "2024-03-28T14:45:45.677Z"
   },
   {
    "duration": 5,
    "start_time": "2024-03-28T14:45:54.603Z"
   },
   {
    "duration": 5,
    "start_time": "2024-03-28T14:48:48.290Z"
   },
   {
    "duration": 5,
    "start_time": "2024-03-28T14:48:53.252Z"
   },
   {
    "duration": 83,
    "start_time": "2024-03-28T14:54:57.976Z"
   },
   {
    "duration": 11,
    "start_time": "2024-03-28T14:55:01.531Z"
   },
   {
    "duration": 27,
    "start_time": "2024-03-28T14:55:07.160Z"
   },
   {
    "duration": 1015,
    "start_time": "2024-03-28T14:55:30.447Z"
   },
   {
    "duration": 1003,
    "start_time": "2024-03-28T14:55:52.128Z"
   },
   {
    "duration": 1342,
    "start_time": "2024-03-28T14:56:45.448Z"
   },
   {
    "duration": 1245,
    "start_time": "2024-03-28T14:57:45.350Z"
   },
   {
    "duration": 12,
    "start_time": "2024-03-28T14:58:22.532Z"
   },
   {
    "duration": 11,
    "start_time": "2024-03-28T14:58:39.800Z"
   },
   {
    "duration": 17,
    "start_time": "2024-03-28T15:00:08.667Z"
   },
   {
    "duration": 16,
    "start_time": "2024-03-28T15:02:12.144Z"
   },
   {
    "duration": 277,
    "start_time": "2024-03-28T15:25:28.225Z"
   },
   {
    "duration": 13,
    "start_time": "2024-03-28T16:43:52.931Z"
   },
   {
    "duration": 3,
    "start_time": "2024-03-28T16:44:08.960Z"
   },
   {
    "duration": 6,
    "start_time": "2024-03-28T16:44:12.352Z"
   },
   {
    "duration": 12,
    "start_time": "2024-03-28T16:45:18.127Z"
   },
   {
    "duration": 4,
    "start_time": "2024-03-28T16:45:22.585Z"
   },
   {
    "duration": 6,
    "start_time": "2024-03-28T16:45:30.175Z"
   },
   {
    "duration": 110,
    "start_time": "2024-03-28T16:47:52.359Z"
   },
   {
    "duration": 85,
    "start_time": "2024-03-28T16:49:43.430Z"
   },
   {
    "duration": 86,
    "start_time": "2024-03-28T16:50:05.792Z"
   },
   {
    "duration": 93,
    "start_time": "2024-03-28T16:50:32.292Z"
   },
   {
    "duration": 116,
    "start_time": "2024-03-28T16:51:37.761Z"
   },
   {
    "duration": 163,
    "start_time": "2024-03-28T16:51:47.861Z"
   },
   {
    "duration": 5,
    "start_time": "2024-03-28T16:57:49.066Z"
   },
   {
    "duration": 135,
    "start_time": "2024-03-28T17:03:33.017Z"
   },
   {
    "duration": 324,
    "start_time": "2024-03-28T17:07:13.939Z"
   },
   {
    "duration": 222,
    "start_time": "2024-03-28T17:07:32.898Z"
   },
   {
    "duration": 222,
    "start_time": "2024-03-28T17:08:45.277Z"
   },
   {
    "duration": 125,
    "start_time": "2024-03-28T17:09:05.686Z"
   },
   {
    "duration": 214,
    "start_time": "2024-03-28T17:09:11.103Z"
   },
   {
    "duration": 227,
    "start_time": "2024-03-28T17:23:43.396Z"
   },
   {
    "duration": 143,
    "start_time": "2024-03-28T17:23:57.673Z"
   },
   {
    "duration": 1683,
    "start_time": "2024-03-28T17:29:50.168Z"
   },
   {
    "duration": 1540,
    "start_time": "2024-03-28T17:29:56.061Z"
   },
   {
    "duration": 1610,
    "start_time": "2024-03-28T17:30:02.782Z"
   },
   {
    "duration": 10,
    "start_time": "2024-03-28T17:30:31.666Z"
   },
   {
    "duration": 1706,
    "start_time": "2024-03-28T17:30:36.461Z"
   },
   {
    "duration": 90,
    "start_time": "2024-03-28T17:31:22.769Z"
   },
   {
    "duration": 1246,
    "start_time": "2024-03-28T17:31:28.267Z"
   },
   {
    "duration": 1221,
    "start_time": "2024-03-28T17:31:43.163Z"
   },
   {
    "duration": 1260,
    "start_time": "2024-03-28T17:32:02.447Z"
   },
   {
    "duration": 2243,
    "start_time": "2024-03-28T17:33:08.699Z"
   },
   {
    "duration": 2076,
    "start_time": "2024-03-28T17:33:19.632Z"
   },
   {
    "duration": 2147,
    "start_time": "2024-03-28T17:34:03.168Z"
   },
   {
    "duration": 387,
    "start_time": "2024-03-28T17:34:54.871Z"
   },
   {
    "duration": 3250,
    "start_time": "2024-03-28T17:35:04.013Z"
   },
   {
    "duration": 2992,
    "start_time": "2024-03-28T17:35:19.401Z"
   },
   {
    "duration": 219,
    "start_time": "2024-03-28T17:36:47.613Z"
   },
   {
    "duration": 237,
    "start_time": "2024-03-28T17:38:23.633Z"
   },
   {
    "duration": 261,
    "start_time": "2024-03-28T17:38:57.470Z"
   },
   {
    "duration": 5,
    "start_time": "2024-03-28T17:39:03.061Z"
   },
   {
    "duration": 273,
    "start_time": "2024-03-28T17:39:23.465Z"
   },
   {
    "duration": 259,
    "start_time": "2024-03-28T17:41:55.371Z"
   },
   {
    "duration": 209,
    "start_time": "2024-03-28T17:42:28.414Z"
   },
   {
    "duration": 1369,
    "start_time": "2024-03-28T17:52:54.630Z"
   },
   {
    "duration": 299,
    "start_time": "2024-03-28T17:52:56.001Z"
   },
   {
    "duration": 16,
    "start_time": "2024-03-28T17:52:56.301Z"
   },
   {
    "duration": 11,
    "start_time": "2024-03-28T17:52:56.319Z"
   },
   {
    "duration": 16,
    "start_time": "2024-03-28T17:52:56.331Z"
   },
   {
    "duration": 14,
    "start_time": "2024-03-28T17:52:56.349Z"
   },
   {
    "duration": 6,
    "start_time": "2024-03-28T17:52:56.365Z"
   },
   {
    "duration": 9,
    "start_time": "2024-03-28T17:52:56.387Z"
   },
   {
    "duration": 15,
    "start_time": "2024-03-28T17:52:56.398Z"
   },
   {
    "duration": 17,
    "start_time": "2024-03-28T17:52:56.416Z"
   },
   {
    "duration": 13,
    "start_time": "2024-03-28T17:52:56.435Z"
   },
   {
    "duration": 8,
    "start_time": "2024-03-28T17:52:56.450Z"
   },
   {
    "duration": 29,
    "start_time": "2024-03-28T17:52:56.459Z"
   },
   {
    "duration": 9,
    "start_time": "2024-03-28T17:52:56.490Z"
   },
   {
    "duration": 10,
    "start_time": "2024-03-28T17:52:56.501Z"
   },
   {
    "duration": 5,
    "start_time": "2024-03-28T17:52:56.512Z"
   },
   {
    "duration": 5,
    "start_time": "2024-03-28T17:52:56.519Z"
   },
   {
    "duration": 12,
    "start_time": "2024-03-28T17:52:56.525Z"
   },
   {
    "duration": 11,
    "start_time": "2024-03-28T17:52:56.538Z"
   },
   {
    "duration": 43,
    "start_time": "2024-03-28T17:52:56.550Z"
   },
   {
    "duration": 10,
    "start_time": "2024-03-28T17:52:56.595Z"
   },
   {
    "duration": 10,
    "start_time": "2024-03-28T17:52:56.607Z"
   },
   {
    "duration": 178,
    "start_time": "2024-03-28T17:52:56.618Z"
   },
   {
    "duration": 3,
    "start_time": "2024-03-28T17:52:56.797Z"
   },
   {
    "duration": 102,
    "start_time": "2024-03-28T17:52:56.802Z"
   },
   {
    "duration": 254,
    "start_time": "2024-03-28T17:52:56.906Z"
   },
   {
    "duration": 7,
    "start_time": "2024-03-28T17:52:57.162Z"
   },
   {
    "duration": 342,
    "start_time": "2024-03-28T17:52:57.173Z"
   },
   {
    "duration": 8,
    "start_time": "2024-03-28T17:52:57.516Z"
   },
   {
    "duration": 12,
    "start_time": "2024-03-28T17:52:57.526Z"
   },
   {
    "duration": 241,
    "start_time": "2024-03-28T17:52:57.540Z"
   },
   {
    "duration": 8,
    "start_time": "2024-03-28T17:52:57.787Z"
   },
   {
    "duration": 25,
    "start_time": "2024-03-28T17:52:57.796Z"
   },
   {
    "duration": 22,
    "start_time": "2024-03-28T17:52:57.822Z"
   },
   {
    "duration": 43,
    "start_time": "2024-03-28T17:52:57.846Z"
   },
   {
    "duration": 334,
    "start_time": "2024-03-28T17:52:57.891Z"
   },
   {
    "duration": 168,
    "start_time": "2024-03-28T17:52:58.226Z"
   },
   {
    "duration": 151,
    "start_time": "2024-03-28T17:52:58.396Z"
   },
   {
    "duration": 161,
    "start_time": "2024-03-28T17:52:58.548Z"
   },
   {
    "duration": 25,
    "start_time": "2024-03-28T17:52:58.711Z"
   },
   {
    "duration": 4,
    "start_time": "2024-03-28T17:52:58.737Z"
   },
   {
    "duration": 873,
    "start_time": "2024-03-28T17:52:58.743Z"
   },
   {
    "duration": 170,
    "start_time": "2024-03-28T17:52:59.618Z"
   },
   {
    "duration": 9,
    "start_time": "2024-03-28T17:52:59.789Z"
   },
   {
    "duration": 9,
    "start_time": "2024-03-28T17:52:59.799Z"
   },
   {
    "duration": 12,
    "start_time": "2024-03-28T17:52:59.810Z"
   },
   {
    "duration": 14,
    "start_time": "2024-03-28T17:52:59.824Z"
   },
   {
    "duration": 151,
    "start_time": "2024-03-28T17:52:59.840Z"
   },
   {
    "duration": 1,
    "start_time": "2024-03-28T17:52:59.992Z"
   },
   {
    "duration": 43,
    "start_time": "2024-03-28T18:03:54.433Z"
   },
   {
    "duration": 10,
    "start_time": "2024-03-28T18:07:45.736Z"
   },
   {
    "duration": 10,
    "start_time": "2024-03-28T18:07:45.826Z"
   },
   {
    "duration": 152,
    "start_time": "2024-03-28T18:09:10.539Z"
   },
   {
    "duration": 10,
    "start_time": "2024-03-28T18:09:11.786Z"
   },
   {
    "duration": 316,
    "start_time": "2024-03-28T18:16:06.716Z"
   },
   {
    "duration": 6,
    "start_time": "2024-03-28T18:16:48.925Z"
   },
   {
    "duration": 1175,
    "start_time": "2024-03-28T18:17:29.725Z"
   },
   {
    "duration": 68,
    "start_time": "2024-03-28T18:17:30.902Z"
   },
   {
    "duration": 16,
    "start_time": "2024-03-28T18:17:30.972Z"
   },
   {
    "duration": 89,
    "start_time": "2024-03-28T18:17:30.990Z"
   },
   {
    "duration": 54,
    "start_time": "2024-03-28T18:17:31.081Z"
   },
   {
    "duration": 85,
    "start_time": "2024-03-28T18:17:31.137Z"
   },
   {
    "duration": 69,
    "start_time": "2024-03-28T18:17:31.224Z"
   },
   {
    "duration": 50,
    "start_time": "2024-03-28T18:17:31.295Z"
   },
   {
    "duration": 61,
    "start_time": "2024-03-28T18:17:31.346Z"
   },
   {
    "duration": 34,
    "start_time": "2024-03-28T18:17:31.410Z"
   },
   {
    "duration": 50,
    "start_time": "2024-03-28T18:17:31.446Z"
   },
   {
    "duration": 61,
    "start_time": "2024-03-28T18:17:31.498Z"
   },
   {
    "duration": 41,
    "start_time": "2024-03-28T18:17:31.561Z"
   },
   {
    "duration": 76,
    "start_time": "2024-03-28T18:17:31.604Z"
   },
   {
    "duration": 49,
    "start_time": "2024-03-28T18:17:31.682Z"
   },
   {
    "duration": 85,
    "start_time": "2024-03-28T18:17:31.732Z"
   },
   {
    "duration": 51,
    "start_time": "2024-03-28T18:17:31.819Z"
   },
   {
    "duration": 72,
    "start_time": "2024-03-28T18:17:31.872Z"
   },
   {
    "duration": 37,
    "start_time": "2024-03-28T18:17:31.946Z"
   },
   {
    "duration": 61,
    "start_time": "2024-03-28T18:17:31.985Z"
   },
   {
    "duration": 38,
    "start_time": "2024-03-28T18:17:32.048Z"
   },
   {
    "duration": 41,
    "start_time": "2024-03-28T18:17:32.088Z"
   },
   {
    "duration": 180,
    "start_time": "2024-03-28T18:17:32.131Z"
   },
   {
    "duration": 5,
    "start_time": "2024-03-28T18:17:32.313Z"
   },
   {
    "duration": 96,
    "start_time": "2024-03-28T18:17:32.319Z"
   },
   {
    "duration": 242,
    "start_time": "2024-03-28T18:17:32.417Z"
   },
   {
    "duration": 7,
    "start_time": "2024-03-28T18:17:32.660Z"
   },
   {
    "duration": 334,
    "start_time": "2024-03-28T18:17:32.670Z"
   },
   {
    "duration": 8,
    "start_time": "2024-03-28T18:17:33.006Z"
   },
   {
    "duration": 25,
    "start_time": "2024-03-28T18:17:33.015Z"
   },
   {
    "duration": 235,
    "start_time": "2024-03-28T18:17:33.042Z"
   },
   {
    "duration": 9,
    "start_time": "2024-03-28T18:17:33.279Z"
   },
   {
    "duration": 27,
    "start_time": "2024-03-28T18:17:33.289Z"
   },
   {
    "duration": 22,
    "start_time": "2024-03-28T18:17:33.317Z"
   },
   {
    "duration": 20,
    "start_time": "2024-03-28T18:17:33.340Z"
   },
   {
    "duration": 329,
    "start_time": "2024-03-28T18:17:33.388Z"
   },
   {
    "duration": 161,
    "start_time": "2024-03-28T18:17:33.719Z"
   },
   {
    "duration": 170,
    "start_time": "2024-03-28T18:17:33.888Z"
   },
   {
    "duration": 163,
    "start_time": "2024-03-28T18:17:34.060Z"
   },
   {
    "duration": 27,
    "start_time": "2024-03-28T18:17:34.225Z"
   },
   {
    "duration": 4,
    "start_time": "2024-03-28T18:17:34.253Z"
   },
   {
    "duration": 949,
    "start_time": "2024-03-28T18:17:34.259Z"
   },
   {
    "duration": 181,
    "start_time": "2024-03-28T18:17:35.210Z"
   },
   {
    "duration": 9,
    "start_time": "2024-03-28T18:17:35.393Z"
   },
   {
    "duration": 7,
    "start_time": "2024-03-28T18:17:35.403Z"
   },
   {
    "duration": 6,
    "start_time": "2024-03-28T18:17:35.411Z"
   },
   {
    "duration": 12,
    "start_time": "2024-03-28T18:17:35.418Z"
   },
   {
    "duration": 139,
    "start_time": "2024-03-28T18:17:35.432Z"
   },
   {
    "duration": 0,
    "start_time": "2024-03-28T18:17:35.573Z"
   },
   {
    "duration": 1168,
    "start_time": "2024-03-28T18:18:55.326Z"
   },
   {
    "duration": 66,
    "start_time": "2024-03-28T18:18:56.496Z"
   },
   {
    "duration": 17,
    "start_time": "2024-03-28T18:18:56.564Z"
   },
   {
    "duration": 11,
    "start_time": "2024-03-28T18:18:56.583Z"
   },
   {
    "duration": 18,
    "start_time": "2024-03-28T18:18:56.596Z"
   },
   {
    "duration": 12,
    "start_time": "2024-03-28T18:18:56.616Z"
   },
   {
    "duration": 7,
    "start_time": "2024-03-28T18:18:56.630Z"
   },
   {
    "duration": 10,
    "start_time": "2024-03-28T18:18:56.639Z"
   },
   {
    "duration": 39,
    "start_time": "2024-03-28T18:18:56.651Z"
   },
   {
    "duration": 16,
    "start_time": "2024-03-28T18:18:56.692Z"
   },
   {
    "duration": 6,
    "start_time": "2024-03-28T18:18:56.709Z"
   },
   {
    "duration": 7,
    "start_time": "2024-03-28T18:18:56.716Z"
   },
   {
    "duration": 6,
    "start_time": "2024-03-28T18:18:56.724Z"
   },
   {
    "duration": 29,
    "start_time": "2024-03-28T18:18:56.731Z"
   },
   {
    "duration": 7,
    "start_time": "2024-03-28T18:18:56.761Z"
   },
   {
    "duration": 26,
    "start_time": "2024-03-28T18:18:56.769Z"
   },
   {
    "duration": 11,
    "start_time": "2024-03-28T18:18:56.797Z"
   },
   {
    "duration": 8,
    "start_time": "2024-03-28T18:18:56.809Z"
   },
   {
    "duration": 19,
    "start_time": "2024-03-28T18:18:56.818Z"
   },
   {
    "duration": 8,
    "start_time": "2024-03-28T18:18:56.838Z"
   },
   {
    "duration": 16,
    "start_time": "2024-03-28T18:18:56.847Z"
   },
   {
    "duration": 9,
    "start_time": "2024-03-28T18:18:56.865Z"
   },
   {
    "duration": 162,
    "start_time": "2024-03-28T18:18:56.876Z"
   },
   {
    "duration": 4,
    "start_time": "2024-03-28T18:18:57.040Z"
   },
   {
    "duration": 96,
    "start_time": "2024-03-28T18:18:57.045Z"
   },
   {
    "duration": 253,
    "start_time": "2024-03-28T18:18:57.143Z"
   },
   {
    "duration": 7,
    "start_time": "2024-03-28T18:18:57.398Z"
   },
   {
    "duration": 316,
    "start_time": "2024-03-28T18:18:57.409Z"
   },
   {
    "duration": 8,
    "start_time": "2024-03-28T18:18:57.727Z"
   },
   {
    "duration": 19,
    "start_time": "2024-03-28T18:18:57.737Z"
   },
   {
    "duration": 254,
    "start_time": "2024-03-28T18:18:57.758Z"
   },
   {
    "duration": 9,
    "start_time": "2024-03-28T18:18:58.014Z"
   },
   {
    "duration": 26,
    "start_time": "2024-03-28T18:18:58.025Z"
   },
   {
    "duration": 43,
    "start_time": "2024-03-28T18:18:58.052Z"
   },
   {
    "duration": 20,
    "start_time": "2024-03-28T18:18:58.097Z"
   },
   {
    "duration": 341,
    "start_time": "2024-03-28T18:18:58.119Z"
   },
   {
    "duration": 161,
    "start_time": "2024-03-28T18:18:58.461Z"
   },
   {
    "duration": 153,
    "start_time": "2024-03-28T18:18:58.623Z"
   },
   {
    "duration": 155,
    "start_time": "2024-03-28T18:18:58.778Z"
   },
   {
    "duration": 26,
    "start_time": "2024-03-28T18:18:58.934Z"
   },
   {
    "duration": 3,
    "start_time": "2024-03-28T18:18:58.961Z"
   },
   {
    "duration": 950,
    "start_time": "2024-03-28T18:18:58.966Z"
   },
   {
    "duration": 171,
    "start_time": "2024-03-28T18:18:59.917Z"
   },
   {
    "duration": 8,
    "start_time": "2024-03-28T18:19:00.090Z"
   },
   {
    "duration": 50,
    "start_time": "2024-03-28T18:19:00.099Z"
   },
   {
    "duration": 115,
    "start_time": "2024-03-28T18:19:00.151Z"
   },
   {
    "duration": 128,
    "start_time": "2024-03-28T18:19:00.268Z"
   },
   {
    "duration": 215,
    "start_time": "2024-03-28T18:19:00.398Z"
   },
   {
    "duration": 0,
    "start_time": "2024-03-28T18:19:00.614Z"
   },
   {
    "duration": 1324,
    "start_time": "2024-03-28T19:03:54.704Z"
   },
   {
    "duration": 339,
    "start_time": "2024-03-28T19:06:51.628Z"
   },
   {
    "duration": 92,
    "start_time": "2024-03-28T19:08:33.963Z"
   },
   {
    "duration": 8,
    "start_time": "2024-03-28T19:08:37.996Z"
   },
   {
    "duration": 3,
    "start_time": "2024-03-28T19:08:41.847Z"
   },
   {
    "duration": 212,
    "start_time": "2024-03-28T19:08:41.851Z"
   },
   {
    "duration": 12,
    "start_time": "2024-03-28T19:08:42.065Z"
   },
   {
    "duration": 21,
    "start_time": "2024-03-28T19:08:42.079Z"
   },
   {
    "duration": 22,
    "start_time": "2024-03-28T19:08:42.102Z"
   },
   {
    "duration": 12,
    "start_time": "2024-03-28T19:08:42.126Z"
   },
   {
    "duration": 8,
    "start_time": "2024-03-28T19:08:42.140Z"
   },
   {
    "duration": 9,
    "start_time": "2024-03-28T19:08:42.150Z"
   },
   {
    "duration": 13,
    "start_time": "2024-03-28T19:08:42.160Z"
   },
   {
    "duration": 4,
    "start_time": "2024-03-28T19:08:42.174Z"
   },
   {
    "duration": 49,
    "start_time": "2024-03-28T19:08:42.181Z"
   },
   {
    "duration": 5,
    "start_time": "2024-03-28T19:08:42.231Z"
   },
   {
    "duration": 8,
    "start_time": "2024-03-28T19:08:42.238Z"
   },
   {
    "duration": 4,
    "start_time": "2024-03-28T19:08:42.248Z"
   },
   {
    "duration": 7,
    "start_time": "2024-03-28T19:08:42.254Z"
   },
   {
    "duration": 5,
    "start_time": "2024-03-28T19:08:42.263Z"
   },
   {
    "duration": 4,
    "start_time": "2024-03-28T19:08:42.269Z"
   },
   {
    "duration": 8,
    "start_time": "2024-03-28T19:08:42.275Z"
   },
   {
    "duration": 35,
    "start_time": "2024-03-28T19:08:42.284Z"
   },
   {
    "duration": 8,
    "start_time": "2024-03-28T19:08:42.320Z"
   },
   {
    "duration": 6,
    "start_time": "2024-03-28T19:08:42.329Z"
   },
   {
    "duration": 5,
    "start_time": "2024-03-28T19:08:42.336Z"
   },
   {
    "duration": 7,
    "start_time": "2024-03-28T19:08:42.343Z"
   },
   {
    "duration": 167,
    "start_time": "2024-03-28T19:08:42.352Z"
   },
   {
    "duration": 12,
    "start_time": "2024-03-28T19:08:42.520Z"
   },
   {
    "duration": 86,
    "start_time": "2024-03-28T19:08:42.533Z"
   },
   {
    "duration": 229,
    "start_time": "2024-03-28T19:08:42.621Z"
   },
   {
    "duration": 7,
    "start_time": "2024-03-28T19:08:42.851Z"
   },
   {
    "duration": 281,
    "start_time": "2024-03-28T19:08:42.861Z"
   },
   {
    "duration": 9,
    "start_time": "2024-03-28T19:08:43.143Z"
   },
   {
    "duration": 4,
    "start_time": "2024-03-28T19:08:43.153Z"
   },
   {
    "duration": 226,
    "start_time": "2024-03-28T19:08:43.159Z"
   },
   {
    "duration": 8,
    "start_time": "2024-03-28T19:08:43.386Z"
   },
   {
    "duration": 35,
    "start_time": "2024-03-28T19:08:43.395Z"
   },
   {
    "duration": 92,
    "start_time": "2024-03-28T19:08:43.432Z"
   },
   {
    "duration": 18,
    "start_time": "2024-03-28T19:08:43.525Z"
   },
   {
    "duration": 239,
    "start_time": "2024-03-28T19:08:43.545Z"
   },
   {
    "duration": 150,
    "start_time": "2024-03-28T19:08:43.786Z"
   },
   {
    "duration": 135,
    "start_time": "2024-03-28T19:08:43.937Z"
   },
   {
    "duration": 145,
    "start_time": "2024-03-28T19:08:44.074Z"
   },
   {
    "duration": 24,
    "start_time": "2024-03-28T19:08:44.221Z"
   },
   {
    "duration": 3,
    "start_time": "2024-03-28T19:08:44.247Z"
   },
   {
    "duration": 826,
    "start_time": "2024-03-28T19:08:44.252Z"
   },
   {
    "duration": 155,
    "start_time": "2024-03-28T19:08:45.080Z"
   },
   {
    "duration": 9,
    "start_time": "2024-03-28T19:08:45.236Z"
   },
   {
    "duration": 11,
    "start_time": "2024-03-28T19:08:45.247Z"
   },
   {
    "duration": 6,
    "start_time": "2024-03-28T19:08:45.259Z"
   },
   {
    "duration": 14,
    "start_time": "2024-03-28T19:08:45.267Z"
   },
   {
    "duration": 297,
    "start_time": "2024-03-28T19:08:45.282Z"
   },
   {
    "duration": 5,
    "start_time": "2024-03-28T19:08:45.580Z"
   },
   {
    "duration": 5,
    "start_time": "2024-03-28T19:09:02.062Z"
   },
   {
    "duration": 5,
    "start_time": "2024-03-28T19:09:11.343Z"
   },
   {
    "duration": 7,
    "start_time": "2024-03-28T19:30:49.568Z"
   },
   {
    "duration": 5,
    "start_time": "2024-03-28T19:31:02.431Z"
   },
   {
    "duration": 5,
    "start_time": "2024-03-28T19:31:31.604Z"
   },
   {
    "duration": 6,
    "start_time": "2024-03-28T19:31:52.207Z"
   },
   {
    "duration": 5,
    "start_time": "2024-03-28T19:34:40.532Z"
   },
   {
    "duration": 5,
    "start_time": "2024-03-28T19:35:12.700Z"
   },
   {
    "duration": 7,
    "start_time": "2024-03-28T19:35:26.638Z"
   },
   {
    "duration": 9,
    "start_time": "2024-03-28T19:35:54.787Z"
   },
   {
    "duration": 6,
    "start_time": "2024-03-28T19:38:18.173Z"
   },
   {
    "duration": 115,
    "start_time": "2024-03-28T19:39:30.733Z"
   },
   {
    "duration": 129,
    "start_time": "2024-03-28T19:41:13.390Z"
   },
   {
    "duration": 109,
    "start_time": "2024-03-28T19:41:25.173Z"
   },
   {
    "duration": 196,
    "start_time": "2024-03-28T19:41:31.301Z"
   },
   {
    "duration": 104,
    "start_time": "2024-03-28T19:41:44.573Z"
   },
   {
    "duration": 131,
    "start_time": "2024-03-28T19:42:55.323Z"
   },
   {
    "duration": 107,
    "start_time": "2024-03-28T19:43:23.488Z"
   },
   {
    "duration": 108,
    "start_time": "2024-03-28T19:45:25.779Z"
   },
   {
    "duration": 136,
    "start_time": "2024-03-28T19:45:32.296Z"
   },
   {
    "duration": 111,
    "start_time": "2024-03-28T19:46:36.368Z"
   },
   {
    "duration": 102,
    "start_time": "2024-03-28T19:47:17.367Z"
   },
   {
    "duration": 127,
    "start_time": "2024-03-28T19:47:21.913Z"
   },
   {
    "duration": 115,
    "start_time": "2024-03-28T19:47:35.911Z"
   },
   {
    "duration": 121,
    "start_time": "2024-03-28T19:48:06.999Z"
   },
   {
    "duration": 187,
    "start_time": "2024-03-28T19:48:19.319Z"
   },
   {
    "duration": 115,
    "start_time": "2024-03-28T19:48:25.852Z"
   },
   {
    "duration": 210,
    "start_time": "2024-03-28T19:48:36.476Z"
   },
   {
    "duration": 170,
    "start_time": "2024-03-28T19:48:42.532Z"
   },
   {
    "duration": 9,
    "start_time": "2024-03-28T19:49:16.128Z"
   },
   {
    "duration": 163,
    "start_time": "2024-03-28T19:49:47.076Z"
   },
   {
    "duration": 152,
    "start_time": "2024-03-28T19:50:09.958Z"
   },
   {
    "duration": 168,
    "start_time": "2024-03-28T19:50:15.374Z"
   },
   {
    "duration": 153,
    "start_time": "2024-03-28T19:55:02.038Z"
   },
   {
    "duration": 8,
    "start_time": "2024-03-28T19:57:11.875Z"
   },
   {
    "duration": 26,
    "start_time": "2024-03-28T19:58:35.157Z"
   },
   {
    "duration": 55,
    "start_time": "2024-03-28T19:59:32.679Z"
   },
   {
    "duration": 5,
    "start_time": "2024-03-28T20:02:32.971Z"
   },
   {
    "duration": 4,
    "start_time": "2024-03-28T20:04:41.509Z"
   },
   {
    "duration": 4,
    "start_time": "2024-03-28T20:07:46.805Z"
   },
   {
    "duration": 55,
    "start_time": "2024-03-28T20:11:11.005Z"
   },
   {
    "duration": 57,
    "start_time": "2024-03-28T20:11:20.011Z"
   },
   {
    "duration": 96,
    "start_time": "2024-03-28T20:15:57.128Z"
   },
   {
    "duration": 112,
    "start_time": "2024-03-28T20:16:08.550Z"
   },
   {
    "duration": 116,
    "start_time": "2024-03-28T20:16:29.697Z"
   },
   {
    "duration": 9,
    "start_time": "2024-03-28T20:17:44.530Z"
   },
   {
    "duration": 14,
    "start_time": "2024-03-28T20:18:26.050Z"
   },
   {
    "duration": 14,
    "start_time": "2024-03-28T20:19:21.753Z"
   },
   {
    "duration": 7,
    "start_time": "2024-03-28T20:19:57.392Z"
   },
   {
    "duration": 8,
    "start_time": "2024-03-28T20:20:28.464Z"
   },
   {
    "duration": 6,
    "start_time": "2024-03-28T20:20:30.739Z"
   },
   {
    "duration": 14,
    "start_time": "2024-03-28T20:21:44.362Z"
   },
   {
    "duration": 4,
    "start_time": "2024-03-28T20:25:21.862Z"
   },
   {
    "duration": 4,
    "start_time": "2024-03-28T20:25:33.151Z"
   },
   {
    "duration": 4,
    "start_time": "2024-03-28T20:25:55.508Z"
   },
   {
    "duration": 3,
    "start_time": "2024-03-28T20:26:07.917Z"
   },
   {
    "duration": 4,
    "start_time": "2024-03-28T20:26:14.364Z"
   },
   {
    "duration": 3,
    "start_time": "2024-03-28T20:26:21.813Z"
   },
   {
    "duration": 23,
    "start_time": "2024-03-28T20:26:32.365Z"
   },
   {
    "duration": 4,
    "start_time": "2024-03-28T20:26:52.740Z"
   },
   {
    "duration": 4,
    "start_time": "2024-03-28T20:26:56.892Z"
   },
   {
    "duration": 24,
    "start_time": "2024-03-28T20:28:57.324Z"
   },
   {
    "duration": 4,
    "start_time": "2024-03-28T20:28:58.830Z"
   },
   {
    "duration": 17,
    "start_time": "2024-03-28T20:29:08.628Z"
   },
   {
    "duration": 4,
    "start_time": "2024-03-28T20:29:10.184Z"
   },
   {
    "duration": 116,
    "start_time": "2024-03-28T20:29:17.530Z"
   },
   {
    "duration": 32,
    "start_time": "2024-03-28T20:33:48.996Z"
   },
   {
    "duration": 14,
    "start_time": "2024-03-28T20:35:13.469Z"
   },
   {
    "duration": 9,
    "start_time": "2024-03-28T20:35:18.249Z"
   },
   {
    "duration": 4,
    "start_time": "2024-03-28T20:35:52.249Z"
   },
   {
    "duration": 24,
    "start_time": "2024-03-28T20:36:07.814Z"
   },
   {
    "duration": 13,
    "start_time": "2024-03-28T20:36:22.672Z"
   },
   {
    "duration": 24,
    "start_time": "2024-03-28T20:36:34.241Z"
   },
   {
    "duration": 1132,
    "start_time": "2024-03-28T20:37:46.822Z"
   },
   {
    "duration": 65,
    "start_time": "2024-03-28T20:37:47.955Z"
   },
   {
    "duration": 14,
    "start_time": "2024-03-28T20:37:48.022Z"
   },
   {
    "duration": 17,
    "start_time": "2024-03-28T20:37:48.038Z"
   },
   {
    "duration": 37,
    "start_time": "2024-03-28T20:37:48.056Z"
   },
   {
    "duration": 34,
    "start_time": "2024-03-28T20:37:48.094Z"
   },
   {
    "duration": 23,
    "start_time": "2024-03-28T20:37:48.129Z"
   },
   {
    "duration": 27,
    "start_time": "2024-03-28T20:37:48.154Z"
   },
   {
    "duration": 28,
    "start_time": "2024-03-28T20:37:48.182Z"
   },
   {
    "duration": 25,
    "start_time": "2024-03-28T20:37:48.213Z"
   },
   {
    "duration": 54,
    "start_time": "2024-03-28T20:37:48.240Z"
   },
   {
    "duration": 27,
    "start_time": "2024-03-28T20:37:48.295Z"
   },
   {
    "duration": 21,
    "start_time": "2024-03-28T20:37:48.323Z"
   },
   {
    "duration": 35,
    "start_time": "2024-03-28T20:37:48.345Z"
   },
   {
    "duration": 42,
    "start_time": "2024-03-28T20:37:48.382Z"
   },
   {
    "duration": 34,
    "start_time": "2024-03-28T20:37:48.425Z"
   },
   {
    "duration": 21,
    "start_time": "2024-03-28T20:37:48.460Z"
   },
   {
    "duration": 37,
    "start_time": "2024-03-28T20:37:48.483Z"
   },
   {
    "duration": 36,
    "start_time": "2024-03-28T20:37:48.522Z"
   },
   {
    "duration": 27,
    "start_time": "2024-03-28T20:37:48.560Z"
   },
   {
    "duration": 31,
    "start_time": "2024-03-28T20:37:48.617Z"
   },
   {
    "duration": 25,
    "start_time": "2024-03-28T20:37:48.650Z"
   },
   {
    "duration": 45,
    "start_time": "2024-03-28T20:37:48.677Z"
   },
   {
    "duration": 9,
    "start_time": "2024-03-28T20:37:48.724Z"
   },
   {
    "duration": 31,
    "start_time": "2024-03-28T20:37:48.735Z"
   },
   {
    "duration": 291,
    "start_time": "2024-03-28T20:37:48.767Z"
   },
   {
    "duration": 59,
    "start_time": "2024-03-28T20:37:49.060Z"
   },
   {
    "duration": 142,
    "start_time": "2024-03-28T20:37:49.123Z"
   },
   {
    "duration": 275,
    "start_time": "2024-03-28T20:37:49.266Z"
   },
   {
    "duration": 7,
    "start_time": "2024-03-28T20:37:49.543Z"
   },
   {
    "duration": 25,
    "start_time": "2024-03-28T20:37:49.552Z"
   },
   {
    "duration": 312,
    "start_time": "2024-03-28T20:37:49.578Z"
   },
   {
    "duration": 8,
    "start_time": "2024-03-28T20:37:49.892Z"
   },
   {
    "duration": 18,
    "start_time": "2024-03-28T20:37:49.901Z"
   },
   {
    "duration": 211,
    "start_time": "2024-03-28T20:37:49.921Z"
   },
   {
    "duration": 17,
    "start_time": "2024-03-28T20:37:50.134Z"
   },
   {
    "duration": 126,
    "start_time": "2024-03-28T20:37:50.154Z"
   },
   {
    "duration": 15,
    "start_time": "2024-03-28T20:37:50.282Z"
   },
   {
    "duration": 105,
    "start_time": "2024-03-28T20:37:50.299Z"
   },
   {
    "duration": 12,
    "start_time": "2024-03-28T20:37:50.406Z"
   },
   {
    "duration": 57,
    "start_time": "2024-03-28T20:37:50.419Z"
   },
   {
    "duration": 39,
    "start_time": "2024-03-28T20:37:50.478Z"
   },
   {
    "duration": 314,
    "start_time": "2024-03-28T20:37:50.519Z"
   },
   {
    "duration": 0,
    "start_time": "2024-03-28T20:37:50.835Z"
   },
   {
    "duration": 0,
    "start_time": "2024-03-28T20:37:50.836Z"
   },
   {
    "duration": 0,
    "start_time": "2024-03-28T20:37:50.837Z"
   },
   {
    "duration": 0,
    "start_time": "2024-03-28T20:37:50.838Z"
   },
   {
    "duration": 0,
    "start_time": "2024-03-28T20:37:50.839Z"
   },
   {
    "duration": 0,
    "start_time": "2024-03-28T20:37:50.840Z"
   },
   {
    "duration": 0,
    "start_time": "2024-03-28T20:37:50.841Z"
   },
   {
    "duration": 0,
    "start_time": "2024-03-28T20:37:50.842Z"
   },
   {
    "duration": 0,
    "start_time": "2024-03-28T20:37:50.843Z"
   },
   {
    "duration": 0,
    "start_time": "2024-03-28T20:37:50.844Z"
   },
   {
    "duration": 0,
    "start_time": "2024-03-28T20:37:50.845Z"
   },
   {
    "duration": 0,
    "start_time": "2024-03-28T20:37:50.846Z"
   },
   {
    "duration": 29,
    "start_time": "2024-03-28T20:38:40.009Z"
   },
   {
    "duration": 12,
    "start_time": "2024-03-28T20:40:38.794Z"
   },
   {
    "duration": 30,
    "start_time": "2024-03-28T20:40:50.455Z"
   },
   {
    "duration": 9,
    "start_time": "2024-03-28T20:42:00.976Z"
   },
   {
    "duration": 6,
    "start_time": "2024-03-28T20:43:22.623Z"
   },
   {
    "duration": 13,
    "start_time": "2024-03-28T20:43:38.267Z"
   },
   {
    "duration": 10,
    "start_time": "2024-03-28T20:43:45.296Z"
   },
   {
    "duration": 13,
    "start_time": "2024-03-28T20:43:50.398Z"
   },
   {
    "duration": 5,
    "start_time": "2024-03-28T20:43:59.774Z"
   },
   {
    "duration": 7,
    "start_time": "2024-03-28T20:44:09.424Z"
   },
   {
    "duration": 5,
    "start_time": "2024-03-28T20:45:29.010Z"
   },
   {
    "duration": 8,
    "start_time": "2024-03-28T20:45:37.031Z"
   },
   {
    "duration": 24,
    "start_time": "2024-03-28T20:47:28.299Z"
   },
   {
    "duration": 4,
    "start_time": "2024-03-28T20:47:30.784Z"
   },
   {
    "duration": 4,
    "start_time": "2024-03-28T20:47:39.423Z"
   },
   {
    "duration": 52,
    "start_time": "2024-03-28T20:47:44.473Z"
   },
   {
    "duration": 5,
    "start_time": "2024-03-28T20:47:52.340Z"
   },
   {
    "duration": 14,
    "start_time": "2024-03-28T20:48:29.386Z"
   },
   {
    "duration": 281,
    "start_time": "2024-03-28T20:49:41.486Z"
   },
   {
    "duration": 145,
    "start_time": "2024-03-28T20:50:11.285Z"
   },
   {
    "duration": 5,
    "start_time": "2024-03-28T20:51:04.743Z"
   },
   {
    "duration": 4,
    "start_time": "2024-03-28T20:51:09.533Z"
   },
   {
    "duration": 4,
    "start_time": "2024-03-28T20:51:15.072Z"
   },
   {
    "duration": 20,
    "start_time": "2024-03-28T20:51:30.529Z"
   },
   {
    "duration": 19,
    "start_time": "2024-03-28T20:51:32.445Z"
   },
   {
    "duration": 4,
    "start_time": "2024-03-28T20:51:33.467Z"
   },
   {
    "duration": 3,
    "start_time": "2024-03-28T20:51:42.986Z"
   },
   {
    "duration": 233,
    "start_time": "2024-03-28T20:51:48.104Z"
   },
   {
    "duration": 251,
    "start_time": "2024-03-28T20:52:29.525Z"
   },
   {
    "duration": 230,
    "start_time": "2024-03-28T20:53:22.244Z"
   },
   {
    "duration": 323,
    "start_time": "2024-03-28T20:53:47.912Z"
   },
   {
    "duration": 140,
    "start_time": "2024-03-28T20:53:58.751Z"
   },
   {
    "duration": 128,
    "start_time": "2024-03-28T20:54:06.735Z"
   },
   {
    "duration": 149,
    "start_time": "2024-03-28T20:54:08.498Z"
   },
   {
    "duration": 143,
    "start_time": "2024-03-28T20:54:17.364Z"
   },
   {
    "duration": 130,
    "start_time": "2024-03-28T20:54:18.600Z"
   },
   {
    "duration": 242,
    "start_time": "2024-03-28T20:56:08.550Z"
   },
   {
    "duration": 379,
    "start_time": "2024-03-28T20:57:20.716Z"
   },
   {
    "duration": 348,
    "start_time": "2024-03-28T20:57:30.404Z"
   },
   {
    "duration": 282,
    "start_time": "2024-03-28T20:57:52.010Z"
   },
   {
    "duration": 204,
    "start_time": "2024-03-28T20:58:23.735Z"
   },
   {
    "duration": 479,
    "start_time": "2024-03-28T20:59:00.014Z"
   },
   {
    "duration": 639,
    "start_time": "2024-03-28T20:59:47.342Z"
   },
   {
    "duration": 521,
    "start_time": "2024-03-28T20:59:56.116Z"
   },
   {
    "duration": 485,
    "start_time": "2024-03-28T21:00:06.705Z"
   },
   {
    "duration": 53,
    "start_time": "2024-03-28T21:00:12.601Z"
   },
   {
    "duration": 293,
    "start_time": "2024-03-28T21:00:20.904Z"
   },
   {
    "duration": 392,
    "start_time": "2024-03-28T21:01:13.070Z"
   },
   {
    "duration": 310,
    "start_time": "2024-03-28T21:01:25.215Z"
   },
   {
    "duration": 287,
    "start_time": "2024-03-28T21:01:40.517Z"
   },
   {
    "duration": 268,
    "start_time": "2024-03-28T21:01:56.907Z"
   },
   {
    "duration": 197,
    "start_time": "2024-03-28T21:04:48.579Z"
   },
   {
    "duration": 339,
    "start_time": "2024-03-28T21:05:11.044Z"
   },
   {
    "duration": 459,
    "start_time": "2024-03-28T21:05:28.282Z"
   },
   {
    "duration": 318,
    "start_time": "2024-03-28T21:06:50.236Z"
   },
   {
    "duration": 424,
    "start_time": "2024-03-28T21:06:55.003Z"
   },
   {
    "duration": 7,
    "start_time": "2024-03-28T21:08:02.733Z"
   },
   {
    "duration": 12,
    "start_time": "2024-03-28T21:08:16.115Z"
   },
   {
    "duration": 6,
    "start_time": "2024-03-28T21:08:37.494Z"
   },
   {
    "duration": 5,
    "start_time": "2024-03-28T21:08:50.796Z"
   },
   {
    "duration": 436,
    "start_time": "2024-03-28T21:12:30.695Z"
   },
   {
    "duration": 565,
    "start_time": "2024-03-28T21:13:21.653Z"
   },
   {
    "duration": 11,
    "start_time": "2024-03-28T21:14:38.923Z"
   },
   {
    "duration": 11,
    "start_time": "2024-03-28T21:14:57.580Z"
   },
   {
    "duration": 10,
    "start_time": "2024-03-28T21:16:40.983Z"
   },
   {
    "duration": 395,
    "start_time": "2024-03-28T21:20:18.001Z"
   },
   {
    "duration": 10,
    "start_time": "2024-03-28T21:20:19.943Z"
   },
   {
    "duration": 394,
    "start_time": "2024-03-28T21:22:41.421Z"
   },
   {
    "duration": 83,
    "start_time": "2024-03-28T21:29:33.359Z"
   },
   {
    "duration": 959,
    "start_time": "2024-03-28T22:03:21.885Z"
   },
   {
    "duration": 203,
    "start_time": "2024-03-28T22:03:22.847Z"
   },
   {
    "duration": 13,
    "start_time": "2024-03-28T22:03:23.052Z"
   },
   {
    "duration": 8,
    "start_time": "2024-03-28T22:03:23.067Z"
   },
   {
    "duration": 10,
    "start_time": "2024-03-28T22:03:23.076Z"
   },
   {
    "duration": 26,
    "start_time": "2024-03-28T22:03:23.088Z"
   },
   {
    "duration": 8,
    "start_time": "2024-03-28T22:03:23.115Z"
   },
   {
    "duration": 8,
    "start_time": "2024-03-28T22:03:23.125Z"
   },
   {
    "duration": 11,
    "start_time": "2024-03-28T22:03:23.134Z"
   },
   {
    "duration": 5,
    "start_time": "2024-03-28T22:03:23.147Z"
   },
   {
    "duration": 17,
    "start_time": "2024-03-28T22:03:23.153Z"
   },
   {
    "duration": 6,
    "start_time": "2024-03-28T22:03:23.172Z"
   },
   {
    "duration": 25,
    "start_time": "2024-03-28T22:03:23.180Z"
   },
   {
    "duration": 5,
    "start_time": "2024-03-28T22:03:23.206Z"
   },
   {
    "duration": 10,
    "start_time": "2024-03-28T22:03:23.213Z"
   },
   {
    "duration": 6,
    "start_time": "2024-03-28T22:03:23.224Z"
   },
   {
    "duration": 3,
    "start_time": "2024-03-28T22:03:23.231Z"
   },
   {
    "duration": 4,
    "start_time": "2024-03-28T22:03:23.236Z"
   },
   {
    "duration": 4,
    "start_time": "2024-03-28T22:03:23.241Z"
   },
   {
    "duration": 3,
    "start_time": "2024-03-28T22:03:23.246Z"
   },
   {
    "duration": 6,
    "start_time": "2024-03-28T22:03:23.250Z"
   },
   {
    "duration": 51,
    "start_time": "2024-03-28T22:03:23.257Z"
   },
   {
    "duration": 7,
    "start_time": "2024-03-28T22:03:23.309Z"
   },
   {
    "duration": 6,
    "start_time": "2024-03-28T22:03:23.317Z"
   },
   {
    "duration": 10,
    "start_time": "2024-03-28T22:03:23.325Z"
   },
   {
    "duration": 9,
    "start_time": "2024-03-28T22:03:23.336Z"
   },
   {
    "duration": 141,
    "start_time": "2024-03-28T22:03:23.346Z"
   },
   {
    "duration": 3,
    "start_time": "2024-03-28T22:03:23.490Z"
   },
   {
    "duration": 75,
    "start_time": "2024-03-28T22:03:23.494Z"
   },
   {
    "duration": 134,
    "start_time": "2024-03-28T22:03:23.570Z"
   },
   {
    "duration": 6,
    "start_time": "2024-03-28T22:03:23.706Z"
   },
   {
    "duration": 70,
    "start_time": "2024-03-28T22:03:23.713Z"
   },
   {
    "duration": 265,
    "start_time": "2024-03-28T22:03:23.784Z"
   },
   {
    "duration": 7,
    "start_time": "2024-03-28T22:03:24.051Z"
   },
   {
    "duration": 6,
    "start_time": "2024-03-28T22:03:24.059Z"
   },
   {
    "duration": 178,
    "start_time": "2024-03-28T22:03:24.066Z"
   },
   {
    "duration": 7,
    "start_time": "2024-03-28T22:03:24.245Z"
   },
   {
    "duration": 105,
    "start_time": "2024-03-28T22:03:24.253Z"
   },
   {
    "duration": 12,
    "start_time": "2024-03-28T22:03:24.359Z"
   },
   {
    "duration": 89,
    "start_time": "2024-03-28T22:03:24.372Z"
   },
   {
    "duration": 4,
    "start_time": "2024-03-28T22:03:24.462Z"
   },
   {
    "duration": 12,
    "start_time": "2024-03-28T22:03:24.467Z"
   },
   {
    "duration": 23,
    "start_time": "2024-03-28T22:03:24.480Z"
   },
   {
    "duration": 15,
    "start_time": "2024-03-28T22:03:24.505Z"
   },
   {
    "duration": 15,
    "start_time": "2024-03-28T22:03:24.522Z"
   },
   {
    "duration": 10,
    "start_time": "2024-03-28T22:03:24.539Z"
   },
   {
    "duration": 197,
    "start_time": "2024-03-28T22:03:24.550Z"
   },
   {
    "duration": 131,
    "start_time": "2024-03-28T22:03:24.749Z"
   },
   {
    "duration": 115,
    "start_time": "2024-03-28T22:03:24.882Z"
   },
   {
    "duration": 118,
    "start_time": "2024-03-28T22:03:25.001Z"
   },
   {
    "duration": 216,
    "start_time": "2024-03-28T22:03:25.120Z"
   },
   {
    "duration": 0,
    "start_time": "2024-03-28T22:03:25.338Z"
   },
   {
    "duration": 0,
    "start_time": "2024-03-28T22:03:25.339Z"
   },
   {
    "duration": 0,
    "start_time": "2024-03-28T22:03:25.339Z"
   },
   {
    "duration": 0,
    "start_time": "2024-03-28T22:03:25.340Z"
   },
   {
    "duration": 0,
    "start_time": "2024-03-28T22:03:25.341Z"
   },
   {
    "duration": 0,
    "start_time": "2024-03-28T22:03:25.343Z"
   },
   {
    "duration": 0,
    "start_time": "2024-03-28T22:03:25.344Z"
   },
   {
    "duration": 0,
    "start_time": "2024-03-28T22:03:25.346Z"
   },
   {
    "duration": 0,
    "start_time": "2024-03-28T22:03:25.347Z"
   },
   {
    "duration": 0,
    "start_time": "2024-03-28T22:03:25.348Z"
   },
   {
    "duration": 0,
    "start_time": "2024-03-28T22:03:25.349Z"
   },
   {
    "duration": 0,
    "start_time": "2024-03-28T22:03:25.350Z"
   },
   {
    "duration": 331,
    "start_time": "2024-03-28T22:13:17.430Z"
   },
   {
    "duration": 118,
    "start_time": "2024-03-28T22:13:39.070Z"
   },
   {
    "duration": 10,
    "start_time": "2024-03-28T22:14:40.804Z"
   },
   {
    "duration": 140,
    "start_time": "2024-03-28T22:14:40.815Z"
   },
   {
    "duration": 0,
    "start_time": "2024-03-28T22:14:40.956Z"
   },
   {
    "duration": 0,
    "start_time": "2024-03-28T22:14:40.957Z"
   },
   {
    "duration": 0,
    "start_time": "2024-03-28T22:14:40.957Z"
   },
   {
    "duration": 0,
    "start_time": "2024-03-28T22:14:40.958Z"
   },
   {
    "duration": 0,
    "start_time": "2024-03-28T22:14:40.959Z"
   },
   {
    "duration": 0,
    "start_time": "2024-03-28T22:14:40.960Z"
   },
   {
    "duration": 0,
    "start_time": "2024-03-28T22:14:40.961Z"
   },
   {
    "duration": 0,
    "start_time": "2024-03-28T22:14:40.962Z"
   },
   {
    "duration": 0,
    "start_time": "2024-03-28T22:14:40.962Z"
   },
   {
    "duration": 0,
    "start_time": "2024-03-28T22:14:40.963Z"
   },
   {
    "duration": 183,
    "start_time": "2024-03-28T22:14:55.791Z"
   },
   {
    "duration": 114,
    "start_time": "2024-03-28T22:14:58.515Z"
   },
   {
    "duration": 8,
    "start_time": "2024-03-28T22:14:58.631Z"
   },
   {
    "duration": 23,
    "start_time": "2024-03-28T22:14:58.640Z"
   },
   {
    "duration": 765,
    "start_time": "2024-03-28T22:14:58.665Z"
   },
   {
    "duration": 129,
    "start_time": "2024-03-28T22:14:59.432Z"
   },
   {
    "duration": 6,
    "start_time": "2024-03-28T22:14:59.562Z"
   },
   {
    "duration": 4,
    "start_time": "2024-03-28T22:14:59.569Z"
   },
   {
    "duration": 3,
    "start_time": "2024-03-28T22:14:59.574Z"
   },
   {
    "duration": 28,
    "start_time": "2024-03-28T22:14:59.578Z"
   },
   {
    "duration": 225,
    "start_time": "2024-03-28T22:14:59.607Z"
   },
   {
    "duration": 4,
    "start_time": "2024-03-28T22:14:59.833Z"
   },
   {
    "duration": 7,
    "start_time": "2024-03-28T22:16:47.832Z"
   },
   {
    "duration": 999,
    "start_time": "2024-03-28T22:22:38.732Z"
   },
   {
    "duration": 64,
    "start_time": "2024-03-28T22:22:39.733Z"
   },
   {
    "duration": 12,
    "start_time": "2024-03-28T22:22:39.800Z"
   },
   {
    "duration": 12,
    "start_time": "2024-03-28T22:22:39.813Z"
   },
   {
    "duration": 11,
    "start_time": "2024-03-28T22:22:39.826Z"
   },
   {
    "duration": 13,
    "start_time": "2024-03-28T22:22:39.838Z"
   },
   {
    "duration": 19,
    "start_time": "2024-03-28T22:22:39.852Z"
   },
   {
    "duration": 19,
    "start_time": "2024-03-28T22:22:39.872Z"
   },
   {
    "duration": 23,
    "start_time": "2024-03-28T22:22:39.893Z"
   },
   {
    "duration": 16,
    "start_time": "2024-03-28T22:22:39.917Z"
   },
   {
    "duration": 20,
    "start_time": "2024-03-28T22:22:39.934Z"
   },
   {
    "duration": 4,
    "start_time": "2024-03-28T22:22:39.955Z"
   },
   {
    "duration": 17,
    "start_time": "2024-03-28T22:22:39.960Z"
   },
   {
    "duration": 7,
    "start_time": "2024-03-28T22:22:39.978Z"
   },
   {
    "duration": 9,
    "start_time": "2024-03-28T22:22:39.986Z"
   },
   {
    "duration": 17,
    "start_time": "2024-03-28T22:22:39.996Z"
   },
   {
    "duration": 6,
    "start_time": "2024-03-28T22:22:40.015Z"
   },
   {
    "duration": 13,
    "start_time": "2024-03-28T22:22:40.022Z"
   },
   {
    "duration": 13,
    "start_time": "2024-03-28T22:22:40.036Z"
   },
   {
    "duration": 8,
    "start_time": "2024-03-28T22:22:40.050Z"
   },
   {
    "duration": 21,
    "start_time": "2024-03-28T22:22:40.059Z"
   },
   {
    "duration": 25,
    "start_time": "2024-03-28T22:22:40.081Z"
   },
   {
    "duration": 17,
    "start_time": "2024-03-28T22:22:40.107Z"
   },
   {
    "duration": 13,
    "start_time": "2024-03-28T22:22:40.125Z"
   },
   {
    "duration": 20,
    "start_time": "2024-03-28T22:22:40.139Z"
   },
   {
    "duration": 8,
    "start_time": "2024-03-28T22:22:40.161Z"
   },
   {
    "duration": 134,
    "start_time": "2024-03-28T22:22:40.173Z"
   },
   {
    "duration": 4,
    "start_time": "2024-03-28T22:22:40.308Z"
   },
   {
    "duration": 102,
    "start_time": "2024-03-28T22:22:40.313Z"
   },
   {
    "duration": 128,
    "start_time": "2024-03-28T22:22:40.417Z"
   },
   {
    "duration": 5,
    "start_time": "2024-03-28T22:22:40.547Z"
   },
   {
    "duration": 7,
    "start_time": "2024-03-28T22:22:40.554Z"
   },
   {
    "duration": 235,
    "start_time": "2024-03-28T22:22:40.562Z"
   },
   {
    "duration": 6,
    "start_time": "2024-03-28T22:22:40.801Z"
   },
   {
    "duration": 4,
    "start_time": "2024-03-28T22:22:40.808Z"
   },
   {
    "duration": 172,
    "start_time": "2024-03-28T22:22:40.813Z"
   },
   {
    "duration": 7,
    "start_time": "2024-03-28T22:22:40.986Z"
   },
   {
    "duration": 98,
    "start_time": "2024-03-28T22:22:40.994Z"
   },
   {
    "duration": 12,
    "start_time": "2024-03-28T22:22:41.101Z"
   },
   {
    "duration": 73,
    "start_time": "2024-03-28T22:22:41.114Z"
   },
   {
    "duration": 15,
    "start_time": "2024-03-28T22:22:41.188Z"
   },
   {
    "duration": 13,
    "start_time": "2024-03-28T22:22:41.204Z"
   },
   {
    "duration": 12,
    "start_time": "2024-03-28T22:22:41.218Z"
   },
   {
    "duration": 15,
    "start_time": "2024-03-28T22:22:41.231Z"
   },
   {
    "duration": 15,
    "start_time": "2024-03-28T22:22:41.247Z"
   },
   {
    "duration": 3,
    "start_time": "2024-03-28T22:22:41.263Z"
   },
   {
    "duration": 216,
    "start_time": "2024-03-28T22:22:41.267Z"
   },
   {
    "duration": 132,
    "start_time": "2024-03-28T22:22:41.484Z"
   },
   {
    "duration": 118,
    "start_time": "2024-03-28T22:22:41.617Z"
   },
   {
    "duration": 114,
    "start_time": "2024-03-28T22:22:41.736Z"
   },
   {
    "duration": 126,
    "start_time": "2024-03-28T22:22:41.851Z"
   },
   {
    "duration": 9,
    "start_time": "2024-03-28T22:22:41.978Z"
   },
   {
    "duration": 129,
    "start_time": "2024-03-28T22:22:41.988Z"
   },
   {
    "duration": 9,
    "start_time": "2024-03-28T22:22:42.118Z"
   },
   {
    "duration": 23,
    "start_time": "2024-03-28T22:22:42.128Z"
   },
   {
    "duration": 824,
    "start_time": "2024-03-28T22:22:42.152Z"
   },
   {
    "duration": 139,
    "start_time": "2024-03-28T22:22:42.978Z"
   },
   {
    "duration": 7,
    "start_time": "2024-03-28T22:22:43.118Z"
   },
   {
    "duration": 4,
    "start_time": "2024-03-28T22:22:43.127Z"
   },
   {
    "duration": 6,
    "start_time": "2024-03-28T22:22:43.132Z"
   },
   {
    "duration": 7,
    "start_time": "2024-03-28T22:22:43.140Z"
   },
   {
    "duration": 282,
    "start_time": "2024-03-28T22:22:43.148Z"
   },
   {
    "duration": 4,
    "start_time": "2024-03-28T22:22:43.431Z"
   },
   {
    "duration": 983,
    "start_time": "2024-03-28T22:24:31.651Z"
   },
   {
    "duration": 64,
    "start_time": "2024-03-28T22:24:32.637Z"
   },
   {
    "duration": 16,
    "start_time": "2024-03-28T22:24:32.702Z"
   },
   {
    "duration": 10,
    "start_time": "2024-03-28T22:24:32.720Z"
   },
   {
    "duration": 9,
    "start_time": "2024-03-28T22:24:32.731Z"
   },
   {
    "duration": 10,
    "start_time": "2024-03-28T22:24:32.741Z"
   },
   {
    "duration": 5,
    "start_time": "2024-03-28T22:24:32.752Z"
   },
   {
    "duration": 9,
    "start_time": "2024-03-28T22:24:32.758Z"
   },
   {
    "duration": 33,
    "start_time": "2024-03-28T22:24:32.769Z"
   },
   {
    "duration": 4,
    "start_time": "2024-03-28T22:24:32.804Z"
   },
   {
    "duration": 11,
    "start_time": "2024-03-28T22:24:32.809Z"
   },
   {
    "duration": 17,
    "start_time": "2024-03-28T22:24:32.821Z"
   },
   {
    "duration": 10,
    "start_time": "2024-03-28T22:24:32.839Z"
   },
   {
    "duration": 10,
    "start_time": "2024-03-28T22:24:32.850Z"
   },
   {
    "duration": 8,
    "start_time": "2024-03-28T22:24:32.862Z"
   },
   {
    "duration": 5,
    "start_time": "2024-03-28T22:24:32.871Z"
   },
   {
    "duration": 3,
    "start_time": "2024-03-28T22:24:32.877Z"
   },
   {
    "duration": 5,
    "start_time": "2024-03-28T22:24:32.881Z"
   },
   {
    "duration": 3,
    "start_time": "2024-03-28T22:24:32.901Z"
   },
   {
    "duration": 7,
    "start_time": "2024-03-28T22:24:32.905Z"
   },
   {
    "duration": 10,
    "start_time": "2024-03-28T22:24:32.913Z"
   },
   {
    "duration": 19,
    "start_time": "2024-03-28T22:24:32.924Z"
   },
   {
    "duration": 14,
    "start_time": "2024-03-28T22:24:32.944Z"
   },
   {
    "duration": 7,
    "start_time": "2024-03-28T22:24:32.959Z"
   },
   {
    "duration": 5,
    "start_time": "2024-03-28T22:24:32.968Z"
   },
   {
    "duration": 11,
    "start_time": "2024-03-28T22:24:32.974Z"
   },
   {
    "duration": 132,
    "start_time": "2024-03-28T22:24:32.986Z"
   },
   {
    "duration": 3,
    "start_time": "2024-03-28T22:24:33.122Z"
   },
   {
    "duration": 79,
    "start_time": "2024-03-28T22:24:33.126Z"
   },
   {
    "duration": 139,
    "start_time": "2024-03-28T22:24:33.206Z"
   },
   {
    "duration": 7,
    "start_time": "2024-03-28T22:24:33.346Z"
   },
   {
    "duration": 8,
    "start_time": "2024-03-28T22:24:33.354Z"
   },
   {
    "duration": 234,
    "start_time": "2024-03-28T22:24:33.363Z"
   },
   {
    "duration": 6,
    "start_time": "2024-03-28T22:24:33.601Z"
   },
   {
    "duration": 4,
    "start_time": "2024-03-28T22:24:33.608Z"
   },
   {
    "duration": 190,
    "start_time": "2024-03-28T22:24:33.614Z"
   },
   {
    "duration": 7,
    "start_time": "2024-03-28T22:24:33.805Z"
   },
   {
    "duration": 98,
    "start_time": "2024-03-28T22:24:33.813Z"
   },
   {
    "duration": 13,
    "start_time": "2024-03-28T22:24:33.912Z"
   },
   {
    "duration": 101,
    "start_time": "2024-03-28T22:24:33.926Z"
   },
   {
    "duration": 3,
    "start_time": "2024-03-28T22:24:34.029Z"
   },
   {
    "duration": 7,
    "start_time": "2024-03-28T22:24:34.033Z"
   },
   {
    "duration": 12,
    "start_time": "2024-03-28T22:24:34.041Z"
   },
   {
    "duration": 15,
    "start_time": "2024-03-28T22:24:34.054Z"
   },
   {
    "duration": 32,
    "start_time": "2024-03-28T22:24:34.070Z"
   },
   {
    "duration": 3,
    "start_time": "2024-03-28T22:24:34.104Z"
   },
   {
    "duration": 201,
    "start_time": "2024-03-28T22:24:34.108Z"
   },
   {
    "duration": 127,
    "start_time": "2024-03-28T22:24:34.310Z"
   },
   {
    "duration": 121,
    "start_time": "2024-03-28T22:24:34.439Z"
   },
   {
    "duration": 112,
    "start_time": "2024-03-28T22:24:34.561Z"
   },
   {
    "duration": 213,
    "start_time": "2024-03-28T22:24:34.674Z"
   },
   {
    "duration": 0,
    "start_time": "2024-03-28T22:24:34.888Z"
   },
   {
    "duration": 0,
    "start_time": "2024-03-28T22:24:34.889Z"
   },
   {
    "duration": 0,
    "start_time": "2024-03-28T22:24:34.890Z"
   },
   {
    "duration": 0,
    "start_time": "2024-03-28T22:24:34.891Z"
   },
   {
    "duration": 0,
    "start_time": "2024-03-28T22:24:34.901Z"
   },
   {
    "duration": 0,
    "start_time": "2024-03-28T22:24:34.902Z"
   },
   {
    "duration": 0,
    "start_time": "2024-03-28T22:24:34.903Z"
   },
   {
    "duration": 0,
    "start_time": "2024-03-28T22:24:34.904Z"
   },
   {
    "duration": 0,
    "start_time": "2024-03-28T22:24:34.905Z"
   },
   {
    "duration": 0,
    "start_time": "2024-03-28T22:24:34.905Z"
   },
   {
    "duration": 0,
    "start_time": "2024-03-28T22:24:34.906Z"
   },
   {
    "duration": 0,
    "start_time": "2024-03-28T22:24:34.907Z"
   },
   {
    "duration": 58,
    "start_time": "2024-03-29T05:37:50.283Z"
   },
   {
    "duration": 1453,
    "start_time": "2024-03-29T05:37:55.600Z"
   },
   {
    "duration": 210,
    "start_time": "2024-03-29T05:37:57.056Z"
   },
   {
    "duration": 18,
    "start_time": "2024-03-29T05:37:57.267Z"
   },
   {
    "duration": 11,
    "start_time": "2024-03-29T05:37:57.287Z"
   },
   {
    "duration": 11,
    "start_time": "2024-03-29T05:37:57.300Z"
   },
   {
    "duration": 17,
    "start_time": "2024-03-29T05:37:57.312Z"
   },
   {
    "duration": 9,
    "start_time": "2024-03-29T05:37:57.332Z"
   },
   {
    "duration": 10,
    "start_time": "2024-03-29T05:37:57.343Z"
   },
   {
    "duration": 10,
    "start_time": "2024-03-29T05:37:57.354Z"
   },
   {
    "duration": 5,
    "start_time": "2024-03-29T05:37:57.367Z"
   },
   {
    "duration": 46,
    "start_time": "2024-03-29T05:37:57.374Z"
   },
   {
    "duration": 9,
    "start_time": "2024-03-29T05:37:57.422Z"
   },
   {
    "duration": 7,
    "start_time": "2024-03-29T05:37:57.433Z"
   },
   {
    "duration": 5,
    "start_time": "2024-03-29T05:37:57.441Z"
   },
   {
    "duration": 10,
    "start_time": "2024-03-29T05:37:57.448Z"
   },
   {
    "duration": 17,
    "start_time": "2024-03-29T05:37:57.460Z"
   },
   {
    "duration": 5,
    "start_time": "2024-03-29T05:37:57.478Z"
   },
   {
    "duration": 35,
    "start_time": "2024-03-29T05:37:57.485Z"
   },
   {
    "duration": 7,
    "start_time": "2024-03-29T05:37:57.522Z"
   },
   {
    "duration": 5,
    "start_time": "2024-03-29T05:37:57.531Z"
   },
   {
    "duration": 5,
    "start_time": "2024-03-29T05:37:57.538Z"
   },
   {
    "duration": 11,
    "start_time": "2024-03-29T05:37:57.545Z"
   },
   {
    "duration": 13,
    "start_time": "2024-03-29T05:37:57.558Z"
   },
   {
    "duration": 44,
    "start_time": "2024-03-29T05:37:57.572Z"
   },
   {
    "duration": 8,
    "start_time": "2024-03-29T05:37:57.618Z"
   },
   {
    "duration": 9,
    "start_time": "2024-03-29T05:37:57.628Z"
   },
   {
    "duration": 190,
    "start_time": "2024-03-29T05:37:57.639Z"
   },
   {
    "duration": 4,
    "start_time": "2024-03-29T05:37:57.833Z"
   },
   {
    "duration": 101,
    "start_time": "2024-03-29T05:37:57.839Z"
   },
   {
    "duration": 201,
    "start_time": "2024-03-29T05:37:57.942Z"
   },
   {
    "duration": 8,
    "start_time": "2024-03-29T05:37:58.144Z"
   },
   {
    "duration": 11,
    "start_time": "2024-03-29T05:37:58.154Z"
   },
   {
    "duration": 483,
    "start_time": "2024-03-29T05:37:58.167Z"
   },
   {
    "duration": 68,
    "start_time": "2024-03-29T05:37:58.651Z"
   },
   {
    "duration": 10,
    "start_time": "2024-03-29T05:37:58.721Z"
   },
   {
    "duration": 522,
    "start_time": "2024-03-29T05:37:58.733Z"
   },
   {
    "duration": 8,
    "start_time": "2024-03-29T05:37:59.256Z"
   },
   {
    "duration": 421,
    "start_time": "2024-03-29T05:37:59.316Z"
   },
   {
    "duration": 81,
    "start_time": "2024-03-29T05:37:59.739Z"
   },
   {
    "duration": 28,
    "start_time": "2024-03-29T05:37:59.822Z"
   },
   {
    "duration": 4,
    "start_time": "2024-03-29T05:37:59.851Z"
   },
   {
    "duration": 64,
    "start_time": "2024-03-29T05:37:59.857Z"
   },
   {
    "duration": 19,
    "start_time": "2024-03-29T05:37:59.923Z"
   },
   {
    "duration": 73,
    "start_time": "2024-03-29T05:37:59.943Z"
   },
   {
    "duration": 25,
    "start_time": "2024-03-29T05:38:00.019Z"
   },
   {
    "duration": 5,
    "start_time": "2024-03-29T05:38:00.046Z"
   },
   {
    "duration": 328,
    "start_time": "2024-03-29T05:38:00.053Z"
   },
   {
    "duration": 181,
    "start_time": "2024-03-29T05:38:00.383Z"
   },
   {
    "duration": 166,
    "start_time": "2024-03-29T05:38:00.566Z"
   },
   {
    "duration": 164,
    "start_time": "2024-03-29T05:38:00.734Z"
   },
   {
    "duration": 252,
    "start_time": "2024-03-29T05:38:00.900Z"
   },
   {
    "duration": 0,
    "start_time": "2024-03-29T05:38:01.153Z"
   },
   {
    "duration": 0,
    "start_time": "2024-03-29T05:38:01.155Z"
   },
   {
    "duration": 0,
    "start_time": "2024-03-29T05:38:01.156Z"
   },
   {
    "duration": 0,
    "start_time": "2024-03-29T05:38:01.157Z"
   },
   {
    "duration": 0,
    "start_time": "2024-03-29T05:38:01.159Z"
   },
   {
    "duration": 0,
    "start_time": "2024-03-29T05:38:01.160Z"
   },
   {
    "duration": 0,
    "start_time": "2024-03-29T05:38:01.161Z"
   },
   {
    "duration": 0,
    "start_time": "2024-03-29T05:38:01.163Z"
   },
   {
    "duration": 0,
    "start_time": "2024-03-29T05:38:01.164Z"
   },
   {
    "duration": 0,
    "start_time": "2024-03-29T05:38:01.165Z"
   },
   {
    "duration": 0,
    "start_time": "2024-03-29T05:38:01.166Z"
   },
   {
    "duration": 1,
    "start_time": "2024-03-29T05:38:01.167Z"
   },
   {
    "duration": 478,
    "start_time": "2024-03-29T05:40:39.056Z"
   },
   {
    "duration": 554,
    "start_time": "2024-03-29T05:40:55.094Z"
   },
   {
    "duration": 10,
    "start_time": "2024-03-29T05:42:11.367Z"
   },
   {
    "duration": 5,
    "start_time": "2024-03-29T05:43:11.866Z"
   },
   {
    "duration": 5,
    "start_time": "2024-03-29T05:43:51.267Z"
   },
   {
    "duration": 4,
    "start_time": "2024-03-29T05:45:37.005Z"
   },
   {
    "duration": 74,
    "start_time": "2024-03-29T05:45:37.011Z"
   },
   {
    "duration": 13,
    "start_time": "2024-03-29T05:45:37.086Z"
   },
   {
    "duration": 16,
    "start_time": "2024-03-29T05:45:37.100Z"
   },
   {
    "duration": 16,
    "start_time": "2024-03-29T05:45:37.120Z"
   },
   {
    "duration": 10,
    "start_time": "2024-03-29T05:45:37.138Z"
   },
   {
    "duration": 8,
    "start_time": "2024-03-29T05:45:37.150Z"
   },
   {
    "duration": 10,
    "start_time": "2024-03-29T05:45:37.159Z"
   },
   {
    "duration": 10,
    "start_time": "2024-03-29T05:45:37.170Z"
   },
   {
    "duration": 38,
    "start_time": "2024-03-29T05:45:37.182Z"
   },
   {
    "duration": 22,
    "start_time": "2024-03-29T05:45:37.225Z"
   },
   {
    "duration": 16,
    "start_time": "2024-03-29T05:45:37.248Z"
   },
   {
    "duration": 12,
    "start_time": "2024-03-29T05:45:37.266Z"
   },
   {
    "duration": 6,
    "start_time": "2024-03-29T05:45:37.279Z"
   },
   {
    "duration": 29,
    "start_time": "2024-03-29T05:45:37.286Z"
   },
   {
    "duration": 12,
    "start_time": "2024-03-29T05:45:37.318Z"
   },
   {
    "duration": 7,
    "start_time": "2024-03-29T05:45:37.332Z"
   },
   {
    "duration": 9,
    "start_time": "2024-03-29T05:45:37.340Z"
   },
   {
    "duration": 12,
    "start_time": "2024-03-29T05:45:37.351Z"
   },
   {
    "duration": 16,
    "start_time": "2024-03-29T05:45:37.364Z"
   },
   {
    "duration": 11,
    "start_time": "2024-03-29T05:45:37.382Z"
   },
   {
    "duration": 27,
    "start_time": "2024-03-29T05:45:37.395Z"
   },
   {
    "duration": 18,
    "start_time": "2024-03-29T05:45:37.425Z"
   },
   {
    "duration": 7,
    "start_time": "2024-03-29T05:45:37.445Z"
   },
   {
    "duration": 7,
    "start_time": "2024-03-29T05:45:37.453Z"
   },
   {
    "duration": 8,
    "start_time": "2024-03-29T05:45:37.461Z"
   },
   {
    "duration": 206,
    "start_time": "2024-03-29T05:45:37.470Z"
   },
   {
    "duration": 4,
    "start_time": "2024-03-29T05:45:37.678Z"
   },
   {
    "duration": 114,
    "start_time": "2024-03-29T05:45:37.686Z"
   },
   {
    "duration": 192,
    "start_time": "2024-03-29T05:45:37.801Z"
   },
   {
    "duration": 8,
    "start_time": "2024-03-29T05:45:37.994Z"
   },
   {
    "duration": 12,
    "start_time": "2024-03-29T05:45:38.015Z"
   },
   {
    "duration": 344,
    "start_time": "2024-03-29T05:45:38.029Z"
   },
   {
    "duration": 8,
    "start_time": "2024-03-29T05:45:38.374Z"
   },
   {
    "duration": 5,
    "start_time": "2024-03-29T05:45:38.384Z"
   },
   {
    "duration": 245,
    "start_time": "2024-03-29T05:45:38.390Z"
   },
   {
    "duration": 8,
    "start_time": "2024-03-29T05:45:38.636Z"
   },
   {
    "duration": 137,
    "start_time": "2024-03-29T05:45:38.645Z"
   },
   {
    "duration": 14,
    "start_time": "2024-03-29T05:45:38.784Z"
   },
   {
    "duration": 43,
    "start_time": "2024-03-29T05:45:38.800Z"
   },
   {
    "duration": 4,
    "start_time": "2024-03-29T05:45:38.845Z"
   },
   {
    "duration": 10,
    "start_time": "2024-03-29T05:45:38.850Z"
   },
   {
    "duration": 14,
    "start_time": "2024-03-29T05:45:38.862Z"
   },
   {
    "duration": 49,
    "start_time": "2024-03-29T05:45:38.877Z"
   },
   {
    "duration": 20,
    "start_time": "2024-03-29T05:45:38.928Z"
   },
   {
    "duration": 5,
    "start_time": "2024-03-29T05:45:38.950Z"
   },
   {
    "duration": 400,
    "start_time": "2024-03-29T05:45:38.956Z"
   },
   {
    "duration": 179,
    "start_time": "2024-03-29T05:45:39.358Z"
   },
   {
    "duration": 155,
    "start_time": "2024-03-29T05:45:39.538Z"
   },
   {
    "duration": 155,
    "start_time": "2024-03-29T05:45:39.694Z"
   },
   {
    "duration": 482,
    "start_time": "2024-03-29T05:45:39.851Z"
   },
   {
    "duration": 13,
    "start_time": "2024-03-29T05:45:40.335Z"
   },
   {
    "duration": 898,
    "start_time": "2024-03-29T05:45:40.350Z"
   },
   {
    "duration": 72,
    "start_time": "2024-03-29T05:45:41.250Z"
   },
   {
    "duration": 29,
    "start_time": "2024-03-29T05:45:41.325Z"
   },
   {
    "duration": 1489,
    "start_time": "2024-03-29T05:45:41.356Z"
   },
   {
    "duration": 196,
    "start_time": "2024-03-29T05:45:42.847Z"
   },
   {
    "duration": 8,
    "start_time": "2024-03-29T05:45:43.044Z"
   },
   {
    "duration": 5,
    "start_time": "2024-03-29T05:45:43.054Z"
   },
   {
    "duration": 4,
    "start_time": "2024-03-29T05:45:43.061Z"
   },
   {
    "duration": 11,
    "start_time": "2024-03-29T05:45:43.067Z"
   },
   {
    "duration": 352,
    "start_time": "2024-03-29T05:45:43.079Z"
   },
   {
    "duration": 6,
    "start_time": "2024-03-29T05:45:43.432Z"
   },
   {
    "duration": 1278,
    "start_time": "2024-03-29T05:57:15.391Z"
   },
   {
    "duration": 77,
    "start_time": "2024-03-29T05:57:16.671Z"
   },
   {
    "duration": 15,
    "start_time": "2024-03-29T05:57:16.750Z"
   },
   {
    "duration": 11,
    "start_time": "2024-03-29T05:57:16.767Z"
   },
   {
    "duration": 18,
    "start_time": "2024-03-29T05:57:16.779Z"
   },
   {
    "duration": 21,
    "start_time": "2024-03-29T05:57:16.799Z"
   },
   {
    "duration": 11,
    "start_time": "2024-03-29T05:57:16.823Z"
   },
   {
    "duration": 13,
    "start_time": "2024-03-29T05:57:16.835Z"
   },
   {
    "duration": 15,
    "start_time": "2024-03-29T05:57:16.850Z"
   },
   {
    "duration": 12,
    "start_time": "2024-03-29T05:57:16.868Z"
   },
   {
    "duration": 37,
    "start_time": "2024-03-29T05:57:16.882Z"
   },
   {
    "duration": 8,
    "start_time": "2024-03-29T05:57:16.921Z"
   },
   {
    "duration": 8,
    "start_time": "2024-03-29T05:57:16.931Z"
   },
   {
    "duration": 5,
    "start_time": "2024-03-29T05:57:16.941Z"
   },
   {
    "duration": 8,
    "start_time": "2024-03-29T05:57:16.948Z"
   },
   {
    "duration": 8,
    "start_time": "2024-03-29T05:57:16.958Z"
   },
   {
    "duration": 5,
    "start_time": "2024-03-29T05:57:16.967Z"
   },
   {
    "duration": 6,
    "start_time": "2024-03-29T05:57:16.973Z"
   },
   {
    "duration": 6,
    "start_time": "2024-03-29T05:57:17.015Z"
   },
   {
    "duration": 5,
    "start_time": "2024-03-29T05:57:17.026Z"
   },
   {
    "duration": 6,
    "start_time": "2024-03-29T05:57:17.033Z"
   },
   {
    "duration": 10,
    "start_time": "2024-03-29T05:57:17.040Z"
   },
   {
    "duration": 8,
    "start_time": "2024-03-29T05:57:17.052Z"
   },
   {
    "duration": 7,
    "start_time": "2024-03-29T05:57:17.061Z"
   },
   {
    "duration": 47,
    "start_time": "2024-03-29T05:57:17.069Z"
   },
   {
    "duration": 13,
    "start_time": "2024-03-29T05:57:17.118Z"
   },
   {
    "duration": 222,
    "start_time": "2024-03-29T05:57:17.134Z"
   },
   {
    "duration": 5,
    "start_time": "2024-03-29T05:57:17.361Z"
   },
   {
    "duration": 103,
    "start_time": "2024-03-29T05:57:17.368Z"
   },
   {
    "duration": 204,
    "start_time": "2024-03-29T05:57:17.473Z"
   },
   {
    "duration": 9,
    "start_time": "2024-03-29T05:57:17.679Z"
   },
   {
    "duration": 25,
    "start_time": "2024-03-29T05:57:17.690Z"
   },
   {
    "duration": 343,
    "start_time": "2024-03-29T05:57:17.717Z"
   },
   {
    "duration": 8,
    "start_time": "2024-03-29T05:57:18.062Z"
   },
   {
    "duration": 6,
    "start_time": "2024-03-29T05:57:18.072Z"
   },
   {
    "duration": 266,
    "start_time": "2024-03-29T05:57:18.080Z"
   },
   {
    "duration": 9,
    "start_time": "2024-03-29T05:57:18.348Z"
   },
   {
    "duration": 141,
    "start_time": "2024-03-29T05:57:18.358Z"
   },
   {
    "duration": 33,
    "start_time": "2024-03-29T05:57:18.502Z"
   },
   {
    "duration": 112,
    "start_time": "2024-03-29T05:57:18.537Z"
   },
   {
    "duration": 5,
    "start_time": "2024-03-29T05:57:18.651Z"
   },
   {
    "duration": 10,
    "start_time": "2024-03-29T05:57:18.657Z"
   },
   {
    "duration": 12,
    "start_time": "2024-03-29T05:57:18.668Z"
   },
   {
    "duration": 52,
    "start_time": "2024-03-29T05:57:18.681Z"
   },
   {
    "duration": 19,
    "start_time": "2024-03-29T05:57:18.735Z"
   },
   {
    "duration": 4,
    "start_time": "2024-03-29T05:57:18.755Z"
   },
   {
    "duration": 288,
    "start_time": "2024-03-29T05:57:18.761Z"
   },
   {
    "duration": 179,
    "start_time": "2024-03-29T05:57:19.050Z"
   },
   {
    "duration": 156,
    "start_time": "2024-03-29T05:57:19.231Z"
   },
   {
    "duration": 157,
    "start_time": "2024-03-29T05:57:19.388Z"
   },
   {
    "duration": 493,
    "start_time": "2024-03-29T05:57:19.547Z"
   },
   {
    "duration": 11,
    "start_time": "2024-03-29T05:57:20.041Z"
   },
   {
    "duration": 597,
    "start_time": "2024-03-29T05:57:20.054Z"
   },
   {
    "duration": 11,
    "start_time": "2024-03-29T05:57:20.652Z"
   },
   {
    "duration": 27,
    "start_time": "2024-03-29T05:57:20.665Z"
   },
   {
    "duration": 973,
    "start_time": "2024-03-29T05:57:20.693Z"
   },
   {
    "duration": 171,
    "start_time": "2024-03-29T05:57:21.668Z"
   },
   {
    "duration": 11,
    "start_time": "2024-03-29T05:57:21.841Z"
   },
   {
    "duration": 6,
    "start_time": "2024-03-29T05:57:21.854Z"
   },
   {
    "duration": 7,
    "start_time": "2024-03-29T05:57:21.861Z"
   },
   {
    "duration": 13,
    "start_time": "2024-03-29T05:57:21.869Z"
   },
   {
    "duration": 315,
    "start_time": "2024-03-29T05:57:21.884Z"
   },
   {
    "duration": 16,
    "start_time": "2024-03-29T05:57:22.201Z"
   },
   {
    "duration": 6,
    "start_time": "2024-03-29T06:05:39.230Z"
   },
   {
    "duration": 1164,
    "start_time": "2024-03-29T09:43:51.769Z"
   },
   {
    "duration": 69,
    "start_time": "2024-03-29T09:43:52.935Z"
   },
   {
    "duration": 15,
    "start_time": "2024-03-29T09:43:53.005Z"
   },
   {
    "duration": 12,
    "start_time": "2024-03-29T09:43:53.022Z"
   },
   {
    "duration": 21,
    "start_time": "2024-03-29T09:43:53.035Z"
   },
   {
    "duration": 13,
    "start_time": "2024-03-29T09:43:53.058Z"
   },
   {
    "duration": 6,
    "start_time": "2024-03-29T09:43:53.072Z"
   },
   {
    "duration": 13,
    "start_time": "2024-03-29T09:43:53.079Z"
   },
   {
    "duration": 11,
    "start_time": "2024-03-29T09:43:53.094Z"
   },
   {
    "duration": 5,
    "start_time": "2024-03-29T09:43:53.109Z"
   },
   {
    "duration": 16,
    "start_time": "2024-03-29T09:43:53.115Z"
   },
   {
    "duration": 34,
    "start_time": "2024-03-29T09:43:53.133Z"
   },
   {
    "duration": 13,
    "start_time": "2024-03-29T09:43:53.168Z"
   },
   {
    "duration": 10,
    "start_time": "2024-03-29T09:43:53.182Z"
   },
   {
    "duration": 15,
    "start_time": "2024-03-29T09:43:53.193Z"
   },
   {
    "duration": 6,
    "start_time": "2024-03-29T09:43:53.209Z"
   },
   {
    "duration": 8,
    "start_time": "2024-03-29T09:43:53.216Z"
   },
   {
    "duration": 11,
    "start_time": "2024-03-29T09:43:53.226Z"
   },
   {
    "duration": 28,
    "start_time": "2024-03-29T09:43:53.238Z"
   },
   {
    "duration": 4,
    "start_time": "2024-03-29T09:43:53.268Z"
   },
   {
    "duration": 7,
    "start_time": "2024-03-29T09:43:53.274Z"
   },
   {
    "duration": 11,
    "start_time": "2024-03-29T09:43:53.282Z"
   },
   {
    "duration": 9,
    "start_time": "2024-03-29T09:43:53.295Z"
   },
   {
    "duration": 6,
    "start_time": "2024-03-29T09:43:53.305Z"
   },
   {
    "duration": 11,
    "start_time": "2024-03-29T09:43:53.312Z"
   },
   {
    "duration": 47,
    "start_time": "2024-03-29T09:43:53.324Z"
   },
   {
    "duration": 161,
    "start_time": "2024-03-29T09:43:53.372Z"
   },
   {
    "duration": 4,
    "start_time": "2024-03-29T09:43:53.536Z"
   },
   {
    "duration": 91,
    "start_time": "2024-03-29T09:43:53.542Z"
   },
   {
    "duration": 179,
    "start_time": "2024-03-29T09:43:53.634Z"
   },
   {
    "duration": 7,
    "start_time": "2024-03-29T09:43:53.815Z"
   },
   {
    "duration": 12,
    "start_time": "2024-03-29T09:43:53.824Z"
   },
   {
    "duration": 336,
    "start_time": "2024-03-29T09:43:53.838Z"
   },
   {
    "duration": 9,
    "start_time": "2024-03-29T09:43:54.175Z"
   },
   {
    "duration": 10,
    "start_time": "2024-03-29T09:43:54.185Z"
   },
   {
    "duration": 221,
    "start_time": "2024-03-29T09:43:54.196Z"
   },
   {
    "duration": 9,
    "start_time": "2024-03-29T09:43:54.419Z"
   },
   {
    "duration": 132,
    "start_time": "2024-03-29T09:43:54.429Z"
   },
   {
    "duration": 15,
    "start_time": "2024-03-29T09:43:54.566Z"
   },
   {
    "duration": 140,
    "start_time": "2024-03-29T09:43:54.582Z"
   },
   {
    "duration": 5,
    "start_time": "2024-03-29T09:43:54.724Z"
   },
   {
    "duration": 28,
    "start_time": "2024-03-29T09:43:54.730Z"
   },
   {
    "duration": 19,
    "start_time": "2024-03-29T09:43:54.764Z"
   },
   {
    "duration": 21,
    "start_time": "2024-03-29T09:43:54.785Z"
   },
   {
    "duration": 17,
    "start_time": "2024-03-29T09:43:54.808Z"
   },
   {
    "duration": 17,
    "start_time": "2024-03-29T09:43:54.827Z"
   },
   {
    "duration": 269,
    "start_time": "2024-03-29T09:43:54.846Z"
   },
   {
    "duration": 174,
    "start_time": "2024-03-29T09:43:55.116Z"
   },
   {
    "duration": 153,
    "start_time": "2024-03-29T09:43:55.292Z"
   },
   {
    "duration": 157,
    "start_time": "2024-03-29T09:43:55.447Z"
   },
   {
    "duration": 464,
    "start_time": "2024-03-29T09:43:55.606Z"
   },
   {
    "duration": 11,
    "start_time": "2024-03-29T09:43:56.072Z"
   },
   {
    "duration": 521,
    "start_time": "2024-03-29T09:43:56.084Z"
   },
   {
    "duration": 11,
    "start_time": "2024-03-29T09:43:56.606Z"
   },
   {
    "duration": 54,
    "start_time": "2024-03-29T09:43:56.618Z"
   },
   {
    "duration": 866,
    "start_time": "2024-03-29T09:43:56.674Z"
   },
   {
    "duration": 154,
    "start_time": "2024-03-29T09:43:57.541Z"
   },
   {
    "duration": 8,
    "start_time": "2024-03-29T09:43:57.696Z"
   },
   {
    "duration": 5,
    "start_time": "2024-03-29T09:43:57.705Z"
   },
   {
    "duration": 6,
    "start_time": "2024-03-29T09:43:57.712Z"
   },
   {
    "duration": 11,
    "start_time": "2024-03-29T09:43:57.720Z"
   },
   {
    "duration": 306,
    "start_time": "2024-03-29T09:43:57.733Z"
   },
   {
    "duration": 6,
    "start_time": "2024-03-29T09:43:58.041Z"
   },
   {
    "duration": 1225,
    "start_time": "2024-03-29T09:45:54.541Z"
   },
   {
    "duration": 73,
    "start_time": "2024-03-29T09:45:55.768Z"
   },
   {
    "duration": 18,
    "start_time": "2024-03-29T09:45:55.843Z"
   },
   {
    "duration": 12,
    "start_time": "2024-03-29T09:45:55.863Z"
   },
   {
    "duration": 16,
    "start_time": "2024-03-29T09:45:55.877Z"
   },
   {
    "duration": 15,
    "start_time": "2024-03-29T09:45:55.895Z"
   },
   {
    "duration": 13,
    "start_time": "2024-03-29T09:45:55.912Z"
   },
   {
    "duration": 40,
    "start_time": "2024-03-29T09:45:55.926Z"
   },
   {
    "duration": 13,
    "start_time": "2024-03-29T09:45:55.968Z"
   },
   {
    "duration": 7,
    "start_time": "2024-03-29T09:45:55.985Z"
   },
   {
    "duration": 19,
    "start_time": "2024-03-29T09:45:55.994Z"
   },
   {
    "duration": 8,
    "start_time": "2024-03-29T09:45:56.017Z"
   },
   {
    "duration": 39,
    "start_time": "2024-03-29T09:45:56.026Z"
   },
   {
    "duration": 6,
    "start_time": "2024-03-29T09:45:56.067Z"
   },
   {
    "duration": 11,
    "start_time": "2024-03-29T09:45:56.074Z"
   },
   {
    "duration": 12,
    "start_time": "2024-03-29T09:45:56.086Z"
   },
   {
    "duration": 5,
    "start_time": "2024-03-29T09:45:56.099Z"
   },
   {
    "duration": 8,
    "start_time": "2024-03-29T09:45:56.105Z"
   },
   {
    "duration": 6,
    "start_time": "2024-03-29T09:45:56.115Z"
   },
   {
    "duration": 45,
    "start_time": "2024-03-29T09:45:56.123Z"
   },
   {
    "duration": 11,
    "start_time": "2024-03-29T09:45:56.170Z"
   },
   {
    "duration": 10,
    "start_time": "2024-03-29T09:45:56.182Z"
   },
   {
    "duration": 12,
    "start_time": "2024-03-29T09:45:56.194Z"
   },
   {
    "duration": 7,
    "start_time": "2024-03-29T09:45:56.207Z"
   },
   {
    "duration": 8,
    "start_time": "2024-03-29T09:45:56.216Z"
   },
   {
    "duration": 15,
    "start_time": "2024-03-29T09:45:56.225Z"
   },
   {
    "duration": 174,
    "start_time": "2024-03-29T09:45:56.243Z"
   },
   {
    "duration": 3,
    "start_time": "2024-03-29T09:45:56.421Z"
   },
   {
    "duration": 94,
    "start_time": "2024-03-29T09:45:56.426Z"
   },
   {
    "duration": 175,
    "start_time": "2024-03-29T09:45:56.521Z"
   },
   {
    "duration": 8,
    "start_time": "2024-03-29T09:45:56.698Z"
   },
   {
    "duration": 14,
    "start_time": "2024-03-29T09:45:56.707Z"
   },
   {
    "duration": 305,
    "start_time": "2024-03-29T09:45:56.723Z"
   },
   {
    "duration": 9,
    "start_time": "2024-03-29T09:45:57.030Z"
   },
   {
    "duration": 5,
    "start_time": "2024-03-29T09:45:57.041Z"
   },
   {
    "duration": 243,
    "start_time": "2024-03-29T09:45:57.048Z"
   },
   {
    "duration": 9,
    "start_time": "2024-03-29T09:45:57.292Z"
   },
   {
    "duration": 133,
    "start_time": "2024-03-29T09:45:57.302Z"
   },
   {
    "duration": 16,
    "start_time": "2024-03-29T09:45:57.437Z"
   },
   {
    "duration": 135,
    "start_time": "2024-03-29T09:45:57.454Z"
   },
   {
    "duration": 3,
    "start_time": "2024-03-29T09:45:57.591Z"
   },
   {
    "duration": 10,
    "start_time": "2024-03-29T09:45:57.595Z"
   },
   {
    "duration": 19,
    "start_time": "2024-03-29T09:45:57.606Z"
   },
   {
    "duration": 18,
    "start_time": "2024-03-29T09:45:57.627Z"
   },
   {
    "duration": 19,
    "start_time": "2024-03-29T09:45:57.666Z"
   },
   {
    "duration": 4,
    "start_time": "2024-03-29T09:45:57.686Z"
   },
   {
    "duration": 273,
    "start_time": "2024-03-29T09:45:57.692Z"
   },
   {
    "duration": 164,
    "start_time": "2024-03-29T09:45:57.967Z"
   },
   {
    "duration": 152,
    "start_time": "2024-03-29T09:45:58.133Z"
   },
   {
    "duration": 138,
    "start_time": "2024-03-29T09:45:58.287Z"
   },
   {
    "duration": 444,
    "start_time": "2024-03-29T09:45:58.427Z"
   },
   {
    "duration": 11,
    "start_time": "2024-03-29T09:45:58.873Z"
   },
   {
    "duration": 544,
    "start_time": "2024-03-29T09:45:58.886Z"
   },
   {
    "duration": 12,
    "start_time": "2024-03-29T09:45:59.431Z"
   },
   {
    "duration": 38,
    "start_time": "2024-03-29T09:45:59.444Z"
   },
   {
    "duration": 860,
    "start_time": "2024-03-29T09:45:59.483Z"
   },
   {
    "duration": 160,
    "start_time": "2024-03-29T09:46:00.344Z"
   },
   {
    "duration": 49,
    "start_time": "2024-03-29T09:46:00.505Z"
   },
   {
    "duration": 76,
    "start_time": "2024-03-29T09:46:00.556Z"
   },
   {
    "duration": 86,
    "start_time": "2024-03-29T09:46:00.634Z"
   },
   {
    "duration": 115,
    "start_time": "2024-03-29T09:46:00.724Z"
   },
   {
    "duration": 391,
    "start_time": "2024-03-29T09:46:00.841Z"
   },
   {
    "duration": 5,
    "start_time": "2024-03-29T09:46:01.233Z"
   },
   {
    "duration": 1234,
    "start_time": "2024-03-29T10:34:16.027Z"
   },
   {
    "duration": 69,
    "start_time": "2024-03-29T10:34:17.263Z"
   },
   {
    "duration": 16,
    "start_time": "2024-03-29T10:34:17.334Z"
   },
   {
    "duration": 11,
    "start_time": "2024-03-29T10:34:17.352Z"
   },
   {
    "duration": 21,
    "start_time": "2024-03-29T10:34:17.364Z"
   },
   {
    "duration": 30,
    "start_time": "2024-03-29T10:34:17.387Z"
   },
   {
    "duration": 7,
    "start_time": "2024-03-29T10:34:17.418Z"
   },
   {
    "duration": 24,
    "start_time": "2024-03-29T10:34:17.426Z"
   },
   {
    "duration": 14,
    "start_time": "2024-03-29T10:34:17.452Z"
   },
   {
    "duration": 17,
    "start_time": "2024-03-29T10:34:17.469Z"
   },
   {
    "duration": 39,
    "start_time": "2024-03-29T10:34:17.488Z"
   },
   {
    "duration": 8,
    "start_time": "2024-03-29T10:34:17.529Z"
   },
   {
    "duration": 21,
    "start_time": "2024-03-29T10:34:17.540Z"
   },
   {
    "duration": 8,
    "start_time": "2024-03-29T10:34:17.567Z"
   },
   {
    "duration": 9,
    "start_time": "2024-03-29T10:34:17.576Z"
   },
   {
    "duration": 8,
    "start_time": "2024-03-29T10:34:17.587Z"
   },
   {
    "duration": 6,
    "start_time": "2024-03-29T10:34:17.597Z"
   },
   {
    "duration": 11,
    "start_time": "2024-03-29T10:34:17.605Z"
   },
   {
    "duration": 5,
    "start_time": "2024-03-29T10:34:17.618Z"
   },
   {
    "duration": 43,
    "start_time": "2024-03-29T10:34:17.624Z"
   },
   {
    "duration": 16,
    "start_time": "2024-03-29T10:34:17.668Z"
   },
   {
    "duration": 23,
    "start_time": "2024-03-29T10:34:17.686Z"
   },
   {
    "duration": 9,
    "start_time": "2024-03-29T10:34:17.711Z"
   },
   {
    "duration": 9,
    "start_time": "2024-03-29T10:34:17.722Z"
   },
   {
    "duration": 7,
    "start_time": "2024-03-29T10:34:17.733Z"
   },
   {
    "duration": 26,
    "start_time": "2024-03-29T10:34:17.742Z"
   },
   {
    "duration": 171,
    "start_time": "2024-03-29T10:34:17.770Z"
   },
   {
    "duration": 4,
    "start_time": "2024-03-29T10:34:17.947Z"
   },
   {
    "duration": 100,
    "start_time": "2024-03-29T10:34:17.953Z"
   },
   {
    "duration": 182,
    "start_time": "2024-03-29T10:34:18.055Z"
   },
   {
    "duration": 8,
    "start_time": "2024-03-29T10:34:18.238Z"
   },
   {
    "duration": 18,
    "start_time": "2024-03-29T10:34:18.248Z"
   },
   {
    "duration": 310,
    "start_time": "2024-03-29T10:34:18.268Z"
   },
   {
    "duration": 9,
    "start_time": "2024-03-29T10:34:18.580Z"
   },
   {
    "duration": 8,
    "start_time": "2024-03-29T10:34:18.590Z"
   },
   {
    "duration": 246,
    "start_time": "2024-03-29T10:34:18.599Z"
   },
   {
    "duration": 20,
    "start_time": "2024-03-29T10:34:18.847Z"
   },
   {
    "duration": 146,
    "start_time": "2024-03-29T10:34:18.869Z"
   },
   {
    "duration": 20,
    "start_time": "2024-03-29T10:34:19.017Z"
   },
   {
    "duration": 133,
    "start_time": "2024-03-29T10:34:19.039Z"
   },
   {
    "duration": 4,
    "start_time": "2024-03-29T10:34:19.173Z"
   },
   {
    "duration": 26,
    "start_time": "2024-03-29T10:34:19.179Z"
   },
   {
    "duration": 27,
    "start_time": "2024-03-29T10:34:19.207Z"
   },
   {
    "duration": 22,
    "start_time": "2024-03-29T10:34:19.236Z"
   },
   {
    "duration": 22,
    "start_time": "2024-03-29T10:34:19.265Z"
   },
   {
    "duration": 5,
    "start_time": "2024-03-29T10:34:19.289Z"
   },
   {
    "duration": 285,
    "start_time": "2024-03-29T10:34:19.298Z"
   },
   {
    "duration": 167,
    "start_time": "2024-03-29T10:34:19.585Z"
   },
   {
    "duration": 157,
    "start_time": "2024-03-29T10:34:19.754Z"
   },
   {
    "duration": 147,
    "start_time": "2024-03-29T10:34:19.913Z"
   },
   {
    "duration": 450,
    "start_time": "2024-03-29T10:34:20.062Z"
   },
   {
    "duration": 11,
    "start_time": "2024-03-29T10:34:20.513Z"
   },
   {
    "duration": 592,
    "start_time": "2024-03-29T10:34:20.526Z"
   },
   {
    "duration": 12,
    "start_time": "2024-03-29T10:34:21.119Z"
   },
   {
    "duration": 49,
    "start_time": "2024-03-29T10:34:21.133Z"
   },
   {
    "duration": 831,
    "start_time": "2024-03-29T10:34:21.184Z"
   },
   {
    "duration": 157,
    "start_time": "2024-03-29T10:34:22.017Z"
   },
   {
    "duration": 10,
    "start_time": "2024-03-29T10:34:22.176Z"
   },
   {
    "duration": 17,
    "start_time": "2024-03-29T10:34:22.189Z"
   },
   {
    "duration": 37,
    "start_time": "2024-03-29T10:34:22.208Z"
   },
   {
    "duration": 50,
    "start_time": "2024-03-29T10:34:22.248Z"
   },
   {
    "duration": 311,
    "start_time": "2024-03-29T10:34:22.300Z"
   },
   {
    "duration": 5,
    "start_time": "2024-03-29T10:34:22.613Z"
   },
   {
    "duration": 56,
    "start_time": "2024-03-29T10:52:25.838Z"
   },
   {
    "duration": 1314,
    "start_time": "2024-03-29T10:52:40.589Z"
   },
   {
    "duration": 203,
    "start_time": "2024-03-29T10:52:41.905Z"
   },
   {
    "duration": 17,
    "start_time": "2024-03-29T10:52:42.109Z"
   },
   {
    "duration": 11,
    "start_time": "2024-03-29T10:52:42.128Z"
   },
   {
    "duration": 13,
    "start_time": "2024-03-29T10:52:42.141Z"
   },
   {
    "duration": 16,
    "start_time": "2024-03-29T10:52:42.156Z"
   },
   {
    "duration": 7,
    "start_time": "2024-03-29T10:52:42.173Z"
   },
   {
    "duration": 33,
    "start_time": "2024-03-29T10:52:42.182Z"
   },
   {
    "duration": 20,
    "start_time": "2024-03-29T10:52:42.217Z"
   },
   {
    "duration": 8,
    "start_time": "2024-03-29T10:52:42.238Z"
   },
   {
    "duration": 18,
    "start_time": "2024-03-29T10:52:42.247Z"
   },
   {
    "duration": 5,
    "start_time": "2024-03-29T10:52:42.266Z"
   },
   {
    "duration": 7,
    "start_time": "2024-03-29T10:52:42.273Z"
   },
   {
    "duration": 5,
    "start_time": "2024-03-29T10:52:42.284Z"
   },
   {
    "duration": 12,
    "start_time": "2024-03-29T10:52:42.291Z"
   },
   {
    "duration": 7,
    "start_time": "2024-03-29T10:52:42.305Z"
   },
   {
    "duration": 6,
    "start_time": "2024-03-29T10:52:42.313Z"
   },
   {
    "duration": 6,
    "start_time": "2024-03-29T10:52:42.320Z"
   },
   {
    "duration": 4,
    "start_time": "2024-03-29T10:52:42.328Z"
   },
   {
    "duration": 5,
    "start_time": "2024-03-29T10:52:42.333Z"
   },
   {
    "duration": 43,
    "start_time": "2024-03-29T10:52:42.340Z"
   },
   {
    "duration": 14,
    "start_time": "2024-03-29T10:52:42.384Z"
   },
   {
    "duration": 8,
    "start_time": "2024-03-29T10:52:42.400Z"
   },
   {
    "duration": 5,
    "start_time": "2024-03-29T10:52:42.409Z"
   },
   {
    "duration": 6,
    "start_time": "2024-03-29T10:52:42.416Z"
   },
   {
    "duration": 11,
    "start_time": "2024-03-29T10:52:42.424Z"
   },
   {
    "duration": 184,
    "start_time": "2024-03-29T10:52:42.437Z"
   },
   {
    "duration": 3,
    "start_time": "2024-03-29T10:52:42.622Z"
   },
   {
    "duration": 94,
    "start_time": "2024-03-29T10:52:42.627Z"
   },
   {
    "duration": 195,
    "start_time": "2024-03-29T10:52:42.723Z"
   },
   {
    "duration": 8,
    "start_time": "2024-03-29T10:52:42.919Z"
   },
   {
    "duration": 8,
    "start_time": "2024-03-29T10:52:42.928Z"
   },
   {
    "duration": 338,
    "start_time": "2024-03-29T10:52:42.937Z"
   },
   {
    "duration": 11,
    "start_time": "2024-03-29T10:52:43.277Z"
   },
   {
    "duration": 6,
    "start_time": "2024-03-29T10:52:43.289Z"
   },
   {
    "duration": 223,
    "start_time": "2024-03-29T10:52:43.296Z"
   },
   {
    "duration": 8,
    "start_time": "2024-03-29T10:52:43.520Z"
   },
   {
    "duration": 125,
    "start_time": "2024-03-29T10:52:43.529Z"
   },
   {
    "duration": 14,
    "start_time": "2024-03-29T10:52:43.656Z"
   },
   {
    "duration": 92,
    "start_time": "2024-03-29T10:52:43.682Z"
   },
   {
    "duration": 3,
    "start_time": "2024-03-29T10:52:43.785Z"
   },
   {
    "duration": 9,
    "start_time": "2024-03-29T10:52:43.789Z"
   },
   {
    "duration": 11,
    "start_time": "2024-03-29T10:52:43.799Z"
   },
   {
    "duration": 17,
    "start_time": "2024-03-29T10:52:43.812Z"
   },
   {
    "duration": 17,
    "start_time": "2024-03-29T10:52:43.831Z"
   },
   {
    "duration": 35,
    "start_time": "2024-03-29T10:52:43.849Z"
   },
   {
    "duration": 262,
    "start_time": "2024-03-29T10:52:43.886Z"
   },
   {
    "duration": 187,
    "start_time": "2024-03-29T10:52:44.151Z"
   },
   {
    "duration": 258,
    "start_time": "2024-03-29T10:52:44.339Z"
   },
   {
    "duration": 287,
    "start_time": "2024-03-29T10:52:44.598Z"
   },
   {
    "duration": 896,
    "start_time": "2024-03-29T10:52:44.886Z"
   },
   {
    "duration": 11,
    "start_time": "2024-03-29T10:52:45.784Z"
   },
   {
    "duration": 1022,
    "start_time": "2024-03-29T10:52:45.796Z"
   },
   {
    "duration": 64,
    "start_time": "2024-03-29T10:52:46.819Z"
   },
   {
    "duration": 26,
    "start_time": "2024-03-29T10:52:46.884Z"
   },
   {
    "duration": 1019,
    "start_time": "2024-03-29T10:52:46.912Z"
   },
   {
    "duration": 166,
    "start_time": "2024-03-29T10:52:47.932Z"
   },
   {
    "duration": 9,
    "start_time": "2024-03-29T10:52:48.100Z"
   },
   {
    "duration": 5,
    "start_time": "2024-03-29T10:52:48.111Z"
   },
   {
    "duration": 7,
    "start_time": "2024-03-29T10:52:48.117Z"
   },
   {
    "duration": 13,
    "start_time": "2024-03-29T10:52:48.126Z"
   },
   {
    "duration": 354,
    "start_time": "2024-03-29T10:52:48.141Z"
   },
   {
    "duration": 6,
    "start_time": "2024-03-29T10:52:48.496Z"
   },
   {
    "duration": 112,
    "start_time": "2024-03-29T10:53:07.532Z"
   },
   {
    "duration": 18,
    "start_time": "2024-03-29T10:53:20.381Z"
   },
   {
    "duration": 798,
    "start_time": "2024-03-29T10:56:01.740Z"
   },
   {
    "duration": 4,
    "start_time": "2024-03-29T10:57:23.423Z"
   },
   {
    "duration": 18,
    "start_time": "2024-03-29T10:57:48.101Z"
   },
   {
    "duration": 9,
    "start_time": "2024-03-29T10:59:19.386Z"
   },
   {
    "duration": 1159,
    "start_time": "2024-03-29T11:25:09.305Z"
   },
   {
    "duration": 70,
    "start_time": "2024-03-29T11:25:10.466Z"
   },
   {
    "duration": 15,
    "start_time": "2024-03-29T11:25:10.538Z"
   },
   {
    "duration": 11,
    "start_time": "2024-03-29T11:25:10.555Z"
   },
   {
    "duration": 26,
    "start_time": "2024-03-29T11:25:10.567Z"
   },
   {
    "duration": 11,
    "start_time": "2024-03-29T11:25:10.595Z"
   },
   {
    "duration": 7,
    "start_time": "2024-03-29T11:25:10.607Z"
   },
   {
    "duration": 10,
    "start_time": "2024-03-29T11:25:10.615Z"
   },
   {
    "duration": 11,
    "start_time": "2024-03-29T11:25:10.626Z"
   },
   {
    "duration": 26,
    "start_time": "2024-03-29T11:25:10.639Z"
   },
   {
    "duration": 14,
    "start_time": "2024-03-29T11:25:10.667Z"
   },
   {
    "duration": 5,
    "start_time": "2024-03-29T11:25:10.683Z"
   },
   {
    "duration": 9,
    "start_time": "2024-03-29T11:25:10.689Z"
   },
   {
    "duration": 5,
    "start_time": "2024-03-29T11:25:10.699Z"
   },
   {
    "duration": 7,
    "start_time": "2024-03-29T11:25:10.706Z"
   },
   {
    "duration": 6,
    "start_time": "2024-03-29T11:25:10.714Z"
   },
   {
    "duration": 45,
    "start_time": "2024-03-29T11:25:10.721Z"
   },
   {
    "duration": 6,
    "start_time": "2024-03-29T11:25:10.768Z"
   },
   {
    "duration": 8,
    "start_time": "2024-03-29T11:25:10.776Z"
   },
   {
    "duration": 5,
    "start_time": "2024-03-29T11:25:10.786Z"
   },
   {
    "duration": 6,
    "start_time": "2024-03-29T11:25:10.793Z"
   },
   {
    "duration": 11,
    "start_time": "2024-03-29T11:25:10.800Z"
   },
   {
    "duration": 8,
    "start_time": "2024-03-29T11:25:10.813Z"
   },
   {
    "duration": 7,
    "start_time": "2024-03-29T11:25:10.823Z"
   },
   {
    "duration": 38,
    "start_time": "2024-03-29T11:25:10.831Z"
   },
   {
    "duration": 9,
    "start_time": "2024-03-29T11:25:10.871Z"
   },
   {
    "duration": 161,
    "start_time": "2024-03-29T11:25:10.881Z"
   },
   {
    "duration": 3,
    "start_time": "2024-03-29T11:25:11.046Z"
   },
   {
    "duration": 85,
    "start_time": "2024-03-29T11:25:11.051Z"
   },
   {
    "duration": 172,
    "start_time": "2024-03-29T11:25:11.138Z"
   },
   {
    "duration": 7,
    "start_time": "2024-03-29T11:25:11.312Z"
   },
   {
    "duration": 10,
    "start_time": "2024-03-29T11:25:11.320Z"
   },
   {
    "duration": 297,
    "start_time": "2024-03-29T11:25:11.331Z"
   },
   {
    "duration": 8,
    "start_time": "2024-03-29T11:25:11.630Z"
   },
   {
    "duration": 5,
    "start_time": "2024-03-29T11:25:11.639Z"
   },
   {
    "duration": 217,
    "start_time": "2024-03-29T11:25:11.665Z"
   },
   {
    "duration": 8,
    "start_time": "2024-03-29T11:25:11.884Z"
   },
   {
    "duration": 132,
    "start_time": "2024-03-29T11:25:11.894Z"
   },
   {
    "duration": 15,
    "start_time": "2024-03-29T11:25:12.028Z"
   },
   {
    "duration": 102,
    "start_time": "2024-03-29T11:25:12.045Z"
   },
   {
    "duration": 4,
    "start_time": "2024-03-29T11:25:12.149Z"
   },
   {
    "duration": 9,
    "start_time": "2024-03-29T11:25:12.166Z"
   },
   {
    "duration": 12,
    "start_time": "2024-03-29T11:25:12.177Z"
   },
   {
    "duration": 18,
    "start_time": "2024-03-29T11:25:12.191Z"
   },
   {
    "duration": 17,
    "start_time": "2024-03-29T11:25:12.210Z"
   },
   {
    "duration": 4,
    "start_time": "2024-03-29T11:25:12.228Z"
   },
   {
    "duration": 282,
    "start_time": "2024-03-29T11:25:12.233Z"
   },
   {
    "duration": 157,
    "start_time": "2024-03-29T11:25:12.516Z"
   },
   {
    "duration": 141,
    "start_time": "2024-03-29T11:25:12.675Z"
   },
   {
    "duration": 138,
    "start_time": "2024-03-29T11:25:12.818Z"
   },
   {
    "duration": 469,
    "start_time": "2024-03-29T11:25:12.957Z"
   },
   {
    "duration": 11,
    "start_time": "2024-03-29T11:25:13.428Z"
   },
   {
    "duration": 496,
    "start_time": "2024-03-29T11:25:13.441Z"
   },
   {
    "duration": 10,
    "start_time": "2024-03-29T11:25:13.938Z"
   },
   {
    "duration": 41,
    "start_time": "2024-03-29T11:25:13.950Z"
   },
   {
    "duration": 859,
    "start_time": "2024-03-29T11:25:13.993Z"
   },
   {
    "duration": 154,
    "start_time": "2024-03-29T11:25:14.854Z"
   },
   {
    "duration": 7,
    "start_time": "2024-03-29T11:25:15.010Z"
   },
   {
    "duration": 44,
    "start_time": "2024-03-29T11:25:15.019Z"
   },
   {
    "duration": 85,
    "start_time": "2024-03-29T11:25:15.065Z"
   },
   {
    "duration": 44,
    "start_time": "2024-03-29T11:25:15.152Z"
   },
   {
    "duration": 346,
    "start_time": "2024-03-29T11:25:15.197Z"
   },
   {
    "duration": 5,
    "start_time": "2024-03-29T11:25:15.544Z"
   },
   {
    "duration": 1142,
    "start_time": "2024-03-29T11:26:45.193Z"
   },
   {
    "duration": 68,
    "start_time": "2024-03-29T11:26:46.337Z"
   },
   {
    "duration": 15,
    "start_time": "2024-03-29T11:26:46.407Z"
   },
   {
    "duration": 10,
    "start_time": "2024-03-29T11:26:46.424Z"
   },
   {
    "duration": 34,
    "start_time": "2024-03-29T11:26:46.435Z"
   },
   {
    "duration": 15,
    "start_time": "2024-03-29T11:26:46.470Z"
   },
   {
    "duration": 6,
    "start_time": "2024-03-29T11:26:46.487Z"
   },
   {
    "duration": 17,
    "start_time": "2024-03-29T11:26:46.495Z"
   },
   {
    "duration": 10,
    "start_time": "2024-03-29T11:26:46.514Z"
   },
   {
    "duration": 7,
    "start_time": "2024-03-29T11:26:46.526Z"
   },
   {
    "duration": 32,
    "start_time": "2024-03-29T11:26:46.534Z"
   },
   {
    "duration": 6,
    "start_time": "2024-03-29T11:26:46.568Z"
   },
   {
    "duration": 39,
    "start_time": "2024-03-29T11:26:46.575Z"
   },
   {
    "duration": 5,
    "start_time": "2024-03-29T11:26:46.615Z"
   },
   {
    "duration": 29,
    "start_time": "2024-03-29T11:26:46.622Z"
   },
   {
    "duration": 13,
    "start_time": "2024-03-29T11:26:46.652Z"
   },
   {
    "duration": 25,
    "start_time": "2024-03-29T11:26:46.666Z"
   },
   {
    "duration": 7,
    "start_time": "2024-03-29T11:26:46.692Z"
   },
   {
    "duration": 4,
    "start_time": "2024-03-29T11:26:46.701Z"
   },
   {
    "duration": 5,
    "start_time": "2024-03-29T11:26:46.706Z"
   },
   {
    "duration": 6,
    "start_time": "2024-03-29T11:26:46.713Z"
   },
   {
    "duration": 8,
    "start_time": "2024-03-29T11:26:46.720Z"
   },
   {
    "duration": 8,
    "start_time": "2024-03-29T11:26:46.730Z"
   },
   {
    "duration": 26,
    "start_time": "2024-03-29T11:26:46.739Z"
   },
   {
    "duration": 5,
    "start_time": "2024-03-29T11:26:46.767Z"
   },
   {
    "duration": 18,
    "start_time": "2024-03-29T11:26:46.774Z"
   },
   {
    "duration": 156,
    "start_time": "2024-03-29T11:26:46.794Z"
   },
   {
    "duration": 3,
    "start_time": "2024-03-29T11:26:46.954Z"
   },
   {
    "duration": 91,
    "start_time": "2024-03-29T11:26:46.959Z"
   },
   {
    "duration": 172,
    "start_time": "2024-03-29T11:26:47.051Z"
   },
   {
    "duration": 8,
    "start_time": "2024-03-29T11:26:47.224Z"
   },
   {
    "duration": 16,
    "start_time": "2024-03-29T11:26:47.234Z"
   },
   {
    "duration": 316,
    "start_time": "2024-03-29T11:26:47.251Z"
   },
   {
    "duration": 8,
    "start_time": "2024-03-29T11:26:47.569Z"
   },
   {
    "duration": 31,
    "start_time": "2024-03-29T11:26:47.578Z"
   },
   {
    "duration": 247,
    "start_time": "2024-03-29T11:26:47.611Z"
   },
   {
    "duration": 12,
    "start_time": "2024-03-29T11:26:47.860Z"
   },
   {
    "duration": 126,
    "start_time": "2024-03-29T11:26:47.873Z"
   },
   {
    "duration": 16,
    "start_time": "2024-03-29T11:26:48.000Z"
   },
   {
    "duration": 113,
    "start_time": "2024-03-29T11:26:48.018Z"
   },
   {
    "duration": 4,
    "start_time": "2024-03-29T11:26:48.133Z"
   },
   {
    "duration": 17,
    "start_time": "2024-03-29T11:26:48.139Z"
   },
   {
    "duration": 19,
    "start_time": "2024-03-29T11:26:48.164Z"
   },
   {
    "duration": 27,
    "start_time": "2024-03-29T11:26:48.184Z"
   },
   {
    "duration": 19,
    "start_time": "2024-03-29T11:26:48.212Z"
   },
   {
    "duration": 5,
    "start_time": "2024-03-29T11:26:48.232Z"
   },
   {
    "duration": 260,
    "start_time": "2024-03-29T11:26:48.238Z"
   },
   {
    "duration": 165,
    "start_time": "2024-03-29T11:26:48.500Z"
   },
   {
    "duration": 172,
    "start_time": "2024-03-29T11:26:48.667Z"
   },
   {
    "duration": 149,
    "start_time": "2024-03-29T11:26:48.841Z"
   },
   {
    "duration": 459,
    "start_time": "2024-03-29T11:26:48.992Z"
   },
   {
    "duration": 17,
    "start_time": "2024-03-29T11:26:49.453Z"
   },
   {
    "duration": 536,
    "start_time": "2024-03-29T11:26:49.472Z"
   },
   {
    "duration": 13,
    "start_time": "2024-03-29T11:26:50.010Z"
   },
   {
    "duration": 36,
    "start_time": "2024-03-29T11:26:50.024Z"
   },
   {
    "duration": 884,
    "start_time": "2024-03-29T11:26:50.062Z"
   },
   {
    "duration": 155,
    "start_time": "2024-03-29T11:26:50.947Z"
   },
   {
    "duration": 7,
    "start_time": "2024-03-29T11:26:51.104Z"
   },
   {
    "duration": 15,
    "start_time": "2024-03-29T11:26:51.113Z"
   },
   {
    "duration": 5,
    "start_time": "2024-03-29T11:26:51.129Z"
   },
   {
    "duration": 16,
    "start_time": "2024-03-29T11:26:51.135Z"
   },
   {
    "duration": 270,
    "start_time": "2024-03-29T11:26:51.152Z"
   },
   {
    "duration": 5,
    "start_time": "2024-03-29T11:26:51.423Z"
   }
  ],
  "kernelspec": {
   "display_name": "Python 3 (ipykernel)",
   "language": "python",
   "name": "python3"
  },
  "language_info": {
   "codemirror_mode": {
    "name": "ipython",
    "version": 3
   },
   "file_extension": ".py",
   "mimetype": "text/x-python",
   "name": "python",
   "nbconvert_exporter": "python",
   "pygments_lexer": "ipython3",
   "version": "3.12.4"
  },
  "toc": {
   "base_numbering": 1,
   "nav_menu": {},
   "number_sections": true,
   "sideBar": true,
   "skip_h1_title": true,
   "title_cell": "Table of Contents",
   "title_sidebar": "Contents",
   "toc_cell": false,
   "toc_position": {
    "height": "calc(100% - 180px)",
    "left": "10px",
    "top": "150px",
    "width": "165px"
   },
   "toc_section_display": true,
   "toc_window_display": true
  }
 },
 "nbformat": 4,
 "nbformat_minor": 5
}
